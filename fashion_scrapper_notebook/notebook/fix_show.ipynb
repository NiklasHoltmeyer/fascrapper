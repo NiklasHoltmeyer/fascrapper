{
 "cells": [
  {
   "cell_type": "code",
   "execution_count": 16,
   "id": "6a2bf4d6",
   "metadata": {},
   "outputs": [
    {
     "name": "stderr",
     "output_type": "stream",
     "text": [
      "WARNING: Ignoring invalid distribution -dm (c:\\programdata\\miniconda3\\lib\\site-packages)\n",
      "WARNING: Ignoring invalid distribution -umpy (c:\\programdata\\miniconda3\\lib\\site-packages)\n",
      "WARNING: Ignoring invalid distribution -udioengine (c:\\programdata\\miniconda3\\lib\\site-packages)\n",
      "WARNING: Ignoring invalid distribution -qdm (c:\\programdata\\miniconda3\\lib\\site-packages)\n",
      "WARNING: Ignoring invalid distribution - (c:\\programdata\\miniconda3\\lib\\site-packages)\n",
      "WARNING: Ignoring invalid distribution -arkupsafe (c:\\programdata\\miniconda3\\lib\\site-packages)\n",
      "ERROR: File \"setup.py\" or \"setup.cfg\" not found. Directory cannot be installed in editable mode: F:\\workspace\\fascrapper\\fashion_scrapper_notebook\\notebook\n",
      "WARNING: Ignoring invalid distribution -dm (c:\\programdata\\miniconda3\\lib\\site-packages)\n",
      "WARNING: Ignoring invalid distribution -umpy (c:\\programdata\\miniconda3\\lib\\site-packages)\n",
      "WARNING: Ignoring invalid distribution -udioengine (c:\\programdata\\miniconda3\\lib\\site-packages)\n",
      "WARNING: Ignoring invalid distribution -qdm (c:\\programdata\\miniconda3\\lib\\site-packages)\n",
      "WARNING: Ignoring invalid distribution - (c:\\programdata\\miniconda3\\lib\\site-packages)\n",
      "WARNING: Ignoring invalid distribution -arkupsafe (c:\\programdata\\miniconda3\\lib\\site-packages)\n",
      "WARNING: Ignoring invalid distribution -dm (c:\\programdata\\miniconda3\\lib\\site-packages)\n",
      "WARNING: Ignoring invalid distribution -umpy (c:\\programdata\\miniconda3\\lib\\site-packages)\n",
      "WARNING: Ignoring invalid distribution -udioengine (c:\\programdata\\miniconda3\\lib\\site-packages)\n",
      "WARNING: Ignoring invalid distribution -qdm (c:\\programdata\\miniconda3\\lib\\site-packages)\n",
      "WARNING: Ignoring invalid distribution - (c:\\programdata\\miniconda3\\lib\\site-packages)\n",
      "WARNING: Ignoring invalid distribution -arkupsafe (c:\\programdata\\miniconda3\\lib\\site-packages)\n",
      "WARNING: Ignoring invalid distribution -dm (c:\\programdata\\miniconda3\\lib\\site-packages)\n",
      "WARNING: Ignoring invalid distribution -umpy (c:\\programdata\\miniconda3\\lib\\site-packages)\n",
      "WARNING: Ignoring invalid distribution -udioengine (c:\\programdata\\miniconda3\\lib\\site-packages)\n",
      "WARNING: Ignoring invalid distribution -qdm (c:\\programdata\\miniconda3\\lib\\site-packages)\n",
      "WARNING: Ignoring invalid distribution - (c:\\programdata\\miniconda3\\lib\\site-packages)\n",
      "WARNING: Ignoring invalid distribution -arkupsafe (c:\\programdata\\miniconda3\\lib\\site-packages)\n"
     ]
    }
   ],
   "source": [
    "!cd F:\\workspace\\fascrapper\\fashion_scrapper\n",
    "!pip install -e ."
   ]
  },
  {
   "cell_type": "code",
   "execution_count": 17,
   "id": "5aae206b",
   "metadata": {},
   "outputs": [],
   "source": [
    "from scrapper.brand.asos.Asos import Asos\n",
    "from scrapper.util.web.dynamic import driver as d_driver"
   ]
  },
  {
   "cell_type": "code",
   "execution_count": 22,
   "id": "7202dd35",
   "metadata": {},
   "outputs": [],
   "source": [
    "link = links[0]"
   ]
  },
  {
   "cell_type": "code",
   "execution_count": 24,
   "id": "5fec5033",
   "metadata": {},
   "outputs": [],
   "source": [
    "driver = d_driver(headless=False)\n",
    "asos = Asos(driver=driver)"
   ]
  },
  {
   "cell_type": "code",
   "execution_count": 26,
   "id": "85955c79",
   "metadata": {},
   "outputs": [
    {
     "data": {
      "text/plain": [
       "{'name': 'Lacoste long sleeve shirt',\n",
       " 'color': 'BLACK',\n",
       " 'price': {'price': '70,00', 'currency': '£'},\n",
       " 'images': [{'url': 'https://images.asos-media.com/products/lacoste-long-sleeve-shirt/200494696-1-black',\n",
       "   'url_full': 'https://images.asos-media.com/products/lacoste-long-sleeve-shirt/200494696-1-black?$n_640w$&wid=513&fit=constrain',\n",
       "   'description': 'Lacoste long sleeve shirt, 1 of 4'},\n",
       "  {'url': 'https://images.asos-media.com/products/lacoste-long-sleeve-shirt/200494696-2',\n",
       "   'url_full': 'https://images.asos-media.com/products/lacoste-long-sleeve-shirt/200494696-2?$n_640w$&wid=513&fit=constrain',\n",
       "   'description': 'Lacoste long sleeve shirt, 2 of 4'},\n",
       "  {'url': 'https://images.asos-media.com/products/lacoste-long-sleeve-shirt/200494696-3',\n",
       "   'url_full': 'https://images.asos-media.com/products/lacoste-long-sleeve-shirt/200494696-3?$n_640w$&wid=513&fit=constrain',\n",
       "   'description': 'Lacoste long sleeve shirt, 3 of 4'},\n",
       "  {'url': 'https://images.asos-media.com/products/lacoste-long-sleeve-shirt/200494696-4',\n",
       "   'url_full': 'https://images.asos-media.com/products/lacoste-long-sleeve-shirt/200494696-4?$n_640w$&wid=513&fit=constrain',\n",
       "   'description': 'Lacoste long sleeve shirt, 4 of 4'}],\n",
       " 'related_items': ['https://www.asos.com/lacoste/lacoste-long-sleeve-shirt/prd/200491532?ctaref=we+recommend+carousel_0&featureref1=we+recommend+pers',\n",
       "  'https://www.asos.com/lacoste/lacoste-long-sleeve-shirt/prd/200499068?ctaref=we+recommend+carousel_1&featureref1=we+recommend+pers',\n",
       "  'https://www.asos.com/lacoste/lacoste-stripe-pocket-long-sleeve-shirt/prd/200499114?ctaref=we+recommend+carousel_2&featureref1=we+recommend+pers',\n",
       "  'https://www.asos.com/lacoste/lacoste-print-long-sleeve-shirt/prd/200499084?ctaref=we+recommend+carousel_3&featureref1=we+recommend+pers',\n",
       "  'https://www.asos.com/lacoste/lacoste-pocket-long-sleeve-shirt/prd/200499371?ctaref=we+recommend+carousel_4&featureref1=we+recommend+pers',\n",
       "  'https://www.asos.com/lacoste/lacoste-long-sleeve-shirt/prd/200498505?ctaref=we+recommend+carousel_5&featureref1=we+recommend+pers',\n",
       "  'https://www.asos.com/lacoste/lacoste-check-long-sleeve-shirt/prd/200499167?ctaref=we+recommend+carousel_6&featureref1=we+recommend+pers',\n",
       "  'https://www.asos.com/lacoste/lacoste-long-sleeve-shirt/prd/200493567?ctaref=we+recommend+carousel_7&featureref1=we+recommend+pers',\n",
       "  'https://www.asos.com/lacoste/lacoste-colourblock-long-sleeve-shirt/prd/200491427?ctaref=we+recommend+carousel_8&featureref1=we+recommend+pers',\n",
       "  'https://www.asos.com/lacoste/lacoste-long-sleeve-shirt/prd/200499247?ctaref=we+recommend+carousel_9&featureref1=we+recommend+pers',\n",
       "  'https://www.asos.com/lacoste/lacoste-long-sleeve-shirt/prd/200495689?ctaref=we+recommend+carousel_10&featureref1=we+recommend+pers',\n",
       "  'https://www.asos.com/polo-ralph-lauren/polo-ralph-lauren-icon-logo-slim-fit-pique-shirt-buttondown-in-black-marl/prd/200777412?ctaref=we+recommend+carousel_11&featureref1=we+recommend+pers',\n",
       "  'https://www.asos.com/lacoste/lacoste-check-long-sleeve-shirt/prd/200498261?ctaref=we+recommend+carousel_12&featureref1=we+recommend+pers',\n",
       "  'https://www.asos.com/polo-ralph-lauren/polo-ralph-lauren-icon-logo-slim-fit-poplin-shirt-buttondown-in-beige/prd/200777810?ctaref=we+recommend+carousel_13&featureref1=we+recommend+pers',\n",
       "  'https://www.asos.com/asos-design/asos-design-slim-denim-shirt-with-grandad-collar-in-grey/prd/22960324?ctaref=we+recommend+carousel_14&featureref1=we+recommend+pers',\n",
       "  'https://www.asos.com/lacoste/lacoste-long-sleeve-shirt/prd/200491983?ctaref=we+recommend+carousel_15&featureref1=we+recommend+pers',\n",
       "  'https://www.asos.com/polo-ralph-lauren/polo-ralph-lauren-player-logo-slim-fit-poplin-shirt-button-down-in-navy/prd/24558465?ctaref=we+recommend+carousel_16&featureref1=we+recommend+pers',\n",
       "  'https://www.asos.com/selected-homme/selected-homme-brushed-large-check-shirt-in-brown-navy/prd/24338285?ctaref=we+recommend+carousel_17&featureref1=we+recommend+pers']}"
      ]
     },
     "execution_count": 26,
     "metadata": {},
     "output_type": "execute_result"
    }
   ],
   "source": [
    "asos.show(link)"
   ]
  }
 ],
 "metadata": {
  "kernelspec": {
   "display_name": "Python 3",
   "language": "python",
   "name": "python3"
  },
  "language_info": {
   "codemirror_mode": {
    "name": "ipython",
    "version": 3
   },
   "file_extension": ".py",
   "mimetype": "text/x-python",
   "name": "python",
   "nbconvert_exporter": "python",
   "pygments_lexer": "ipython3",
   "version": "3.8.5"
  }
 },
 "nbformat": 4,
 "nbformat_minor": 5
}
