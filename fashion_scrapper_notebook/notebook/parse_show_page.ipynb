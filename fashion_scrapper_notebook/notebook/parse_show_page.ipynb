{
 "cells": [
  {
   "cell_type": "code",
   "execution_count": 2,
   "id": "debb31fb",
   "metadata": {},
   "outputs": [],
   "source": [
    "from scrapper.brand.mango.Mango import Mango"
   ]
  },
  {
   "cell_type": "code",
   "execution_count": 3,
   "id": "87cf1092",
   "metadata": {},
   "outputs": [],
   "source": [
    "#Simple assignment\n",
    "from selenium.webdriver import Chrome\n",
    "from selenium.webdriver.common.keys import Keys\n",
    "import time \n",
    "\n",
    "driver = Chrome(\"C:\\selenium\\chromedriver.exe\")"
   ]
  },
  {
   "cell_type": "code",
   "execution_count": 4,
   "id": "dc581862",
   "metadata": {},
   "outputs": [],
   "source": [
    "url = \"https:/shop.mango.com/de/herren/t-shirts-unifarben/meliertes-strick-t-shirt_17010542.html\""
   ]
  },
  {
   "cell_type": "code",
   "execution_count": null,
   "id": "88836dce",
   "metadata": {},
   "outputs": [],
   "source": []
  },
  {
   "cell_type": "code",
   "execution_count": null,
   "id": "823d60c5",
   "metadata": {},
   "outputs": [],
   "source": [
    "id app ->  class product-detail-main\n",
    "-> div class=\"product-images product-images-js\""
   ]
  },
  {
   "cell_type": "code",
   "execution_count": 5,
   "id": "1c2a9ed7",
   "metadata": {},
   "outputs": [],
   "source": [
    "import requests"
   ]
  },
  {
   "cell_type": "code",
   "execution_count": 8,
   "id": "f37b32d8",
   "metadata": {},
   "outputs": [],
   "source": [
    "from bs4 import BeautifulSoup\n",
    "import time\n",
    "\n",
    "from bs4 import BeautifulSoup\n",
    "from selenium.webdriver.common.by import By\n",
    "from selenium.webdriver.common.by import By\n",
    "from selenium.webdriver.support import expected_conditions as EC\n",
    "\n",
    "from util.web.dynamic import wait, scroll_end_of_page\n",
    "\n",
    "\n",
    "\n",
    "from selenium.webdriver.support.ui import WebDriverWait\n",
    "from selenium.webdriver.common.by import By\n",
    "from selenium.webdriver.support import expected_conditions as EC\n"
   ]
  },
  {
   "cell_type": "code",
   "execution_count": 83,
   "id": "c851bcbb",
   "metadata": {},
   "outputs": [],
   "source": [
    "from urllib.parse import urlparse\n",
    "\n"
   ]
  },
  {
   "cell_type": "code",
   "execution_count": null,
   "id": "f160dcdb",
   "metadata": {},
   "outputs": [],
   "source": [
    "BASE_URL = \"https://shop.mango.com\" # überall ändern"
   ]
  },
  {
   "cell_type": "code",
   "execution_count": 84,
   "id": "71350706",
   "metadata": {},
   "outputs": [],
   "source": [
    "doc = load_html(url) # self\n",
    "article = item_info(doc)"
   ]
  },
  {
   "cell_type": "code",
   "execution_count": 85,
   "id": "52aaaf3e",
   "metadata": {},
   "outputs": [
    {
     "data": {
      "text/plain": [
       "{'name': 'Meliertes Strick-T-Shirt',\n",
       " 'color': 'Beige',\n",
       " 'price': {'value': '39,99', 'currency': '€'},\n",
       " 'images': [{'description': 'Mittlere Ansicht',\n",
       "   'description-full': 'Meliertes Strick-T-Shirt - Mittlere Ansicht',\n",
       "   'src-full': 'https://st.mngbcn.com/rcs/pics/static/T1/fotos/S20/17010542_08.jpg?ts=1626426327908&imwidth=385&imdensity=1',\n",
       "   'src': 'https://st.mngbcn.com/rcs/pics/static/T1/fotos/S20/17010542_08.jpg'},\n",
       "  {'description': 'Allgemeine Ansicht',\n",
       "   'description-full': 'Meliertes Strick-T-Shirt - Allgemeine Ansicht',\n",
       "   'src-full': 'https://st.mngbcn.com/rcs/pics/static/T1/fotos/outfit/S20/17010542_08-99999999_01.jpg?ts=1626426327908&imwidth=385&imdensity=1',\n",
       "   'src': 'https://st.mngbcn.com/rcs/pics/static/T1/fotos/outfit/S20/17010542_08-99999999_01.jpg'},\n",
       "  {'description': 'Rückseite des Artikels',\n",
       "   'description-full': 'Meliertes Strick-T-Shirt - Rückseite des Artikels',\n",
       "   'src-full': 'https://st.mngbcn.com/rcs/pics/static/T1/fotos/S20/17010542_08_R.jpg?ts=1626426327908&imwidth=385&imdensity=1',\n",
       "   'src': 'https://st.mngbcn.com/rcs/pics/static/T1/fotos/S20/17010542_08_R.jpg'},\n",
       "  {'description': 'Detail des Artikels 1',\n",
       "   'description-full': 'Meliertes Strick-T-Shirt - Detail des Artikels 1',\n",
       "   'src-full': 'https://st.mngbcn.com/rcs/pics/static/T1/fotos/S20/17010542_08_D1.jpg?ts=1626426327908&imwidth=385&imdensity=1',\n",
       "   'src': 'https://st.mngbcn.com/rcs/pics/static/T1/fotos/S20/17010542_08_D1.jpg'},\n",
       "  {'description': 'Detail des Artikels 5',\n",
       "   'description-full': 'Meliertes Strick-T-Shirt - Detail des Artikels 5',\n",
       "   'src-full': 'https://st.mngbcn.com/rcs/pics/static/T1/fotos/S20/17010542_08_D5.jpg?ts=1622459104626&imwidth=254&imdensity=1',\n",
       "   'src': 'https://st.mngbcn.com/rcs/pics/static/T1/fotos/S20/17010542_08_D5.jpg'},\n",
       "  {'description': 'Detail des Artikels 8',\n",
       "   'description-full': 'Meliertes Strick-T-Shirt - Detail des Artikels 8',\n",
       "   'src-full': 'https://st.mngbcn.com/rcs/pics/static/T1/fotos/S20/17010542_08_D8.jpg?ts=1617706549790&imwidth=254&imdensity=1',\n",
       "   'src': 'https://st.mngbcn.com/rcs/pics/static/T1/fotos/S20/17010542_08_D8.jpg'},\n",
       "  {'description': 'Artikel ohne Model',\n",
       "   'description-full': 'Meliertes Strick-T-Shirt - Artikel ohne Model',\n",
       "   'src-full': 'https://st.mngbcn.com/rcs/pics/static/T1/fotos/S20/17010542_08_B.jpg?ts=1617706549790&imwidth=254&imdensity=1',\n",
       "   'src': 'https://st.mngbcn.com/rcs/pics/static/T1/fotos/S20/17010542_08_B.jpg'}],\n",
       " 'related_items': {'similars': ['https://shop.mango.com/de/herren/t-shirts-unifarben/strick-t-shirt-aus-baumwolle-mit-leinen_87015672.html?c=08'],\n",
       "  'recommendations': ['https://shop.mango.com/de/herren/mantel-trenchcoats/regentrenchcoat-aus-baumwolle_17044039.html?c=69'],\n",
       "  'other': ['https://shop.mango.com/de/herren/jacken-bikerjacken/jeans-overshirt-mit-taschen_17020931.html?c=TM']}}"
      ]
     },
     "execution_count": 85,
     "metadata": {},
     "output_type": "execute_result"
    }
   ],
   "source": [
    "article"
   ]
  },
  {
   "cell_type": "code",
   "execution_count": 81,
   "id": "db76f76c",
   "metadata": {},
   "outputs": [],
   "source": []
  },
  {
   "cell_type": "code",
   "execution_count": 82,
   "id": "0f6de925",
   "metadata": {},
   "outputs": [
    {
     "data": {
      "text/plain": [
       "{'similars': ['https://shop.mango.com/de/herren/t-shirts-unifarben/strick-t-shirt-aus-baumwolle-mit-leinen_87015672.html?c=08'],\n",
       " 'recommendations': ['https://shop.mango.com/de/herren/jeans-skinny-fit/skinne-jeans-jude-mit-heller-waschung_17094008.html?c=TC'],\n",
       " 'other': ['https://shop.mango.com/de/herren/jacken-bikerjacken/jeans-overshirt-mit-taschen_17020931.html?c=TM']}"
      ]
     },
     "execution_count": 82,
     "metadata": {},
     "output_type": "execute_result"
    }
   ],
   "source": [
    "list_related_items(doc)"
   ]
  },
  {
   "cell_type": "code",
   "execution_count": null,
   "id": "14df76f4",
   "metadata": {},
   "outputs": [],
   "source": []
  },
  {
   "cell_type": "code",
   "execution_count": 23,
   "id": "e7ff9f6b",
   "metadata": {},
   "outputs": [
    {
     "data": {
      "text/plain": [
       "[{'description': 'Mittlere Ansicht',\n",
       "  'description-full': 'Meliertes Strick-T-Shirt - Mittlere Ansicht',\n",
       "  'src-full': 'https://st.mngbcn.com/rcs/pics/static/T1/fotos/S20/17010542_08.jpg?ts=1626426327908&imwidth=630&imdensity=1',\n",
       "  'src': 'https://st.mngbcn.com/rcs/pics/static/T1/fotos/S20/17010542_08.jpg'},\n",
       " {'description': 'Allgemeine Ansicht',\n",
       "  'description-full': 'Meliertes Strick-T-Shirt - Allgemeine Ansicht',\n",
       "  'src-full': 'https://st.mngbcn.com/rcs/pics/static/T1/fotos/outfit/S20/17010542_08-99999999_01.jpg?ts=1626426327908&imwidth=630&imdensity=1',\n",
       "  'src': 'https://st.mngbcn.com/rcs/pics/static/T1/fotos/outfit/S20/17010542_08-99999999_01.jpg'},\n",
       " {'description': 'Rückseite des Artikels',\n",
       "  'description-full': 'Meliertes Strick-T-Shirt - Rückseite des Artikels',\n",
       "  'src-full': 'https://st.mngbcn.com/rcs/pics/static/T1/fotos/S20/17010542_08_R.jpg?ts=1626426327908&imwidth=630&imdensity=1',\n",
       "  'src': 'https://st.mngbcn.com/rcs/pics/static/T1/fotos/S20/17010542_08_R.jpg'},\n",
       " {'description': 'Detail des Artikels 1',\n",
       "  'description-full': 'Meliertes Strick-T-Shirt - Detail des Artikels 1',\n",
       "  'src-full': 'https://st.mngbcn.com/rcs/pics/static/T1/fotos/S20/17010542_08_D1.jpg?ts=1626426327908&imwidth=630&imdensity=1',\n",
       "  'src': 'https://st.mngbcn.com/rcs/pics/static/T1/fotos/S20/17010542_08_D1.jpg'},\n",
       " {'description': 'Detail des Artikels 5',\n",
       "  'description-full': 'Meliertes Strick-T-Shirt - Detail des Artikels 5',\n",
       "  'src-full': 'https://st.mngbcn.com/rcs/pics/static/T1/fotos/S20/17010542_08_D5.jpg?ts=1622459104626&imwidth=417&imdensity=1',\n",
       "  'src': 'https://st.mngbcn.com/rcs/pics/static/T1/fotos/S20/17010542_08_D5.jpg'},\n",
       " {'description': 'Detail des Artikels 8',\n",
       "  'description-full': 'Meliertes Strick-T-Shirt - Detail des Artikels 8',\n",
       "  'src-full': 'https://st.mngbcn.com/rcs/pics/static/T1/fotos/S20/17010542_08_D8.jpg?ts=1617706549790&imwidth=417&imdensity=1',\n",
       "  'src': 'https://st.mngbcn.com/rcs/pics/static/T1/fotos/S20/17010542_08_D8.jpg'},\n",
       " {'description': 'Artikel ohne Model',\n",
       "  'description-full': 'Meliertes Strick-T-Shirt - Artikel ohne Model',\n",
       "  'src-full': 'https://st.mngbcn.com/rcs/pics/static/T1/fotos/S20/17010542_08_B.jpg?ts=1617706549790&imwidth=417&imdensity=1',\n",
       "  'src': 'https://st.mngbcn.com/rcs/pics/static/T1/fotos/S20/17010542_08_B.jpg'}]"
      ]
     },
     "execution_count": 23,
     "metadata": {},
     "output_type": "execute_result"
    }
   ],
   "source": [
    "_show_images"
   ]
  },
  {
   "cell_type": "code",
   "execution_count": null,
   "id": "4da3ddd1",
   "metadata": {},
   "outputs": [],
   "source": [
    "import urllib\n",
    "from pathlib import Path\n",
    "\n",
    "def download(url, folder, filename=None):\n",
    "    Path(folder).mkdir(parents=True, exist_ok=True) \n",
    "    \n",
    "    if not filename:\n",
    "        filename = url.split(\"/\")[-1]\n",
    "    \n",
    "    file = Path(folder, filename).resolve()\n",
    "    urllib.request.urlretrieve(url, file)"
   ]
  },
  {
   "cell_type": "code",
   "execution_count": null,
   "id": "9c8c9a1a",
   "metadata": {},
   "outputs": [],
   "source": [
    "download(\"https://st.mngbcn.com/rcs/pics/static/T1/fotos/S20/17010542_08.jpg\", \"C:\\\\Users\\\\Windoof\\\\Desktop\\\\test\")"
   ]
  },
  {
   "cell_type": "code",
   "execution_count": null,
   "id": "06253dfc",
   "metadata": {},
   "outputs": [],
   "source": []
  },
  {
   "cell_type": "code",
   "execution_count": null,
   "id": "91ddcbfb",
   "metadata": {},
   "outputs": [],
   "source": []
  }
 ],
 "metadata": {
  "kernelspec": {
   "display_name": "Python 3",
   "language": "python",
   "name": "python3"
  },
  "language_info": {
   "codemirror_mode": {
    "name": "ipython",
    "version": 3
   },
   "file_extension": ".py",
   "mimetype": "text/x-python",
   "name": "python",
   "nbconvert_exporter": "python",
   "pygments_lexer": "ipython3",
   "version": "3.8.5"
  }
 },
 "nbformat": 4,
 "nbformat_minor": 5
}
