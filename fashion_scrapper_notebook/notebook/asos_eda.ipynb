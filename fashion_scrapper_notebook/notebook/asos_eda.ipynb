{
 "cells": [
  {
   "cell_type": "code",
   "execution_count": 25,
   "id": "01484298",
   "metadata": {},
   "outputs": [],
   "source": [
    "import time\n",
    "from multiprocessing import Pool, freeze_support\n",
    "from pathlib import Path\n",
    "\n",
    "from tinydb import where\n",
    "from tqdm.auto import tqdm\n",
    "from default_logger.defaultLogger import defaultLogger\n",
    "from scrapper.brand.asos.Asos import Asos\n",
    "from scrapper.brand.asos.helper.database.dbhelper import list_dbs_by_category\n",
    "from scrapper.brand.asos.helper.download.DownloadHelper import DownloadHelper\n",
    "from scrapper.util.io import Json_DB\n",
    "from scrapper.util.web.dynamic import driver as d_driver\n",
    "from scrapper.brand.asos.helper.download.AsosPaths import AsosPaths\n",
    "from scrapper.util.list import distinct_list_of_dicts, flatten\n",
    "CATEGORIES = [\n",
    "    {\"name\": \"schuhe\", \"includes\": [\"shoe\"], \"excludes\": []},\n",
    "    {\"name\": \"hose\", \"includes\": [\"short\", \"jeans\", \"leggings\", \"trousers\"], \"excludes\": []},\n",
    "    {\"name\": \"shirt\", \"includes\": [\"shirt\", \"skirt\", \"blazer\", \"top\"], \"excludes\": []},\n",
    "    {\"name\": \"pullover\", \"includes\": [\"pullover\", \"cardigans\"], \"excludes\": []},\n",
    "    {\"name\": \"jacke\", \"includes\": [\"coat\"], \"excludes\": []},\n",
    "    {\"name\": \"kleid\", \"includes\": [\"dresses\"], \"excludes\": [\"kleidung\"]},\n",
    "    {\"name\": \"anzug\", \"includes\": [\"suit\", \"overalls\"], \"excludes\": []}\n",
    "]\n"
   ]
  },
  {
   "cell_type": "code",
   "execution_count": 26,
   "id": "c069c075",
   "metadata": {},
   "outputs": [],
   "source": [
    "\n",
    "#asos = Asos(d_driver(headless=False))\n",
    "\n",
    "categories_db_path = brand_path.get_category_db_base_path()\n",
    "entries_db_path = brand_path.get_entries_db_base_path()\n",
    "\n",
    "entries = list_dbs_by_category(entries_db_path, CATEGORIES)"
   ]
  },
  {
   "cell_type": "code",
   "execution_count": 27,
   "id": "ea9ea5bf",
   "metadata": {},
   "outputs": [
    {
     "data": {
      "text/plain": [
       "dict_keys(['hose', 'schuhe', 'shirt'])"
      ]
     },
     "execution_count": 27,
     "metadata": {},
     "output_type": "execute_result"
    }
   ],
   "source": [
    "entries.keys()"
   ]
  },
  {
   "cell_type": "code",
   "execution_count": 57,
   "id": "2d50a1d2",
   "metadata": {},
   "outputs": [],
   "source": [
    "import numpy as np\n",
    "from random import shuffle\n",
    "from scrapper.util.list import flatten, idx_self_reference\n",
    "\n",
    "from scrapper.brand.mango.helper.database.filter import validate_triplets"
   ]
  },
  {
   "cell_type": "code",
   "execution_count": 99,
   "id": "e7cf9826",
   "metadata": {},
   "outputs": [],
   "source": [
    "def clean_entry(entry):\n",
    "    return {\"id\": entry[\"url\"], \"images\": [{\"path\": brand_path.relative_image_path_from_url(img[\"url\"]), \"view\": img[\"description\"]} for img in entry[\"images\"]]}\n",
    "\n",
    "def build_positive_anchors(entry): #dup\n",
    "    images_anchor, anchor_id = entry[\"images\"], entry[\"id\"]\n",
    "    positive_idxs = _random_references(len(images_anchor))\n",
    "    images_positives = [images_anchor[idx] for idx in positive_idxs]\n",
    "    return [{\"anchor\": {**a, \"id\": anchor_id}, \"positive\": {**p, \"id\": anchor_id}} for (a, p) in\n",
    "            zip(images_anchor, images_positives)]\n",
    "\n",
    "def preprocess_negative_entries(anchor_items): #dup\n",
    "    negative_items = np.array(anchor_items)\n",
    "    shuffle(negative_items)\n",
    "\n",
    "    def __clean_entry(entry):\n",
    "        return [{**x, 'id': entry[\"id\"]} for x in entry[\"images\"]]\n",
    "\n",
    "    assert len(anchor_items) == len(negative_items)\n",
    "    negative_items = [__clean_entry(x) for x in negative_items]\n",
    "    negative_flat = flatten(negative_items)\n",
    "\n",
    "    shuffle(negative_flat)\n",
    "\n",
    "    return negative_flat\n",
    "\n",
    "def preprocess_positive_entries(entries):\n",
    "    return flatten([build_positive_anchors(entry) for entry in entries])\n",
    "\n",
    "def _random_references(num_idxs, max_retries=150): #dup\n",
    "    random_idxs = list(range(num_idxs))\n",
    "    for _ in range(max_retries):\n",
    "        shuffle(random_idxs)  # in place\n",
    "        if not idx_self_reference(random_idxs):\n",
    "            break\n",
    "    return np.array(random_idxs)  # copy -> None otherwise\n"
   ]
  },
  {
   "cell_type": "code",
   "execution_count": 100,
   "id": "d462f7d3",
   "metadata": {},
   "outputs": [],
   "source": [
    "def preprocess_negative_entries(anchor_items):\n",
    "    negative_items = np.array(anchor_items)\n",
    "\n",
    "    shuffle(negative_items)\n",
    "    assert len(anchor_items) == len(negative_items)\n",
    "    return negative_items\n",
    "    "
   ]
  },
  {
   "cell_type": "code",
   "execution_count": 79,
   "id": "a111e5df",
   "metadata": {},
   "outputs": [
    {
     "ename": "TypeError",
     "evalue": "'map' object is not subscriptable",
     "output_type": "error",
     "traceback": [
      "\u001b[1;31m---------------------------------------------------------------------------\u001b[0m",
      "\u001b[1;31mTypeError\u001b[0m                                 Traceback (most recent call last)",
      "\u001b[1;32m<ipython-input-79-7cb84626fbdb>\u001b[0m in \u001b[0;36m<module>\u001b[1;34m\u001b[0m\n\u001b[0;32m      1\u001b[0m \u001b[0mflatten_item\u001b[0m \u001b[1;33m=\u001b[0m \u001b[1;32mlambda\u001b[0m \u001b[0mitem\u001b[0m\u001b[1;33m:\u001b[0m \u001b[1;33m{\u001b[0m\u001b[1;34m\"id\"\u001b[0m\u001b[1;33m:\u001b[0m \u001b[0mitem\u001b[0m\u001b[1;33m[\u001b[0m\u001b[1;34m\"id\"\u001b[0m\u001b[1;33m]\u001b[0m\u001b[1;33m}\u001b[0m\u001b[1;33m\u001b[0m\u001b[1;33m\u001b[0m\u001b[0m\n\u001b[1;32m----> 2\u001b[1;33m \u001b[0manchor_items\u001b[0m\u001b[1;33m[\u001b[0m\u001b[1;36m0\u001b[0m\u001b[1;33m]\u001b[0m\u001b[1;33m\u001b[0m\u001b[1;33m\u001b[0m\u001b[0m\n\u001b[0m",
      "\u001b[1;31mTypeError\u001b[0m: 'map' object is not subscriptable"
     ]
    }
   ],
   "source": [
    "flatten_item = lambda item: {\"id\": item[\"id\"]}\n",
    "anchor_items[0]"
   ]
  },
  {
   "cell_type": "code",
   "execution_count": 80,
   "id": "baeeff51",
   "metadata": {},
   "outputs": [],
   "source": [
    "category_name = \"hose\"\n",
    "entries_by_cat_distinct = distinct_list_of_dicts(flatten([Json_DB(x).all() for x in entries[category_name]]), key=\"url\")\n",
    "\n",
    "anchor_items = list(map(clean_entry, entries_by_cat_distinct))"
   ]
  },
  {
   "cell_type": "code",
   "execution_count": 101,
   "id": "b7e13fec",
   "metadata": {},
   "outputs": [],
   "source": [
    "negative_items = preprocess_negative_entries(anchor_items)\n",
    "positive_items = preprocess_positive_entries(anchor_items)\n",
    "data = []"
   ]
  },
  {
   "cell_type": "code",
   "execution_count": 103,
   "id": "906e4595",
   "metadata": {},
   "outputs": [
    {
     "data": {
      "text/plain": [
       "{'anchor': {'path': WindowsPath('F:/workspace/fascrapper/scrap_results/asos/pics/products/pull-bear-premium-ripped-super-skinny-jeans-in-blue/201033636-1-blue'),\n",
       "  'view': 'Pull & Bear premium ripped super skinny jeans in blue, 1 of 4',\n",
       "  'id': 'https://www.asos.com/pullbear/pull-bear-premium-ripped-super-skinny-jeans-in-blue/prd/201033636?colourwayid=201033637&cid=4208'},\n",
       " 'positive': {'path': WindowsPath('F:/workspace/fascrapper/scrap_results/asos/pics/products/pull-bear-premium-ripped-super-skinny-jeans-in-blue/201033636-3'),\n",
       "  'view': 'Pull & Bear premium ripped super skinny jeans in blue, 3 of 4',\n",
       "  'id': 'https://www.asos.com/pullbear/pull-bear-premium-ripped-super-skinny-jeans-in-blue/prd/201033636?colourwayid=201033637&cid=4208'}}"
      ]
     },
     "execution_count": 103,
     "metadata": {},
     "output_type": "execute_result"
    }
   ],
   "source": [
    "positive_items[0]"
   ]
  },
  {
   "cell_type": "code",
   "execution_count": 87,
   "id": "3cb7f1c2",
   "metadata": {},
   "outputs": [
    {
     "ename": "TypeError",
     "evalue": "len() of unsized object",
     "output_type": "error",
     "traceback": [
      "\u001b[1;31m---------------------------------------------------------------------------\u001b[0m",
      "\u001b[1;31mTypeError\u001b[0m                                 Traceback (most recent call last)",
      "\u001b[1;32m<ipython-input-87-a8303f543d0d>\u001b[0m in \u001b[0;36m<module>\u001b[1;34m\u001b[0m\n\u001b[1;32m----> 1\u001b[1;33m \u001b[0mnegative_items\u001b[0m \u001b[1;33m=\u001b[0m \u001b[0mpreprocess_negative_entries\u001b[0m\u001b[1;33m(\u001b[0m\u001b[0manchor_items\u001b[0m\u001b[1;33m)\u001b[0m\u001b[1;33m\u001b[0m\u001b[1;33m\u001b[0m\u001b[0m\n\u001b[0m",
      "\u001b[1;32m<ipython-input-86-fe391d53662d>\u001b[0m in \u001b[0;36mpreprocess_negative_entries\u001b[1;34m(anchor_items)\u001b[0m\n\u001b[0;32m     12\u001b[0m \u001b[1;32mdef\u001b[0m \u001b[0mpreprocess_negative_entries\u001b[0m\u001b[1;33m(\u001b[0m\u001b[0manchor_items\u001b[0m\u001b[1;33m)\u001b[0m\u001b[1;33m:\u001b[0m \u001b[1;31m#dup\u001b[0m\u001b[1;33m\u001b[0m\u001b[1;33m\u001b[0m\u001b[0m\n\u001b[0;32m     13\u001b[0m     \u001b[0mnegative_items\u001b[0m \u001b[1;33m=\u001b[0m \u001b[0mnp\u001b[0m\u001b[1;33m.\u001b[0m\u001b[0marray\u001b[0m\u001b[1;33m(\u001b[0m\u001b[0manchor_items\u001b[0m\u001b[1;33m)\u001b[0m\u001b[1;33m\u001b[0m\u001b[1;33m\u001b[0m\u001b[0m\n\u001b[1;32m---> 14\u001b[1;33m     \u001b[0mshuffle\u001b[0m\u001b[1;33m(\u001b[0m\u001b[0mnegative_items\u001b[0m\u001b[1;33m)\u001b[0m\u001b[1;33m\u001b[0m\u001b[1;33m\u001b[0m\u001b[0m\n\u001b[0m\u001b[0;32m     15\u001b[0m \u001b[1;33m\u001b[0m\u001b[0m\n\u001b[0;32m     16\u001b[0m     \u001b[1;32mdef\u001b[0m \u001b[0m__clean_entry\u001b[0m\u001b[1;33m(\u001b[0m\u001b[0mentry\u001b[0m\u001b[1;33m)\u001b[0m\u001b[1;33m:\u001b[0m\u001b[1;33m\u001b[0m\u001b[1;33m\u001b[0m\u001b[0m\n",
      "\u001b[1;32mC:\\ProgramData\\Miniconda3\\lib\\random.py\u001b[0m in \u001b[0;36mshuffle\u001b[1;34m(self, x, random)\u001b[0m\n\u001b[0;32m    302\u001b[0m         \u001b[1;32mif\u001b[0m \u001b[0mrandom\u001b[0m \u001b[1;32mis\u001b[0m \u001b[1;32mNone\u001b[0m\u001b[1;33m:\u001b[0m\u001b[1;33m\u001b[0m\u001b[1;33m\u001b[0m\u001b[0m\n\u001b[0;32m    303\u001b[0m             \u001b[0mrandbelow\u001b[0m \u001b[1;33m=\u001b[0m \u001b[0mself\u001b[0m\u001b[1;33m.\u001b[0m\u001b[0m_randbelow\u001b[0m\u001b[1;33m\u001b[0m\u001b[1;33m\u001b[0m\u001b[0m\n\u001b[1;32m--> 304\u001b[1;33m             \u001b[1;32mfor\u001b[0m \u001b[0mi\u001b[0m \u001b[1;32min\u001b[0m \u001b[0mreversed\u001b[0m\u001b[1;33m(\u001b[0m\u001b[0mrange\u001b[0m\u001b[1;33m(\u001b[0m\u001b[1;36m1\u001b[0m\u001b[1;33m,\u001b[0m \u001b[0mlen\u001b[0m\u001b[1;33m(\u001b[0m\u001b[0mx\u001b[0m\u001b[1;33m)\u001b[0m\u001b[1;33m)\u001b[0m\u001b[1;33m)\u001b[0m\u001b[1;33m:\u001b[0m\u001b[1;33m\u001b[0m\u001b[1;33m\u001b[0m\u001b[0m\n\u001b[0m\u001b[0;32m    305\u001b[0m                 \u001b[1;31m# pick an element in x[:i+1] with which to exchange x[i]\u001b[0m\u001b[1;33m\u001b[0m\u001b[1;33m\u001b[0m\u001b[1;33m\u001b[0m\u001b[0m\n\u001b[0;32m    306\u001b[0m                 \u001b[0mj\u001b[0m \u001b[1;33m=\u001b[0m \u001b[0mrandbelow\u001b[0m\u001b[1;33m(\u001b[0m\u001b[0mi\u001b[0m\u001b[1;33m+\u001b[0m\u001b[1;36m1\u001b[0m\u001b[1;33m)\u001b[0m\u001b[1;33m\u001b[0m\u001b[1;33m\u001b[0m\u001b[0m\n",
      "\u001b[1;31mTypeError\u001b[0m: len() of unsized object"
     ]
    }
   ],
   "source": [
    "negative_items = preprocess_negative_entries(anchor_items)"
   ]
  },
  {
   "cell_type": "code",
   "execution_count": 56,
   "id": "3bee2b67",
   "metadata": {},
   "outputs": [],
   "source": [
    "anchor_positive_items = flatten(list(map(build_positive_anchors, anchor_items)))\n",
    "negative_items = preprocess_negative_entries(anchor_items)\n",
    "data = []\n",
    "\n",
    "for row in anchor_positive_items:\n",
    "    anchor_id, positive_id = row[\"anchor\"][\"id\"], row[\"positive\"][\"id\"]\n",
    "    negative_anchor = None\n",
    "    \n",
    "    while not negative_anchor:\n",
    "        possible_n_anchor = negative_items.pop()\n",
    "        if possible_n_anchor[\"id\"] != anchor_id:\n",
    "            negative_anchor = possible_n_anchor\n",
    "        elif len(negative_items) < 2:  # for the random chance of only the same id beeing left\n",
    "            break\n",
    "        else:\n",
    "            negative_items.insert(0, possible_n_anchor)\n",
    "            \n",
    "    data.append({**row, \"negative\": negative_anchor})"
   ]
  },
  {
   "cell_type": "code",
   "execution_count": null,
   "id": "3823d579",
   "metadata": {},
   "outputs": [],
   "source": []
  }
 ],
 "metadata": {
  "kernelspec": {
   "display_name": "Python 3",
   "language": "python",
   "name": "python3"
  },
  "language_info": {
   "codemirror_mode": {
    "name": "ipython",
    "version": 3
   },
   "file_extension": ".py",
   "mimetype": "text/x-python",
   "name": "python",
   "nbconvert_exporter": "python",
   "pygments_lexer": "ipython3",
   "version": "3.8.5"
  }
 },
 "nbformat": 4,
 "nbformat_minor": 5
}
