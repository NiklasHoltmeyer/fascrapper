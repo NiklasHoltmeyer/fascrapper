{
 "cells": [
  {
   "cell_type": "code",
   "execution_count": 28,
   "id": "6a455976",
   "metadata": {},
   "outputs": [],
   "source": [
    "import os\n",
    "from pathlib import Path\n",
    "from tqdm.auto import tqdm\n",
    "from multiprocessing import Pool, freeze_support\n",
    "from PIL import Image\n",
    "from datetime import datetime\n",
    "from collections import defaultdict\n"
   ]
  },
  {
   "cell_type": "code",
   "execution_count": 29,
   "id": "570c04d8",
   "metadata": {},
   "outputs": [],
   "source": [
    "def validate_images(image_base_path):\n",
    "    def load_img_format(i):\n",
    "        try:\n",
    "            return i, Image.open(i).format_description\n",
    "        except:\n",
    "            return i, None   \n",
    "        \n",
    "    img_list = list(filter(lambda x: x.is_file(), Path(image_base_path).rglob(\"*\")))\n",
    "    total = len(img_list)\n",
    "    img_w_formats = map(load_img_format, tqdm(img_list, desc=\"Load Image-Formats\",total=total))\n",
    "    \n",
    "    image_infos = defaultdict(lambda: [])\n",
    "    \n",
    "    for image, img_format in tqdm(img_w_formats, desc=\"Validate Images\",total=total):\n",
    "        image_infos[img_format].append(image)\n",
    "        if not img_format:\n",
    "            print(\"None\", image)\n",
    "\n",
    "    return image_infos\n",
    "            "
   ]
  },
  {
   "cell_type": "code",
   "execution_count": 30,
   "id": "d7c66c38",
   "metadata": {},
   "outputs": [
    {
     "data": {
      "application/json": {
       "ascii": false,
       "bar_format": null,
       "colour": null,
       "elapsed": 0.0290069580078125,
       "initial": 0,
       "n": 0,
       "ncols": null,
       "nrows": 29,
       "postfix": null,
       "prefix": "Load Image-Formats",
       "rate": null,
       "total": 100406,
       "unit": "it",
       "unit_divisor": 1000,
       "unit_scale": false
      },
      "application/vnd.jupyter.widget-view+json": {
       "model_id": "019a681a8d0242e08db415aa9a2c3253",
       "version_major": 2,
       "version_minor": 0
      },
      "text/plain": [
       "Load Image-Formats:   0%|          | 0/100406 [00:00<?, ?it/s]"
      ]
     },
     "metadata": {},
     "output_type": "display_data"
    },
    {
     "data": {
      "application/json": {
       "ascii": false,
       "bar_format": null,
       "colour": null,
       "elapsed": 0.029006242752075195,
       "initial": 0,
       "n": 0,
       "ncols": null,
       "nrows": 29,
       "postfix": null,
       "prefix": "Validate Images",
       "rate": null,
       "total": 100406,
       "unit": "it",
       "unit_divisor": 1000,
       "unit_scale": false
      },
      "application/vnd.jupyter.widget-view+json": {
       "model_id": "3f0785e6fcfc458f90eba4be48d4e317",
       "version_major": 2,
       "version_minor": 0
      },
      "text/plain": [
       "Validate Images:   0%|          | 0/100406 [00:00<?, ?it/s]"
      ]
     },
     "metadata": {},
     "output_type": "display_data"
    }
   ],
   "source": [
    "pics_path = r\"F:\\workspace\\fascrapper\\scrap_results\\asos\\pics\"\n",
    "image_infos = validate_images(pics_path)"
   ]
  },
  {
   "cell_type": "code",
   "execution_count": 31,
   "id": "174af5a5",
   "metadata": {},
   "outputs": [
    {
     "data": {
      "text/plain": [
       "dict_keys(['JPEG (ISO 10918)'])"
      ]
     },
     "execution_count": 31,
     "metadata": {},
     "output_type": "execute_result"
    }
   ],
   "source": [
    "image_infos.keys()"
   ]
  },
  {
   "cell_type": "code",
   "execution_count": 32,
   "id": "a00fca34",
   "metadata": {},
   "outputs": [],
   "source": [
    "for x, y in image_infos.items():\n",
    "    if not x:\n",
    "        print(y)"
   ]
  },
  {
   "cell_type": "code",
   "execution_count": null,
   "id": "e073d069",
   "metadata": {},
   "outputs": [],
   "source": []
  },
  {
   "cell_type": "code",
   "execution_count": null,
   "id": "07eee760",
   "metadata": {},
   "outputs": [],
   "source": []
  },
  {
   "cell_type": "code",
   "execution_count": null,
   "id": "b5bead99",
   "metadata": {},
   "outputs": [],
   "source": []
  }
 ],
 "metadata": {
  "kernelspec": {
   "display_name": "Python 3",
   "language": "python",
   "name": "python3"
  },
  "language_info": {
   "codemirror_mode": {
    "name": "ipython",
    "version": 3
   },
   "file_extension": ".py",
   "mimetype": "text/x-python",
   "name": "python",
   "nbconvert_exporter": "python",
   "pygments_lexer": "ipython3",
   "version": "3.8.5"
  }
 },
 "nbformat": 4,
 "nbformat_minor": 5
}
