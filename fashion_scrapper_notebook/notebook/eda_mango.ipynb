{
 "cells": [
  {
   "cell_type": "code",
   "execution_count": 1,
   "id": "14ac6344",
   "metadata": {},
   "outputs": [],
   "source": []
  },
  {
   "cell_type": "code",
   "execution_count": null,
   "id": "43446025",
   "metadata": {},
   "outputs": [],
   "source": [
    "x = \"asd.json\"\n",
    "[bl for bl in BLACKLIST if bl in x]"
   ]
  },
  {
   "cell_type": "code",
   "execution_count": null,
   "id": "97ac7f3f",
   "metadata": {},
   "outputs": [],
   "source": [
    "from pathlib import Path\n",
    "\n",
    "from scrapper.brand.mango.helper.download.MangoPaths import MangoPaths\n",
    "from scrapper.util.io import Json_DB\n",
    "import numpy as np\n",
    "from random import shuffle\n",
    "\n",
    "SCRAP_PATH = r\"F:\\workspace\\fascrapper\\scrap_results\\mango\""
   ]
  },
  {
   "cell_type": "code",
   "execution_count": null,
   "id": "a98701d3",
   "metadata": {},
   "outputs": [],
   "source": [
    "len(list(walk_entries()))"
   ]
  },
  {
   "cell_type": "code",
   "execution_count": null,
   "id": "12554c6b",
   "metadata": {},
   "outputs": [],
   "source": [
    "from collections import defaultdict\n",
    "from random import sample\n",
    "\n",
    "def group_entries_by_view():\n",
    "    grouped_images = defaultdict(lambda:[])\n",
    "    for entry in walk_entries():\n",
    "        images = entry[\"images\"]\n",
    "        for idx, image in enumerate(images):\n",
    "            ref_idx = 1 if idx != 1 else 0\n",
    "            assert ref_idx != idx\n",
    "            view_name = image[\"description\"]\n",
    "            path, path_ref = images[idx][\"path\"], images[ref_idx][\"path\"]\n",
    "            grouped_images[view_name].append({\"path\": path, \"path_ref\": path_ref})\n",
    "    return grouped_images\n",
    "grouped_entries = group_entries_by_view()"
   ]
  },
  {
   "cell_type": "code",
   "execution_count": null,
   "id": "25a786ef",
   "metadata": {},
   "outputs": [],
   "source": []
  },
  {
   "cell_type": "code",
   "execution_count": null,
   "id": "905d58d0",
   "metadata": {},
   "outputs": [],
   "source": [
    "import ipyplot\n",
    "from PIL import Image\n",
    "\n",
    "def _prepare_images(paths, key):\n",
    "    paths = [Path(SCRAP_PATH + x[key]) for x in paths]\n",
    "    paths = [str(x.resolve()) for x in paths]\n",
    "    paths = [Image.open(x) for x in paths]\n",
    "    return paths\n",
    "    \n",
    "def _walk_samples(max_size=15):\n",
    "    for view_name, images in grouped_entries.items():\n",
    "        samples = min(max_size, len(images))\n",
    "        random_examples = sample(images, samples)    \n",
    "\n",
    "        paths = _prepare_images(random_examples, \"path\")    \n",
    "        paths_ref = _prepare_images(random_examples, \"path_ref\")\n",
    "\n",
    "        yield view_name, paths, paths_ref\n",
    "        \n",
    "_samples_iter = list(_walk_samples(30))"
   ]
  },
  {
   "cell_type": "code",
   "execution_count": null,
   "id": "b678fa9a",
   "metadata": {},
   "outputs": [],
   "source": [
    "view_name, paths, paths_ref = _samples_iter[21]\n",
    "print(view_name)\n",
    "ipyplot.plot_images(paths, \n",
    "                        labels=[f\"{view_name}-{idx}\" for idx in range(len(paths))], \n",
    "                        max_images=None, img_width=200)\n",
    "    "
   ]
  },
  {
   "cell_type": "code",
   "execution_count": null,
   "id": "367d2452",
   "metadata": {},
   "outputs": [],
   "source": [
    "def __flatten(a):\n",
    "    return [item for sublist in a for item in sublist]\n",
    "\n",
    "def _self_reference(indices):\n",
    "    for c, idx in enumerate(indices):\n",
    "        if c == idx:\n",
    "            return True\n",
    "    return False\n",
    "\n",
    "def _random_references(num_idxs, max_retries=150):\n",
    "    random_idxs = list(range(num_idxs))\n",
    "    for _ in range(max_retries):        \n",
    "        shuffle(random_idxs) # in place\n",
    "        if not _self_reference(random_idxs):\n",
    "            break\n",
    "    return np.array(random_idxs) #copy -> None otherwise\n",
    "  \n",
    "    \n",
    "def preprocess_negative_entries(anchor_items):\n",
    "    negative_items = np.array(anchor_items)\n",
    "    shuffle(negative_items)\n",
    "    \n",
    "    def __clean_entry(entry):\n",
    "        return [{**x, 'id': entry[\"id\"]} for x in entry[\"images\"]]\n",
    "    \n",
    "\n",
    "    assert len(anchor_items) == len(negative_items)\n",
    "    negative_items = [__clean_entry(x) for x in negative_items]\n",
    "    negative_flat = __flatten(negative_items)\n",
    "    \n",
    "    shuffle(negative_flat)\n",
    "    \n",
    "    return negative_flat\n",
    "\n",
    "def build_positive_anchors(entry):\n",
    "    images_anchor, anchor_id = entry[\"images\"], entry[\"id\"]\n",
    "    positive_idxs = _random_references(len(images_anchor))\n",
    "    images_positives = [images_anchor[idx] for idx in positive_idxs]\n",
    "    return [{\"anchor\": {**a, \"id\": anchor_id}, \"positive\": {**p, \"id\": anchor_id}} for (a, p) in zip(images_anchor, images_positives)]\n",
    "\n",
    "def preprocess_positive_entries(entries):\n",
    "    return __flatten([build_positive_anchors(entry) for entry in entries])        \n",
    "\n",
    "def _validate_triplets(data):\n",
    "    for d in data:\n",
    "        a_id, p_id, n_id = d[\"anchor\"][\"id\"], d[\"positive\"][\"id\"], d[\"negative\"][\"id\"]\n",
    "        if a_id != p_id or a_id == n_id:\n",
    "            raise Exception(f\"Invalid Entry: {d}\")\n",
    "\n",
    "def build_triplets():\n",
    "    anchor_items = (list(filterd_entries()))\n",
    "    negative_items = np.array(anchor_items)\n",
    "    shuffle(negative_items)\n",
    "\n",
    "    assert len(anchor_items) == len(negative_items)\n",
    "    \n",
    "    negative_items = preprocess_negative_entries(anchor_items)\n",
    "    positive_items = preprocess_positive_entries(anchor_items)\n",
    "    assert len(negative_items) == len(positive_items)\n",
    "    \n",
    "    negative_idx = \"\"\n",
    "    data = []\n",
    "    for row in positive_items:\n",
    "        anchor_id, positive_id = row[\"anchor\"][\"id\"], row[\"positive\"][\"id\"]\n",
    "        negative_anchor = None\n",
    "        \n",
    "        while not negative_anchor:\n",
    "            possible_n_anchor = negative_items.pop()\n",
    "            if possible_n_anchor[\"id\"] != anchor_id:\n",
    "                negative_anchor = possible_n_anchor\n",
    "            elif len(negative_items) < 2: #for the random chance of only the same id beeing left\n",
    "                break\n",
    "            else:\n",
    "                negative_items.insert(0,possible_n_anchor)\n",
    "                \n",
    "        data.append({**row, \"negative\":negative_anchor})\n",
    "    _validate_triplets(data)\n",
    "    return data\n",
    "\n",
    "\n",
    "tripplets = build_triplets()"
   ]
  },
  {
   "cell_type": "code",
   "execution_count": null,
   "id": "63f07f4a",
   "metadata": {},
   "outputs": [],
   "source": [
    "list(zip(triplet_df.a_path, triplet_df.n_path, triplet_df.p_path))"
   ]
  },
  {
   "cell_type": "code",
   "execution_count": null,
   "id": "22ea3afd",
   "metadata": {},
   "outputs": [],
   "source": [
    "anchors = [x for x in tripplets]\n",
    "\n",
    "a_views = []"
   ]
  },
  {
   "cell_type": "code",
   "execution_count": null,
   "id": "c62755da",
   "metadata": {},
   "outputs": [],
   "source": [
    "tripplets[8]"
   ]
  },
  {
   "cell_type": "code",
   "execution_count": null,
   "id": "c406ffae",
   "metadata": {},
   "outputs": [],
   "source": [
    "a = [0, 1, 2]\n",
    "print(a.pop())\n",
    "print(a)"
   ]
  },
  {
   "cell_type": "code",
   "execution_count": null,
   "id": "96db31a5",
   "metadata": {},
   "outputs": [],
   "source": [
    "negative_items[0]"
   ]
  },
  {
   "cell_type": "code",
   "execution_count": null,
   "id": "c5fe68fb",
   "metadata": {},
   "outputs": [],
   "source": [
    "positive_items[0]"
   ]
  }
 ],
 "metadata": {
  "kernelspec": {
   "display_name": "Python 3",
   "language": "python",
   "name": "python3"
  },
  "language_info": {
   "codemirror_mode": {
    "name": "ipython",
    "version": 3
   },
   "file_extension": ".py",
   "mimetype": "text/x-python",
   "name": "python",
   "nbconvert_exporter": "python",
   "pygments_lexer": "ipython3",
   "version": "3.8.5"
  }
 },
 "nbformat": 4,
 "nbformat_minor": 5
}
