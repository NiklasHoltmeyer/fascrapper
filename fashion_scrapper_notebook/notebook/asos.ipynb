{
 "cells": [
  {
   "cell_type": "code",
   "execution_count": 3,
   "id": "596cb8d7",
   "metadata": {
    "scrolled": true
   },
   "outputs": [
    {
     "name": "stderr",
     "output_type": "stream",
     "text": [
      "WARNING: Ignoring invalid distribution -dm (c:\\programdata\\miniconda3\\lib\\site-packages)\n",
      "WARNING: Ignoring invalid distribution -umpy (c:\\programdata\\miniconda3\\lib\\site-packages)\n",
      "WARNING: Ignoring invalid distribution -udioengine (c:\\programdata\\miniconda3\\lib\\site-packages)\n",
      "WARNING: Ignoring invalid distribution -qdm (c:\\programdata\\miniconda3\\lib\\site-packages)\n",
      "WARNING: Ignoring invalid distribution - (c:\\programdata\\miniconda3\\lib\\site-packages)\n",
      "WARNING: Ignoring invalid distribution -arkupsafe (c:\\programdata\\miniconda3\\lib\\site-packages)\n",
      "ERROR: .'' is not a valid editable requirement. It should either be a path to a local project or a VCS URL (beginning with bzr+http, bzr+https, bzr+ssh, bzr+sftp, bzr+ftp, bzr+lp, bzr+file, git+http, git+https, git+ssh, git+git, git+file, hg+file, hg+http, hg+https, hg+ssh, hg+static-http, svn+ssh, svn+http, svn+https, svn+svn, svn+file).\n",
      "WARNING: Ignoring invalid distribution -dm (c:\\programdata\\miniconda3\\lib\\site-packages)\n",
      "WARNING: Ignoring invalid distribution -umpy (c:\\programdata\\miniconda3\\lib\\site-packages)\n",
      "WARNING: Ignoring invalid distribution -udioengine (c:\\programdata\\miniconda3\\lib\\site-packages)\n",
      "WARNING: Ignoring invalid distribution -qdm (c:\\programdata\\miniconda3\\lib\\site-packages)\n",
      "WARNING: Ignoring invalid distribution - (c:\\programdata\\miniconda3\\lib\\site-packages)\n",
      "WARNING: Ignoring invalid distribution -arkupsafe (c:\\programdata\\miniconda3\\lib\\site-packages)\n",
      "WARNING: Ignoring invalid distribution -dm (c:\\programdata\\miniconda3\\lib\\site-packages)\n",
      "WARNING: Ignoring invalid distribution -umpy (c:\\programdata\\miniconda3\\lib\\site-packages)\n",
      "WARNING: Ignoring invalid distribution -udioengine (c:\\programdata\\miniconda3\\lib\\site-packages)\n",
      "WARNING: Ignoring invalid distribution -qdm (c:\\programdata\\miniconda3\\lib\\site-packages)\n",
      "WARNING: Ignoring invalid distribution - (c:\\programdata\\miniconda3\\lib\\site-packages)\n",
      "WARNING: Ignoring invalid distribution -arkupsafe (c:\\programdata\\miniconda3\\lib\\site-packages)\n",
      "WARNING: Ignoring invalid distribution -dm (c:\\programdata\\miniconda3\\lib\\site-packages)\n",
      "WARNING: Ignoring invalid distribution -umpy (c:\\programdata\\miniconda3\\lib\\site-packages)\n",
      "WARNING: Ignoring invalid distribution -udioengine (c:\\programdata\\miniconda3\\lib\\site-packages)\n",
      "WARNING: Ignoring invalid distribution -qdm (c:\\programdata\\miniconda3\\lib\\site-packages)\n",
      "WARNING: Ignoring invalid distribution - (c:\\programdata\\miniconda3\\lib\\site-packages)\n",
      "WARNING: Ignoring invalid distribution -arkupsafe (c:\\programdata\\miniconda3\\lib\\site-packages)\n"
     ]
    }
   ],
   "source": [
    "!cd  F:\\workspace\\fascrapper\\fashion_scrapper\n",
    "!pip install -e .''"
   ]
  },
  {
   "cell_type": "code",
   "execution_count": 1,
   "id": "7c87bee7",
   "metadata": {},
   "outputs": [],
   "source": [
    "from scrapper.util.web.dynamic import driver as d_driver\n",
    "from selenium.webdriver.support import expected_conditions as EC\n",
    "\n",
    "from scrapper.util.list import distinct_list_of_dicts, flatten\n",
    "from scrapper.util.web.dynamic import wait, scroll_end_of_page\n",
    "from selenium.webdriver.common.by import By\n",
    "import os\n",
    "from pathlib import Path\n",
    "from scrapper.util.io import Json_DB\n",
    "\n",
    "import pickle\n",
    "import time\n",
    "from multiprocessing import Pool, freeze_support\n",
    "from pathlib import Path\n",
    "\n",
    "import numpy as np\n",
    "from tqdm.auto import tqdm\n",
    "\n",
    "from default_logger.defaultLogger import defaultLogger\n",
    "from scrapper.brand.asos.Asos import Asos\n",
    "from scrapper.brand.asos.helper.download.DownloadHelper import DownloadHelper\n",
    "from scrapper.util.io import Json_DB\n",
    "from scrapper.util.list import includes_excludes_filter, flatten\n",
    "from scrapper.util.web.dynamic import driver as d_driver"
   ]
  },
  {
   "cell_type": "code",
   "execution_count": 9,
   "id": "7209a6e0",
   "metadata": {},
   "outputs": [
    {
     "data": {
      "text/plain": [
       "['categories_db', 'entries_db', 'img_info.json', 'pics', 'visited.json']"
      ]
     },
     "execution_count": 9,
     "metadata": {},
     "output_type": "execute_result"
    }
   ],
   "source": [
    "os.listdir(r\"F:\\workspace\\fascrapper\\scrap_results\\asos\")"
   ]
  },
  {
   "cell_type": "code",
   "execution_count": 10,
   "id": "cca2d9f5",
   "metadata": {},
   "outputs": [],
   "source": [
    "db = r\"F:\\workspace\\fascrapper\\scrap_results\\asos\\entries_db\"\n",
    "db_paths = [Path(db, y) for y in [x for x in os.listdir(db) if \".json\" in x]]"
   ]
  },
  {
   "cell_type": "code",
   "execution_count": 17,
   "id": "9eaa075b",
   "metadata": {},
   "outputs": [],
   "source": [
    "def find_url(url=\"https://images.asos-media.com/products/topshop-corduroy-notch-skirt-in-ecru/24139923-1-ecru\"):\n",
    "    for path in db_paths:\n",
    "        db = Json_DB(path).all()\n",
    "        for entry in db:\n",
    "            for image in entry[\"images\"]:\n",
    "                if image[\"url\"] == url:\n",
    "                    return (path, entry, image)\n",
    "    return None\n"
   ]
  },
  {
   "cell_type": "code",
   "execution_count": 18,
   "id": "19028834",
   "metadata": {},
   "outputs": [],
   "source": [
    "path, entry, image = find_url()"
   ]
  },
  {
   "cell_type": "code",
   "execution_count": 19,
   "id": "15e7def4",
   "metadata": {},
   "outputs": [
    {
     "data": {
      "text/plain": [
       "WindowsPath('F:/workspace/fascrapper/scrap_results/asos/entries_db/shirt.json')"
      ]
     },
     "execution_count": 19,
     "metadata": {},
     "output_type": "execute_result"
    }
   ],
   "source": [
    "path"
   ]
  },
  {
   "cell_type": "code",
   "execution_count": 25,
   "id": "36b2fa4e",
   "metadata": {},
   "outputs": [
    {
     "name": "stdout",
     "output_type": "stream",
     "text": [
      "https://images.asos-media.com/products/topshop-corduroy-notch-skirt-in-ecru/24139923-1-ecru\n",
      "https://images.asos-media.com/products/topshop-corduroy-notch-skirt-in-ecru/24139923-2\n",
      "https://images.asos-media.com/products/topshop-corduroy-notch-skirt-in-ecru/24139923-3\n",
      "https://images.asos-media.com/products/topshop-corduroy-notch-skirt-in-ecru/24139923-4\n"
     ]
    }
   ],
   "source": [
    "for url in entry[\"images\"]:\n",
    "    print(url[\"url\"])"
   ]
  },
  {
   "cell_type": "code",
   "execution_count": 21,
   "id": "1f004a57",
   "metadata": {},
   "outputs": [
    {
     "data": {
      "text/plain": [
       "[{'url': 'https://images.asos-media.com/products/topshop-corduroy-notch-skirt-in-ecru/24139923-1-ecru',\n",
       "  'url_full': 'https://images.asos-media.com/products/topshop-corduroy-notch-skirt-in-ecru/24139923-1-ecru?$n_640w$&wid=513&fit=constrain',\n",
       "  'description': 'Topshop corduroy notch skirt in ecru, 1 of 4'},\n",
       " {'url': 'https://images.asos-media.com/products/topshop-corduroy-notch-skirt-in-ecru/24139923-2',\n",
       "  'url_full': 'https://images.asos-media.com/products/topshop-corduroy-notch-skirt-in-ecru/24139923-2?$n_640w$&wid=513&fit=constrain',\n",
       "  'description': 'Topshop corduroy notch skirt in ecru, 2 of 4'},\n",
       " {'url': 'https://images.asos-media.com/products/topshop-corduroy-notch-skirt-in-ecru/24139923-3',\n",
       "  'url_full': 'https://images.asos-media.com/products/topshop-corduroy-notch-skirt-in-ecru/24139923-3?$n_640w$&wid=513&fit=constrain',\n",
       "  'description': 'Topshop corduroy notch skirt in ecru, 3 of 4'},\n",
       " {'url': 'https://images.asos-media.com/products/topshop-corduroy-notch-skirt-in-ecru/24139923-4',\n",
       "  'url_full': 'https://images.asos-media.com/products/topshop-corduroy-notch-skirt-in-ecru/24139923-4?$n_640w$&wid=513&fit=constrain',\n",
       "  'description': 'Topshop corduroy notch skirt in ecru, 4 of 4'}]"
      ]
     },
     "execution_count": 21,
     "metadata": {},
     "output_type": "execute_result"
    }
   ],
   "source": [
    "entry[\"images\"]"
   ]
  }
 ],
 "metadata": {
  "kernelspec": {
   "display_name": "Python 3",
   "language": "python",
   "name": "python3"
  },
  "language_info": {
   "codemirror_mode": {
    "name": "ipython",
    "version": 3
   },
   "file_extension": ".py",
   "mimetype": "text/x-python",
   "name": "python",
   "nbconvert_exporter": "python",
   "pygments_lexer": "ipython3",
   "version": "3.8.5"
  }
 },
 "nbformat": 4,
 "nbformat_minor": 5
}
