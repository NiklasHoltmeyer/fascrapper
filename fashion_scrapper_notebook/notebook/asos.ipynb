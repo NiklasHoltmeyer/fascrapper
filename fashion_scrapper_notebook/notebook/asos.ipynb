{
 "cells": [
  {
   "cell_type": "code",
   "execution_count": null,
   "id": "596cb8d7",
   "metadata": {
    "scrolled": true
   },
   "outputs": [],
   "source": [
    "!cd  F:\\workspace\\fascrapper\\fashion_scrapper\n",
    "!pip install -e ."
   ]
  },
  {
   "cell_type": "code",
   "execution_count": 1,
   "id": "7c87bee7",
   "metadata": {},
   "outputs": [],
   "source": [
    "from pathlib import Path\n",
    "from bs4 import BeautifulSoup\n",
    "from scrapper.util.web.static import find_first_parent_href\n",
    "from scrapper.util.list import flatten, distinct, distinct_list_of_dicts\n",
    "from scrapper.util.web.dynamic import driver as ddriver\n",
    "from scrapper.brand.asos.webelements.views.Asos_Categories_Elements import Asos_Categories_Elements\n",
    "from scrapper.brand.asos.webelements.views.Asos_Category_Elements import Asos_Category_Elements\n",
    "from scrapper.brand.asos.webelements.views.Asos_item_Elements import Asos_Article_Elements\n",
    "from default_logger.defaultLogger import defaultLogger\n",
    "\n",
    "from random import shuffle\n",
    "from tqdm.auto import tqdm\n",
    "from scrapper.util.web.dynamic import driver as d_driver\n",
    "\n",
    "from time import sleep\n",
    "from selenium.common.exceptions import StaleElementReferenceException\n",
    "from selenium.webdriver.support import expected_conditions as EC\n",
    "from selenium.webdriver.common.by import By\n",
    "from scrapper.util.web.dynamic import wait, scroll_end_of_page\n",
    "from scrapper.brand.asos.Asos import Asos\n",
    "from scrapper.util.list import includes_excludes_filter, flatten\n",
    "from multiprocessing import Pool, freeze_support\n",
    "\n",
    "CATEGORIES = [\n",
    "    {\"name\": \"schuhe\", \"includes\": [\"shoe\"], \"excludes\": []},\n",
    "    {\"name\": \"hose\", \"includes\": [\"short\", \"jeans\", \"leggings\", \"trousers\"], \"excludes\": []},\n",
    "    {\"name\": \"shirt\", \"includes\": [\"shirt\", \"skirt\", \"blazer\", \"top\"], \"excludes\": []},\n",
    "    {\"name\": \"pullover\", \"includes\": [\"pullover\", \"cardigans\"], \"excludes\": []},\n",
    "    {\"name\": \"jacke\", \"includes\": [\"coat\"], \"excludes\": []},\n",
    "    {\"name\": \"kleid\", \"includes\": [\"dresses\"], \"excludes\": [\"kleidung\"]},\n",
    "    {\"name\": \"anzug\", \"includes\": [\"suit\", \"overalls\"], \"excludes\": []}\n",
    "]\n",
    "excludes = [\"sale\",  \"view+all\", \"new-in-clothing\", \"accessories\", \"face-body\", \"topshop\",  \"back-in-stock\", \\\n",
    "            \"fashion-online-4\", \"curve-plus-size\", \"maternity\", \"petite\", \"tall\", \"fashion-online-12\", \"generic-promos\", \\\n",
    "           \"designer\", \"a-to-z-of-brands\", \"exclusives\", \"activewear\", \"co-ords\", \"multipacks\", \"bags\", \\\n",
    "            \"bras\", \"fashion-online-\", \"yoga-studio\", \"ski-snowboard\", \"running\", \"outdoors\", \"ss-fashion-trend-\", \\\n",
    "            \"gym-training\", \"gifts\", \"wedding-attire\", \"underwear\", \\\n",
    "            \"plus-size\", \"outlet-edits\", \"back-to-school\", \"modestwear\", \"socks-tights\", \"swim\", \"lingerie\", \\\n",
    "            \"loungewear\", \"-essentials\", \"responsible-edit\", \"wedding\", \"workwear\", \"jewellery\", \"sunglasses\", \"party-wear\", \\\n",
    "           \"licence\"]\n",
    "\n",
    "logger = defaultLogger(\"asos\")\n",
    "THREADS = 2\n",
    "\n",
    "\n",
    "def filter_categories():\n",
    "    logger.debug(\"Filter Categories\")\n",
    "    with d_driver(headless=False) as driver:\n",
    "        asos = Asos(driver=driver, logger=logger)\n",
    "        categories = asos.list_categories()\n",
    "\n",
    "        filter_category = lambda category: (category[\"name\"], [x for x in categories if\n",
    "                                                               includes_excludes_filter(x[\"url\"],\n",
    "                                                                                        includes=category[\"includes\"],\n",
    "                                                                                        excludes=excludes)])\n",
    "        filterd_categories = [filter_category(x) for x in CATEGORIES]\n",
    "        return filterd_categories\n",
    "\n",
    "\n",
    "def flatten_category(category):\n",
    "    cat_name, cat_data = category\n",
    "    cat_urls = [x[\"url\"] for x in cat_data]\n",
    "    return list(zip([cat_name] * len(cat_urls), cat_urls))\n",
    "\n",
    "\n",
    "def flatten_categories(categories):\n",
    "    return flatten([flatten_category(x) for x in categories])\n",
    "\n",
    "def load_category(cat_data):\n",
    "    category_name, category_url = cat_data\n",
    "    print(category_name)\n",
    "    with d_driver(headless=False) as driver:\n",
    "        asos = Asos(driver=driver, logger=logger)\n",
    "        logger.debug(\"Loading\" + category_url)\n",
    "        print(\"Loading\" + category_url)\n",
    "        items = asos.list_category(category_url, PAGINATE=False)\n",
    "        return [{\"name\": category_name, \"url\": category_url, \"items\": [x]} for x in items]\n",
    "\n",
    "def prepare_categories():\n",
    "    \"\"\"\n",
    "    Alle Items laden (kein DL)\n",
    "    :return:\n",
    "    \"\"\"\n",
    "    category_jobs = flatten_categories(filter_categories())\n",
    "    category_jobs = category_jobs[:THREADS]\n",
    "    categories_data = []\n",
    "    with Pool(THREADS) as p:\n",
    "        r = p.map(load_category, tqdm(category_jobs, desc=f\"i) List Cat. {THREADS} Threads\", total=len(category_jobs)))\n",
    "        categories_data.append(r)\n",
    "        return flatten(categories_data)\n",
    "\n",
    "\n",
    "\n",
    "\n",
    "#categories_data = flatten(prepare_categories())"
   ]
  },
  {
   "cell_type": "code",
   "execution_count": 2,
   "id": "a46a76bc",
   "metadata": {},
   "outputs": [
    {
     "data": {
      "text/plain": [
       "16"
      ]
     },
     "execution_count": 2,
     "metadata": {},
     "output_type": "execute_result"
    }
   ],
   "source": [
    "import os\n",
    "os.cpu_count()"
   ]
  },
  {
   "cell_type": "code",
   "execution_count": 3,
   "id": "6cefa11b",
   "metadata": {},
   "outputs": [
    {
     "ename": "NameError",
     "evalue": "name 'categories_data' is not defined",
     "output_type": "error",
     "traceback": [
      "\u001b[1;31m---------------------------------------------------------------------------\u001b[0m",
      "\u001b[1;31mNameError\u001b[0m                                 Traceback (most recent call last)",
      "\u001b[1;32m<ipython-input-3-cb0ef4063ba9>\u001b[0m in \u001b[0;36m<module>\u001b[1;34m\u001b[0m\n\u001b[1;32m----> 1\u001b[1;33m \u001b[0mcategories_data\u001b[0m\u001b[1;33m\u001b[0m\u001b[1;33m\u001b[0m\u001b[0m\n\u001b[0m",
      "\u001b[1;31mNameError\u001b[0m: name 'categories_data' is not defined"
     ]
    }
   ],
   "source": [
    "categories_data"
   ]
  },
  {
   "cell_type": "code",
   "execution_count": 11,
   "id": "5b9843e9",
   "metadata": {},
   "outputs": [],
   "source": [
    "tmp = [ {\"name\": \"xyz\", \"url\": \"asdasd\", \"items\": [1, 2, 3]}, \n",
    " {\"name\": \"xyzabc\", \"url\": \"asdasd\", \"items\": [1, 2, 3]}, \n",
    " {\"name\": \"xyz\", \"url\": \"asdasd\", \"items\": [4, 5, 6]}]"
   ]
  },
  {
   "cell_type": "code",
   "execution_count": 12,
   "id": "4aa55249",
   "metadata": {},
   "outputs": [
    {
     "data": {
      "text/plain": [
       "[{'name': 'xyz', 'url': 'asdasd', 'items': [1, 2, 3]},\n",
       " {'name': 'xyzabc', 'url': 'asdasd', 'items': [1, 2, 3]},\n",
       " {'name': 'xyz', 'url': 'asdasd', 'items': [4, 5, 6]}]"
      ]
     },
     "execution_count": 12,
     "metadata": {},
     "output_type": "execute_result"
    }
   ],
   "source": [
    "tmp"
   ]
  },
  {
   "cell_type": "code",
   "execution_count": 16,
   "id": "59a3e2e2",
   "metadata": {},
   "outputs": [],
   "source": [
    "from collections import defaultdict\n",
    "results = defaultdict(lambda: [])"
   ]
  },
  {
   "cell_type": "code",
   "execution_count": 21,
   "id": "1e5ecf4c",
   "metadata": {},
   "outputs": [
    {
     "data": {
      "text/plain": [
       "[{'name': 'xyz', 'url': 'asdasd', 'items': [1, 2, 3]},\n",
       " {'name': 'xyzabc', 'url': 'asdasd', 'items': [1, 2, 3]},\n",
       " {'name': 'xyz', 'url': 'asdasd', 'items': [4, 5, 6]}]"
      ]
     },
     "execution_count": 21,
     "metadata": {},
     "output_type": "execute_result"
    }
   ],
   "source": [
    "tmp"
   ]
  },
  {
   "cell_type": "code",
   "execution_count": 17,
   "id": "9ba01d37",
   "metadata": {},
   "outputs": [],
   "source": [
    "for name in tmp:\n",
    "    results[x[\"name\"]].append(x)\n",
    "    "
   ]
  },
  {
   "cell_type": "code",
   "execution_count": 20,
   "id": "a3383b4e",
   "metadata": {},
   "outputs": [
    {
     "data": {
      "text/plain": [
       "dict_items([('xyz', [{'name': 'xyz', 'url': 'asdasd', 'items': [1, 2, 3]}, {'name': 'xyz', 'url': 'asdasd', 'items': [4, 5, 6]}]), ('xyzabc', [{'name': 'xyzabc', 'url': 'asdasd', 'items': [1, 2, 3]}])])"
      ]
     },
     "execution_count": 20,
     "metadata": {},
     "output_type": "execute_result"
    }
   ],
   "source": [
    "results.items()"
   ]
  }
 ],
 "metadata": {
  "kernelspec": {
   "display_name": "Python 3",
   "language": "python",
   "name": "python3"
  },
  "language_info": {
   "codemirror_mode": {
    "name": "ipython",
    "version": 3
   },
   "file_extension": ".py",
   "mimetype": "text/x-python",
   "name": "python",
   "nbconvert_exporter": "python",
   "pygments_lexer": "ipython3",
   "version": "3.8.5"
  }
 },
 "nbformat": 4,
 "nbformat_minor": 5
}
