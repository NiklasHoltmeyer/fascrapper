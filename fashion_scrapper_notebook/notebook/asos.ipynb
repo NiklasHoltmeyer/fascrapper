{
 "cells": [
  {
   "cell_type": "code",
   "execution_count": 1,
   "id": "596cb8d7",
   "metadata": {
    "scrolled": true
   },
   "outputs": [
    {
     "name": "stderr",
     "output_type": "stream",
     "text": [
      "WARNING: Ignoring invalid distribution -dm (c:\\programdata\\miniconda3\\lib\\site-packages)\n",
      "WARNING: Ignoring invalid distribution -umpy (c:\\programdata\\miniconda3\\lib\\site-packages)\n",
      "WARNING: Ignoring invalid distribution -udioengine (c:\\programdata\\miniconda3\\lib\\site-packages)\n",
      "WARNING: Ignoring invalid distribution -qdm (c:\\programdata\\miniconda3\\lib\\site-packages)\n",
      "WARNING: Ignoring invalid distribution - (c:\\programdata\\miniconda3\\lib\\site-packages)\n",
      "WARNING: Ignoring invalid distribution -arkupsafe (c:\\programdata\\miniconda3\\lib\\site-packages)\n",
      "ERROR: File \"setup.py\" or \"setup.cfg\" not found. Directory cannot be installed in editable mode: F:\\workspace\\fascrapper\\fashion_scrapper_notebook\\notebook\n",
      "WARNING: Ignoring invalid distribution -dm (c:\\programdata\\miniconda3\\lib\\site-packages)\n",
      "WARNING: Ignoring invalid distribution -umpy (c:\\programdata\\miniconda3\\lib\\site-packages)\n",
      "WARNING: Ignoring invalid distribution -udioengine (c:\\programdata\\miniconda3\\lib\\site-packages)\n",
      "WARNING: Ignoring invalid distribution -qdm (c:\\programdata\\miniconda3\\lib\\site-packages)\n",
      "WARNING: Ignoring invalid distribution - (c:\\programdata\\miniconda3\\lib\\site-packages)\n",
      "WARNING: Ignoring invalid distribution -arkupsafe (c:\\programdata\\miniconda3\\lib\\site-packages)\n",
      "WARNING: Ignoring invalid distribution -dm (c:\\programdata\\miniconda3\\lib\\site-packages)\n",
      "WARNING: Ignoring invalid distribution -umpy (c:\\programdata\\miniconda3\\lib\\site-packages)\n",
      "WARNING: Ignoring invalid distribution -udioengine (c:\\programdata\\miniconda3\\lib\\site-packages)\n",
      "WARNING: Ignoring invalid distribution -qdm (c:\\programdata\\miniconda3\\lib\\site-packages)\n",
      "WARNING: Ignoring invalid distribution - (c:\\programdata\\miniconda3\\lib\\site-packages)\n",
      "WARNING: Ignoring invalid distribution -arkupsafe (c:\\programdata\\miniconda3\\lib\\site-packages)\n",
      "WARNING: Ignoring invalid distribution -dm (c:\\programdata\\miniconda3\\lib\\site-packages)\n",
      "WARNING: Ignoring invalid distribution -umpy (c:\\programdata\\miniconda3\\lib\\site-packages)\n",
      "WARNING: Ignoring invalid distribution -udioengine (c:\\programdata\\miniconda3\\lib\\site-packages)\n",
      "WARNING: Ignoring invalid distribution -qdm (c:\\programdata\\miniconda3\\lib\\site-packages)\n",
      "WARNING: Ignoring invalid distribution - (c:\\programdata\\miniconda3\\lib\\site-packages)\n",
      "WARNING: Ignoring invalid distribution -arkupsafe (c:\\programdata\\miniconda3\\lib\\site-packages)\n"
     ]
    }
   ],
   "source": [
    "!cd  F:\\workspace\\fascrapper\\fashion_scrapper\n",
    "!pip install -e ."
   ]
  },
  {
   "cell_type": "code",
   "execution_count": 21,
   "id": "7c87bee7",
   "metadata": {},
   "outputs": [],
   "source": [
    "from scrapper.util.web.dynamic import driver as d_driver\n",
    "from selenium.webdriver.support import expected_conditions as EC\n",
    "\n",
    "from scrapper.util.list import distinct_list_of_dicts, flatten\n",
    "from scrapper.util.web.dynamic import wait, scroll_end_of_page\n",
    "from selenium.webdriver.common.by import By\n",
    "import os\n",
    "from pathlib import Path\n",
    "from scrapper.util.io import Json_DB"
   ]
  },
  {
   "cell_type": "code",
   "execution_count": 1,
   "id": "bfcd3488",
   "metadata": {},
   "outputs": [
    {
     "data": {
      "text/plain": [
       "6"
      ]
     },
     "execution_count": 1,
     "metadata": {},
     "output_type": "execute_result"
    }
   ],
   "source": []
  },
  {
   "cell_type": "code",
   "execution_count": 18,
   "id": "cca2d9f5",
   "metadata": {},
   "outputs": [],
   "source": [
    "db = r\"F:\\workspace\\fascrapper\\scrap_results\\asos\\categories_db\"\n",
    "db_paths = [Path(db, y) for y in [x for x in os.listdir(db) if \".json\" in x]]"
   ]
  },
  {
   "cell_type": "code",
   "execution_count": 37,
   "id": "da43e4a7",
   "metadata": {},
   "outputs": [
    {
     "name": "stdout",
     "output_type": "stream",
     "text": [
      "42910 (799 Dups)\n"
     ]
    }
   ],
   "source": [
    "#validate categories_db\n",
    "from collections import defaultdict\n",
    "counted_urls = defaultdict(lambda: 0)\n",
    "for db_p in db_paths:\n",
    "    db = Json_DB(db_p)\n",
    "    for entry in db.all():\n",
    "        keys = entry.keys()\n",
    "        assert len(keys) == 2\n",
    "        assert \"id\" in keys\n",
    "        assert \"url\" in keys\n",
    "        counted_urls[entry[\"url\"]] += 1\n",
    "        \n",
    "entries_count = sum([len(Json_DB(db_p).all()) for db_p in db_paths])\n",
    "count_dubs = len([(x, y) for (x, y) in counted_urls.items() if y > 1])\n",
    "print(entries_count, f\"({count_dubs} Dups)\")\n",
    "\n",
    "#42446 (799 Dups) -> 20.09. 20:22"
   ]
  },
  {
   "cell_type": "code",
   "execution_count": 20,
   "id": "99908a53",
   "metadata": {},
   "outputs": [
    {
     "data": {
      "text/plain": [
       "WindowsPath('F:/workspace/fascrapper/scrap_results/asos/categories_db/men_jeans.json')"
      ]
     },
     "execution_count": 20,
     "metadata": {},
     "output_type": "execute_result"
    }
   ],
   "source": [
    "db_paths[0]"
   ]
  },
  {
   "cell_type": "code",
   "execution_count": null,
   "id": "6297ce9a",
   "metadata": {},
   "outputs": [],
   "source": [
    "img_path = Path(\"F:/workspace/fascrapper/scrap_results/asos/pics/pullbear-printed-sandal-in-black/200753710-1-black\")"
   ]
  },
  {
   "cell_type": "code",
   "execution_count": null,
   "id": "46ef95af",
   "metadata": {},
   "outputs": [],
   "source": []
  },
  {
   "cell_type": "code",
   "execution_count": null,
   "id": "f98a6109",
   "metadata": {},
   "outputs": [],
   "source": [
    "try:\n",
    "    download_file (url=image_url, path=img_path, exist_ok = True)\n",
    "    print(img_path)\n",
    "except: \n",
    "    print(\"niet\") "
   ]
  },
  {
   "cell_type": "code",
   "execution_count": null,
   "id": "a420c9f9",
   "metadata": {},
   "outputs": [],
   "source": []
  },
  {
   "cell_type": "code",
   "execution_count": null,
   "id": "12f89dc3",
   "metadata": {},
   "outputs": [],
   "source": [
    "from PIL import Image\n",
    "Image.open(img_path).format_description"
   ]
  }
 ],
 "metadata": {
  "kernelspec": {
   "display_name": "Python 3",
   "language": "python",
   "name": "python3"
  },
  "language_info": {
   "codemirror_mode": {
    "name": "ipython",
    "version": 3
   },
   "file_extension": ".py",
   "mimetype": "text/x-python",
   "name": "python",
   "nbconvert_exporter": "python",
   "pygments_lexer": "ipython3",
   "version": "3.8.5"
  }
 },
 "nbformat": 4,
 "nbformat_minor": 5
}
