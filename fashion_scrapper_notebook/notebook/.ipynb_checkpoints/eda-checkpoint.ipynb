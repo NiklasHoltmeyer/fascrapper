{
 "cells": [
  {
   "cell_type": "code",
   "execution_count": 178,
   "id": "ba0ff75a",
   "metadata": {},
   "outputs": [],
   "source": [
    "from pathlib import Path\n",
    "\n",
    "from scrapper.brand.mango.helper.download.MangoPaths import MangoPaths\n",
    "from scrapper.util.io import Json_DB\n",
    "\n",
    "SCRAP_PATH = r\"F:\\workspace\\fascrapper\\scrap_results\\mango\"\n",
    "\n",
    "def list_dbs():\n",
    "    return [x for x in Path(SCRAP_PATH).rglob('*.json') \\\n",
    "            if not str(x).endswith(\"visited.json\")]\n",
    "\n",
    "def get_databases():\n",
    "    for db in list_dbs():\n",
    "        yield Json_DB(db)\n",
    "\n",
    "def walk_entries():\n",
    "    for db in get_databases():\n",
    "        for entry in db.all():\n",
    "            yield entry\n",
    "\n",
    "assert len(list_dbs()) == len(list(get_databases()))"
   ]
  },
  {
   "cell_type": "code",
   "execution_count": 307,
   "id": "1c75f9de",
   "metadata": {},
   "outputs": [
    {
     "data": {
      "text/plain": [
       "652"
      ]
     },
     "execution_count": 307,
     "metadata": {},
     "output_type": "execute_result"
    }
   ],
   "source": [
    "len(list(walk_entries()))"
   ]
  },
  {
   "cell_type": "code",
   "execution_count": 195,
   "id": "3ab2a752",
   "metadata": {},
   "outputs": [],
   "source": [
    "from collections import defaultdict\n",
    "from random import sample\n",
    "\n",
    "def group_entries_by_view():\n",
    "    grouped_images = defaultdict(lambda:[])\n",
    "    for entry in walk_entries():\n",
    "        images = entry[\"images\"]\n",
    "        for idx, image in enumerate(images):\n",
    "            ref_idx = 1 if idx != 1 else 0\n",
    "            assert ref_idx != idx\n",
    "            view_name = image[\"description\"]\n",
    "            path, path_ref = images[idx][\"path\"], images[ref_idx][\"path\"]\n",
    "            grouped_images[view_name].append({\"path\": path, \"path_ref\": path_ref})\n",
    "    return grouped_images\n",
    "grouped_entries = group_entries_by_view()"
   ]
  },
  {
   "cell_type": "code",
   "execution_count": 223,
   "id": "d9011983",
   "metadata": {},
   "outputs": [],
   "source": []
  },
  {
   "cell_type": "code",
   "execution_count": 264,
   "id": "35d1d00d",
   "metadata": {},
   "outputs": [],
   "source": [
    "import ipyplot\n",
    "from PIL import Image\n",
    "\n",
    "def _prepare_images(paths, key):\n",
    "    paths = [Path(SCRAP_PATH + x[key]) for x in paths]\n",
    "    paths = [str(x.resolve()) for x in paths]\n",
    "    paths = [Image.open(x) for x in paths]\n",
    "    return paths\n",
    "    \n",
    "def _walk_samples(max_size=15):\n",
    "    for view_name, images in grouped_entries.items():\n",
    "        samples = min(max_size, len(images))\n",
    "        random_examples = sample(images, samples)    \n",
    "\n",
    "        paths = _prepare_images(random_examples, \"path\")    \n",
    "        paths_ref = _prepare_images(random_examples, \"path_ref\")\n",
    "\n",
    "        yield view_name, paths, paths_ref\n",
    "        \n",
    "_samples_iter = list(_walk_samples(30))"
   ]
  },
  {
   "cell_type": "code",
   "execution_count": null,
   "id": "dfd36cda",
   "metadata": {},
   "outputs": [],
   "source": [
    "#vllt nicht\n",
    "Detail des Artikels 8\n",
    "\n",
    "# Schrott\n",
    "Detail des Artikels 7\n",
    "Detail des Artikels 9\n",
    "# Schwer\n",
    "Detail des Artikels 5\n",
    "generell vllt einfach details erstmal deleten?\n"
   ]
  },
  {
   "cell_type": "code",
   "execution_count": 292,
   "id": "711130bb",
   "metadata": {},
   "outputs": [
    {
     "ename": "IndexError",
     "evalue": "list index out of range",
     "output_type": "error",
     "traceback": [
      "\u001b[1;31m---------------------------------------------------------------------------\u001b[0m",
      "\u001b[1;31mIndexError\u001b[0m                                Traceback (most recent call last)",
      "\u001b[1;32m<ipython-input-292-33dec6549818>\u001b[0m in \u001b[0;36m<module>\u001b[1;34m\u001b[0m\n\u001b[1;32m----> 1\u001b[1;33m \u001b[0mview_name\u001b[0m\u001b[1;33m,\u001b[0m \u001b[0mpaths\u001b[0m\u001b[1;33m,\u001b[0m \u001b[0mpaths_ref\u001b[0m \u001b[1;33m=\u001b[0m \u001b[0m_samples_iter\u001b[0m\u001b[1;33m[\u001b[0m\u001b[1;36m21\u001b[0m\u001b[1;33m]\u001b[0m\u001b[1;33m\u001b[0m\u001b[1;33m\u001b[0m\u001b[0m\n\u001b[0m\u001b[0;32m      2\u001b[0m \u001b[0mprint\u001b[0m\u001b[1;33m(\u001b[0m\u001b[0mview_name\u001b[0m\u001b[1;33m)\u001b[0m\u001b[1;33m\u001b[0m\u001b[1;33m\u001b[0m\u001b[0m\n\u001b[0;32m      3\u001b[0m ipyplot.plot_images(paths, \n\u001b[0;32m      4\u001b[0m                         \u001b[0mlabels\u001b[0m\u001b[1;33m=\u001b[0m\u001b[1;33m[\u001b[0m\u001b[1;34mf\"{view_name}-{idx}\"\u001b[0m \u001b[1;32mfor\u001b[0m \u001b[0midx\u001b[0m \u001b[1;32min\u001b[0m \u001b[0mrange\u001b[0m\u001b[1;33m(\u001b[0m\u001b[0mlen\u001b[0m\u001b[1;33m(\u001b[0m\u001b[0mpaths\u001b[0m\u001b[1;33m)\u001b[0m\u001b[1;33m)\u001b[0m\u001b[1;33m]\u001b[0m\u001b[1;33m,\u001b[0m\u001b[1;33m\u001b[0m\u001b[1;33m\u001b[0m\u001b[0m\n\u001b[0;32m      5\u001b[0m                         max_images=None, img_width=200)\n",
      "\u001b[1;31mIndexError\u001b[0m: list index out of range"
     ]
    }
   ],
   "source": [
    "view_name, paths, paths_ref = _samples_iter[21]\n",
    "print(view_name)\n",
    "ipyplot.plot_images(paths, \n",
    "                        labels=[f\"{view_name}-{idx}\" for idx in range(len(paths))], \n",
    "                        max_images=None, img_width=200)\n",
    "    "
   ]
  },
  {
   "cell_type": "code",
   "execution_count": 353,
   "id": "4ea10f27",
   "metadata": {},
   "outputs": [],
   "source": [
    "def filterd_entries(shuffle_images=True):\n",
    "    views_filter = ['Mittlere Ansicht', 'Allgemeine Ansicht', 'Rückseite des Artikels', 'Artikel ohne Model']\n",
    "    for entry in walk_entries():\n",
    "        name, images = entry[\"name\"], entry[\"images\"]\n",
    "        images_filterd = [{\"view\":x[\"description\"], \"path\":x[\"path\"]} for x in images if x[\"description\"] in views_filter]\n",
    "        if shuffle_images:\n",
    "            yield {\"id\": name, \"images\": sample(images_filterd, len(images_filterd))}      \n",
    "        else:\n",
    "            yield {\"id\": name, \"images\": images_filterd}      \n",
    "  "
   ]
  },
  {
   "cell_type": "code",
   "execution_count": 391,
   "id": "8603c4ee",
   "metadata": {},
   "outputs": [],
   "source": [
    "anchor_items = (list(filterd_entries()))\n",
    "\n",
    "\n",
    "#anchor \n",
    "#positive\n",
    "#negative"
   ]
  },
  {
   "cell_type": "code",
   "execution_count": 393,
   "id": "b6805a1a",
   "metadata": {},
   "outputs": [
    {
     "data": {
      "text/plain": [
       "{'id': 'T-Shirt mit Rippbündchen',\n",
       " 'images': [{'view': 'Artikel ohne Model', 'path': '/S20/17025956_99_B.jpg'},\n",
       "  {'view': 'Rückseite des Artikels', 'path': '/S20/17025956_99_R.jpg'},\n",
       "  {'view': 'Allgemeine Ansicht',\n",
       "   'path': '/outfit/S20/17025956_99-99999999_01.jpg'},\n",
       "  {'view': 'Mittlere Ansicht', 'path': '/S20/17025956_99.jpg'}]}"
      ]
     },
     "execution_count": 393,
     "metadata": {},
     "output_type": "execute_result"
    }
   ],
   "source": [
    "anchor_items[0]"
   ]
  },
  {
   "cell_type": "code",
   "execution_count": 394,
   "id": "ecd08277",
   "metadata": {},
   "outputs": [],
   "source": [
    "import numpy as np"
   ]
  },
  {
   "cell_type": "code",
   "execution_count": 407,
   "id": "4b000033",
   "metadata": {},
   "outputs": [
    {
     "name": "stdout",
     "output_type": "stream",
     "text": [
      "[1, 2, 3]\n",
      "[2 1 3]\n"
     ]
    }
   ],
   "source": [
    "a = [1,2, 3] \n",
    "b = np.array(a)\n",
    "np.random.shuffle(b)\n",
    "print(a)\n",
    "print(b)"
   ]
  },
  {
   "cell_type": "code",
   "execution_count": null,
   "id": "dcf9c39b",
   "metadata": {},
   "outputs": [],
   "source": []
  },
  {
   "cell_type": "code",
   "execution_count": null,
   "id": "84d3da64",
   "metadata": {},
   "outputs": [],
   "source": [
    "def _self_reference(indices):\n",
    "    for c, idx in enumerate(indices):\n",
    "        if c == idx:\n",
    "            return True\n",
    "    return False\n",
    "\n",
    "def _random_references(num_idxs, max_retries=150):\n",
    "    random_idxs = list(range(num_idxs))\n",
    "    for _ in range(max_retries):        \n",
    "        shuffle(random_idxs) # in place\n",
    "        if not _self_reference(random_idxs):\n",
    "            break\n",
    "    return np.array(random_idxs) #copy -> None otherwise\n",
    "  \n",
    "def build_positive_anchors(entry):\n",
    "    images_anchor = entry[\"images\"]\n",
    "    positive_idxs = _random_references(len(images_anchor))\n",
    "    images_positives = [images_anchor[idx] for idx in positive_idxs]\n",
    "    return zip(images_anchor, images_positives)\n"
   ]
  },
  {
   "cell_type": "code",
   "execution_count": null,
   "id": "115dc799",
   "metadata": {},
   "outputs": [],
   "source": []
  }
 ],
 "metadata": {
  "kernelspec": {
   "display_name": "Python 3",
   "language": "python",
   "name": "python3"
  },
  "language_info": {
   "codemirror_mode": {
    "name": "ipython",
    "version": 3
   },
   "file_extension": ".py",
   "mimetype": "text/x-python",
   "name": "python",
   "nbconvert_exporter": "python",
   "pygments_lexer": "ipython3",
   "version": "3.8.5"
  }
 },
 "nbformat": 4,
 "nbformat_minor": 5
}
