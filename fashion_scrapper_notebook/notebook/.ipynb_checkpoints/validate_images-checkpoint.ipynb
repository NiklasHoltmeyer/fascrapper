{
 "cells": [
  {
   "cell_type": "code",
   "execution_count": 21,
   "id": "6d152722",
   "metadata": {},
   "outputs": [],
   "source": [
    "import os\n",
    "from pathlib import Path\n",
    "from tqdm.auto import tqdm\n",
    "from multiprocessing import Pool, freeze_support\n",
    "from PIL import Image\n",
    "from datetime import datetime\n",
    "from collections import defaultdict\n"
   ]
  },
  {
   "cell_type": "code",
   "execution_count": 22,
   "id": "882c442e",
   "metadata": {},
   "outputs": [],
   "source": [
    "def validate_images(image_base_path):\n",
    "    def load_img_format(i):\n",
    "        try:\n",
    "            return i, Image.open(i).format_description\n",
    "        except:\n",
    "            return i, None   \n",
    "        \n",
    "    img_list = list(filter(lambda x: x.is_file(), Path(image_base_path).rglob(\"*\")))\n",
    "    total = len(img_list)\n",
    "    img_w_formats = map(load_img_format, tqdm(img_list, desc=\"Load Image-Formats\",total=total))\n",
    "    \n",
    "    image_infos = defaultdict(lambda: [])\n",
    "    \n",
    "    for image, img_format in tqdm(img_w_formats, desc=\"Validate Images\",total=total):\n",
    "        image_infos[img_format].append(image)\n",
    "        if not img_format:\n",
    "            print(\"None\", image)\n",
    "\n",
    "    return image_infos\n",
    "            "
   ]
  },
  {
   "cell_type": "code",
   "execution_count": 23,
   "id": "3b394e0c",
   "metadata": {},
   "outputs": [
    {
     "data": {
      "application/json": {
       "ascii": false,
       "bar_format": null,
       "colour": null,
       "elapsed": 0.01500391960144043,
       "initial": 0,
       "n": 0,
       "ncols": null,
       "nrows": 29,
       "postfix": null,
       "prefix": "Load Image-Formats",
       "rate": null,
       "total": 100406,
       "unit": "it",
       "unit_divisor": 1000,
       "unit_scale": false
      },
      "application/vnd.jupyter.widget-view+json": {
       "model_id": "032001fdd0a741858e425ee8e70e4f38",
       "version_major": 2,
       "version_minor": 0
      },
      "text/plain": [
       "Load Image-Formats:   0%|          | 0/100406 [00:00<?, ?it/s]"
      ]
     },
     "metadata": {},
     "output_type": "display_data"
    },
    {
     "data": {
      "application/json": {
       "ascii": false,
       "bar_format": null,
       "colour": null,
       "elapsed": 0.013002395629882812,
       "initial": 0,
       "n": 0,
       "ncols": null,
       "nrows": 29,
       "postfix": null,
       "prefix": "Validate Images",
       "rate": null,
       "total": 100406,
       "unit": "it",
       "unit_divisor": 1000,
       "unit_scale": false
      },
      "application/vnd.jupyter.widget-view+json": {
       "model_id": "c63129824d7a419ba26818f5af9ebe6c",
       "version_major": 2,
       "version_minor": 0
      },
      "text/plain": [
       "Validate Images:   0%|          | 0/100406 [00:00<?, ?it/s]"
      ]
     },
     "metadata": {},
     "output_type": "display_data"
    }
   ],
   "source": [
    "pics_path = r\"F:\\workspace\\fascrapper\\scrap_results\\asos\\pics\"\n",
    "image_infos = validate_images(pics_path)"
   ]
  },
  {
   "cell_type": "code",
   "execution_count": 26,
   "id": "327df447",
   "metadata": {},
   "outputs": [
    {
     "data": {
      "text/plain": [
       "dict_keys(['JPEG (ISO 10918)'])"
      ]
     },
     "execution_count": 26,
     "metadata": {},
     "output_type": "execute_result"
    }
   ],
   "source": [
    "image_infos.keys()"
   ]
  },
  {
   "cell_type": "code",
   "execution_count": 27,
   "id": "c935ac9a",
   "metadata": {},
   "outputs": [],
   "source": [
    "for x, y in image_infos.items():\n",
    "    if not x:\n",
    "        print(y)"
   ]
  },
  {
   "cell_type": "code",
   "execution_count": null,
   "id": "3570f388",
   "metadata": {},
   "outputs": [],
   "source": []
  },
  {
   "cell_type": "code",
   "execution_count": null,
   "id": "0cc02e85",
   "metadata": {},
   "outputs": [],
   "source": []
  },
  {
   "cell_type": "code",
   "execution_count": null,
   "id": "f86350c8",
   "metadata": {},
   "outputs": [],
   "source": []
  }
 ],
 "metadata": {
  "kernelspec": {
   "display_name": "Python 3",
   "language": "python",
   "name": "python3"
  },
  "language_info": {
   "codemirror_mode": {
    "name": "ipython",
    "version": 3
   },
   "file_extension": ".py",
   "mimetype": "text/x-python",
   "name": "python",
   "nbconvert_exporter": "python",
   "pygments_lexer": "ipython3",
   "version": "3.8.5"
  }
 },
 "nbformat": 4,
 "nbformat_minor": 5
}
