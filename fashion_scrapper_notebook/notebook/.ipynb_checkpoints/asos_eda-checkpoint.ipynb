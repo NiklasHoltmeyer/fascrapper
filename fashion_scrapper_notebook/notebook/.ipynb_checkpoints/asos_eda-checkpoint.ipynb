{
 "cells": [
  {
   "cell_type": "code",
   "execution_count": 7,
   "id": "40271eed",
   "metadata": {},
   "outputs": [],
   "source": [
    "import time\n",
    "from multiprocessing import Pool, freeze_support\n",
    "from pathlib import Path\n",
    "\n",
    "from tinydb import where\n",
    "from tqdm.auto import tqdm\n",
    "from default_logger.defaultLogger import defaultLogger\n",
    "from scrapper.brand.asos.Asos import Asos\n",
    "from scrapper.brand.asos.helper.database.dbhelper import list_dbs_by_category\n",
    "from scrapper.brand.asos.helper.download.DownloadHelper import DownloadHelper\n",
    "from scrapper.util.io import Json_DB\n",
    "from scrapper.util.web.dynamic import driver as d_driver\n",
    "from scrapper.brand.asos.helper.download.AsosPaths import AsosPaths\n",
    "\n",
    "CATEGORIES = [\n",
    "    {\"name\": \"schuhe\", \"includes\": [\"shoe\"], \"excludes\": []},\n",
    "    {\"name\": \"hose\", \"includes\": [\"short\", \"jeans\", \"leggings\", \"trousers\"], \"excludes\": []},\n",
    "    {\"name\": \"shirt\", \"includes\": [\"shirt\", \"skirt\", \"blazer\", \"top\"], \"excludes\": []},\n",
    "    {\"name\": \"pullover\", \"includes\": [\"pullover\", \"cardigans\"], \"excludes\": []},\n",
    "    {\"name\": \"jacke\", \"includes\": [\"coat\"], \"excludes\": []},\n",
    "    {\"name\": \"kleid\", \"includes\": [\"dresses\"], \"excludes\": [\"kleidung\"]},\n",
    "    {\"name\": \"anzug\", \"includes\": [\"suit\", \"overalls\"], \"excludes\": []}\n",
    "]\n"
   ]
  },
  {
   "cell_type": "code",
   "execution_count": 9,
   "id": "c883848d",
   "metadata": {},
   "outputs": [],
   "source": [
    "BASE_PATH = r\"F:\\workspace\\fascrapper\\scrap_results\\asos\"\n",
    "brand_path = AsosPaths(BASE_PATH)\n",
    "#asos = Asos(d_driver(headless=False))\n",
    "\n",
    "categories_db_path = brand_path.get_category_db_base_path()\n",
    "entries_db_path = brand_path.get_entries_db_base_path()\n",
    "\n",
    "entries = list_dbs_by_category(entries_db_path, CATEGORIES)"
   ]
  },
  {
   "cell_type": "code",
   "execution_count": 11,
   "id": "cd9b9c66",
   "metadata": {},
   "outputs": [
    {
     "data": {
      "text/plain": [
       "dict_keys(['hose', 'schuhe', 'shirt'])"
      ]
     },
     "execution_count": 11,
     "metadata": {},
     "output_type": "execute_result"
    }
   ],
   "source": [
    "entries.keys()"
   ]
  },
  {
   "cell_type": "code",
   "execution_count": 12,
   "id": "c4b9b1dd",
   "metadata": {},
   "outputs": [],
   "source": [
    "entries_hose = entries[\"hose\"]"
   ]
  },
  {
   "cell_type": "code",
   "execution_count": 16,
   "id": "79ed307a",
   "metadata": {},
   "outputs": [],
   "source": [
    "db = Json_DB(entries_hose[0]) #<-  [0]"
   ]
  },
  {
   "cell_type": "code",
   "execution_count": 17,
   "id": "febed837",
   "metadata": {},
   "outputs": [],
   "source": [
    "all = db.all()"
   ]
  },
  {
   "cell_type": "code",
   "execution_count": 18,
   "id": "b49bebff",
   "metadata": {},
   "outputs": [
    {
     "data": {
      "text/plain": [
       "{'id': 'product-201033636',\n",
       " 'url': 'https://www.asos.com/pullbear/pull-bear-premium-ripped-super-skinny-jeans-in-blue/prd/201033636?colourwayid=201033637&cid=4208',\n",
       " 'name': 'Pull & Bear premium ripped super skinny jeans in blue',\n",
       " 'color': 'Blue',\n",
       " 'price': {'price': '27,99', 'currency': '£'},\n",
       " 'images': [{'url': 'https://images.asos-media.com/products/pull-bear-premium-ripped-super-skinny-jeans-in-blue/201033636-1-blue',\n",
       "   'url_full': 'https://images.asos-media.com/products/pull-bear-premium-ripped-super-skinny-jeans-in-blue/201033636-1-blue?$n_640w$&wid=513&fit=constrain',\n",
       "   'description': 'Pull & Bear premium ripped super skinny jeans in blue, 1 of 4'},\n",
       "  {'url': 'https://images.asos-media.com/products/pull-bear-premium-ripped-super-skinny-jeans-in-blue/201033636-2',\n",
       "   'url_full': 'https://images.asos-media.com/products/pull-bear-premium-ripped-super-skinny-jeans-in-blue/201033636-2?$n_640w$&wid=513&fit=constrain',\n",
       "   'description': 'Pull & Bear premium ripped super skinny jeans in blue, 2 of 4'},\n",
       "  {'url': 'https://images.asos-media.com/products/pull-bear-premium-ripped-super-skinny-jeans-in-blue/201033636-3',\n",
       "   'url_full': 'https://images.asos-media.com/products/pull-bear-premium-ripped-super-skinny-jeans-in-blue/201033636-3?$n_640w$&wid=513&fit=constrain',\n",
       "   'description': 'Pull & Bear premium ripped super skinny jeans in blue, 3 of 4'},\n",
       "  {'url': 'https://images.asos-media.com/products/pull-bear-premium-ripped-super-skinny-jeans-in-blue/201033636-4',\n",
       "   'url_full': 'https://images.asos-media.com/products/pull-bear-premium-ripped-super-skinny-jeans-in-blue/201033636-4?$n_640w$&wid=513&fit=constrain',\n",
       "   'description': 'Pull & Bear premium ripped super skinny jeans in blue, 4 of 4'}],\n",
       " 'related_items': []}"
      ]
     },
     "execution_count": 18,
     "metadata": {},
     "output_type": "execute_result"
    }
   ],
   "source": [
    "#'a_id', 'a_view', 'a_path', 'p_id', 'p_view', 'p_path', 'n_id',       'n_view', 'n_path'\n",
    "all[0]"
   ]
  }
 ],
 "metadata": {
  "kernelspec": {
   "display_name": "Python 3",
   "language": "python",
   "name": "python3"
  },
  "language_info": {
   "codemirror_mode": {
    "name": "ipython",
    "version": 3
   },
   "file_extension": ".py",
   "mimetype": "text/x-python",
   "name": "python",
   "nbconvert_exporter": "python",
   "pygments_lexer": "ipython3",
   "version": "3.8.5"
  }
 },
 "nbformat": 4,
 "nbformat_minor": 5
}
