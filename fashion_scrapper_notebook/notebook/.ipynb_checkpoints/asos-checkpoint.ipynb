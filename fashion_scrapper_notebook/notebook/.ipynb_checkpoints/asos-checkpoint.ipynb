{
 "cells": [
  {
   "cell_type": "code",
   "execution_count": null,
   "id": "596cb8d7",
   "metadata": {
    "scrolled": true
   },
   "outputs": [],
   "source": [
    "!cd  F:\\workspace\\fascrapper\\fashion_scrapper\n",
    "!pip install -e ."
   ]
  },
  {
   "cell_type": "code",
   "execution_count": null,
   "id": "5ceca526",
   "metadata": {},
   "outputs": [],
   "source": [
    "from pathlib import Path\n",
    "from bs4 import BeautifulSoup\n",
    "from scrapper.util.web.static import find_first_parent_href\n",
    "from scrapper.util.list import flatten, distinct, distinct_list_of_dicts\n",
    "from scrapper.util.web.dynamic import driver as ddriver\n",
    "from scrapper.brand.asos.webelements.views.Asos_Categories_Elements import Asos_Categories_Elements\n",
    "from scrapper.brand.asos.webelements.views.Asos_Category_Elements import Asos_Category_Elements\n",
    "from scrapper.brand.asos.webelements.views.Asos_item_Elements import Asos_Article_Elements\n",
    "from default_logger.defaultLogger import defaultLogger\n",
    "\n",
    "from random import shuffle\n",
    "from tqdm.auto import tqdm\n",
    "from scrapper.util.web.dynamic import driver as d_driver\n",
    "\n",
    "from time import sleep\n",
    "from selenium.common.exceptions import StaleElementReferenceException\n",
    "from selenium.webdriver.support import expected_conditions as EC\n",
    "from selenium.webdriver.common.by import By\n",
    "from scrapper.util.web.dynamic import wait, scroll_end_of_page\n",
    "from scrapper.brand.asos.Asos import Asos\n",
    "from scrapper.util.list import includes_excludes_filter, flatten\n",
    "from scrapper.util.download.DownloadHelper import DownloadHelper\n",
    "from multiprocessing import Pool, freeze_support\n",
    "\n",
    "\n",
    "CATEGORIES = [\n",
    "    {\"name\": \"schuhe\", \"includes\": [\"shoe\"], \"excludes\": []},\n",
    "    {\"name\": \"hose\", \"includes\": [\"short\", \"jeans\", \"leggings\", \"trousers\"], \"excludes\": []},\n",
    "    {\"name\": \"shirt\", \"includes\": [\"shirt\", \"skirt\", \"blazer\", \"top\"], \"excludes\": []},\n",
    "    {\"name\": \"pullover\", \"includes\": [\"pullover\", \"cardigans\"], \"excludes\": []},\n",
    "    {\"name\": \"jacke\", \"includes\": [\"coat\"], \"excludes\": []},\n",
    "    {\"name\": \"kleid\", \"includes\": [\"dresses\"], \"excludes\": [\"kleidung\"]},\n",
    "    {\"name\": \"anzug\", \"includes\": [\"suit\", \"overalls\"], \"excludes\": []}\n",
    "] \n",
    "BLACKLIST = [\"SALE\"]\n",
    "excludes = [\"sale\",  \"view+all\", \"new-in-clothing\", \"accessories\", \"face-body\", \"topshop\",  \"back-in-stock\", \\\n",
    "            \"fashion-online-4\", \"curve-plus-size\", \"maternity\", \"petite\", \"tall\", \"fashion-online-12\", \"generic-promos\", \\\n",
    "           \"designer\", \"a-to-z-of-brands\", \"exclusives\", \"activewear\", \"co-ords\", \"multipacks\", \"bags\", \\\n",
    "            \"bras\", \"fashion-online-\", \"yoga-studio\", \"ski-snowboard\", \"running\", \"outdoors\", \"ss-fashion-trend-\", \\\n",
    "            \"gym-training\", \"gifts\", \"wedding-attire\", \"underwear\", \\\n",
    "            \"plus-size\", \"outlet-edits\", \"back-to-school\", \"modestwear\", \"socks-tights\", \"swim\", \"lingerie\", \\\n",
    "            \"loungewear\", \"-essentials\", \"responsible-edit\", \"wedding\", \"workwear\", \"jewellery\", \"sunglasses\", \"party-wear\", \\\n",
    "           \"licence\"]\n",
    "\n",
    "logger = defaultLogger(\"asos\")\n",
    "\n",
    "THREADS = 16"
   ]
  },
  {
   "cell_type": "code",
   "execution_count": 2,
   "id": "6246df83",
   "metadata": {},
   "outputs": [],
   "source": [
    "def filter_categories():\n",
    "    logger.debug(\"Filter Categories\")\n",
    "    with d_driver(headless=False) as driver:\n",
    "        asos = Asos(driver=driver, logger=logger)\n",
    "        categories= asos.list_categories()\n",
    "        \n",
    "        filter_category = lambda category: (category[\"name\"], [x for x in categories if includes_excludes_filter(x[\"url\"], includes=category[\"includes\"], excludes=excludes)])\n",
    "        filterd_categories = [filter_category(x) for x in CATEGORIES]\n",
    "        return filterd_categories\n",
    "    \n",
    "def flatten_category(category):\n",
    "    cat_name, cat_data = category\n",
    "    cat_urls = [x[\"url\"] for x in cat_data]\n",
    "    return list(zip([cat_name] * len(cat_urls), cat_urls))\n",
    "\n",
    "def flatten_categories(categories):\n",
    "    return flatten([flatten_category(x) for x in categories])\n",
    "    #with d_driver() as driver:\n",
    "        #asos = Asos(driver=driver, logger=logger)   \n",
    "        #return {**category, \"sub_categories\": asos.list_category(cat_filt[\"url\"])}\n",
    "    "
   ]
  },
  {
   "cell_type": "code",
   "execution_count": 3,
   "id": "967d78b0",
   "metadata": {},
   "outputs": [
    {
     "name": "stdout",
     "output_type": "stream",
     "text": [
      "[2021-09-20 10:35:12,981] {<ipython-input-2-85c3cb8f8298>:2} DEBUG - Filter Categories\n"
     ]
    }
   ],
   "source": [
    "category_jobs = flatten_categories(filter_categories())"
   ]
  },
  {
   "cell_type": "code",
   "execution_count": 4,
   "id": "8f587426",
   "metadata": {},
   "outputs": [],
   "source": [
    "def load_category(cat_data):\n",
    "    category_name, category_url = cat_data\n",
    "    print(category_name)\n",
    "    with d_driver(headless=False) as driver:\n",
    "        asos = Asos(driver=driver, logger=logger)   \n",
    "        logger.debug(\"Loading\" + category_url)\n",
    "        print(\"Loading\" + category_url)\n",
    "        return {\"category\": category_name, \"url\": category_url, \"items\": asos.list_category(category_url)}    "
   ]
  },
  {
   "cell_type": "code",
   "execution_count": 5,
   "id": "8ddfee52",
   "metadata": {},
   "outputs": [],
   "source": [
    "category_jobs = category_jobs[:3]"
   ]
  },
  {
   "cell_type": "code",
   "execution_count": null,
   "id": "7cf44e19",
   "metadata": {},
   "outputs": [
    {
     "data": {
      "application/json": {
       "ascii": false,
       "bar_format": null,
       "colour": null,
       "elapsed": 0.030006885528564453,
       "initial": 0,
       "n": 0,
       "ncols": null,
       "nrows": 29,
       "postfix": null,
       "prefix": "i) List Cat. 16 Threads",
       "rate": null,
       "total": 3,
       "unit": "it",
       "unit_divisor": 1000,
       "unit_scale": false
      },
      "application/vnd.jupyter.widget-view+json": {
       "model_id": "335dc08d8bce4817b7b1f113e01672d0",
       "version_major": 2,
       "version_minor": 0
      },
      "text/plain": [
       "i) List Cat. 16 Threads:   0%|          | 0/3 [00:00<?, ?it/s]"
      ]
     },
     "metadata": {},
     "output_type": "display_data"
    }
   ],
   "source": [
    "categories_data = []\n",
    "with Pool(THREADS) as p:\n",
    "    r = p.map(load_category, tqdm(category_jobs, desc=f\"i) List Cat. {THREADS} Threads\", total=len(category_jobs)))\n",
    "    r = flatten(r)\n",
    "    categories_data.append(r)\n",
    "    "
   ]
  },
  {
   "cell_type": "code",
   "execution_count": null,
   "id": "36a58416",
   "metadata": {},
   "outputs": [],
   "source": []
  },
  {
   "cell_type": "code",
   "execution_count": null,
   "id": "54ff15f4",
   "metadata": {},
   "outputs": [],
   "source": []
  },
  {
   "cell_type": "code",
   "execution_count": null,
   "id": "f4168a14",
   "metadata": {},
   "outputs": [],
   "source": [
    "def _list_categories(category):\n",
    "    _filterd = [x for x in categories if includes_excludes_filter(x[\"url\"], includes=category[\"includes\"], excludes=excludes)]\n",
    "    shuffle(_filterd)\n",
    "    \n",
    "    \n",
    "    with d_driver() as driver:\n",
    "        asos = Asos(driver=driver, logger=logger)   \n",
    "        return [asos.list_category(cat_filt[\"url\"]) for cat_filt in tqdm(_filterd, desc=\"inner\", total=len(_filterd))]    "
   ]
  },
  {
   "cell_type": "code",
   "execution_count": null,
   "id": "b179fd87",
   "metadata": {},
   "outputs": [],
   "source": [
    "with Pool(THREADS) as p:\n",
    "    r = p.map(_list_categories, tqdm(CATEGORIES, desc=\"outter\", total=len(CATEGORIES)))\n",
    "    "
   ]
  },
  {
   "cell_type": "code",
   "execution_count": null,
   "id": "e13db062",
   "metadata": {},
   "outputs": [],
   "source": [
    "for category in tqdm(CATEGORIES, desc=\"outter\"): \n",
    "    _filterd = [x for x in categories if includes_excludes_filter(x[\"url\"], includes=category[\"includes\"], excludes=excludes)]\n",
    "    shuffle(_filterd)\n",
    "    _filterd = _filterd[:3]\n",
    "    for cat_filt in tqdm(_filterd, desc=\"inner\"):\n",
    "        category_items = asos.list_category(cat_filt[\"url\"])\n",
    "        shuffle(category_items)\n",
    "        category_items = category_items[:5]\n",
    "        for item in category_items:\n",
    "            #inner_shows.append(item)\n",
    "            item_show = asos.show(item[\"url\"])            \n",
    "            results.append(item_show[\"images\"])        "
   ]
  },
  {
   "cell_type": "code",
   "execution_count": null,
   "id": "22d5ea06",
   "metadata": {},
   "outputs": [],
   "source": [
    "for item in tqdm(inner_shows):\n",
    "    item_show = asos.show(item[\"url\"])            \n",
    "    results.append(item_show[\"images\"])   "
   ]
  },
  {
   "cell_type": "code",
   "execution_count": null,
   "id": "ca6a46da",
   "metadata": {},
   "outputs": [],
   "source": [
    "product_container = driver.find_element_by_id(\"core-product\")\n",
    "product_container_html = product_container.get_attribute(\"innerHTML\")\n",
    "product_doc = BeautifulSoup(product_container_html, 'html.parser')\n",
    "price_value = product_doc.find(\"span\", {\"data-id\": \"current-price\"}).text"
   ]
  },
  {
   "cell_type": "code",
   "execution_count": null,
   "id": "f609049d",
   "metadata": {},
   "outputs": [],
   "source": [
    "product_doc.find(\"span\", {\"data-id\": \"current-priceasdasd\"}) == None"
   ]
  },
  {
   "cell_type": "code",
   "execution_count": null,
   "id": "ac11ef45",
   "metadata": {},
   "outputs": [],
   "source": []
  },
  {
   "cell_type": "code",
   "execution_count": null,
   "id": "15d4bd93",
   "metadata": {},
   "outputs": [],
   "source": [
    "## dl_helper.download_images "
   ]
  },
  {
   "cell_type": "code",
   "execution_count": null,
   "id": "1e0adc98",
   "metadata": {},
   "outputs": [],
   "source": []
  },
  {
   "cell_type": "code",
   "execution_count": null,
   "id": "eeb4dc99",
   "metadata": {},
   "outputs": [],
   "source": []
  },
  {
   "cell_type": "code",
   "execution_count": null,
   "id": "ae179b66",
   "metadata": {},
   "outputs": [],
   "source": [
    "category = {'name': 'Best of sale',\n",
    " 'url': 'https://www.asos.com/women/sale/ctas/sale-edit-2/cat/?cid=28040&nlid=ww|sale|shop+sale+by+product|best+of+sale',\n",
    " 'category': 'women/sale/ctas/sale-edit-2'}"
   ]
  },
  {
   "cell_type": "code",
   "execution_count": null,
   "id": "39852e23",
   "metadata": {},
   "outputs": [],
   "source": [
    "category_items = asos.list_category(category[\"url\"])"
   ]
  },
  {
   "cell_type": "code",
   "execution_count": null,
   "id": "264766c7",
   "metadata": {
    "scrolled": true
   },
   "outputs": [],
   "source": [
    "len(category_items)"
   ]
  },
  {
   "cell_type": "code",
   "execution_count": null,
   "id": "d9ef3d27",
   "metadata": {},
   "outputs": [],
   "source": [
    "category_items[0][\"url\"]"
   ]
  },
  {
   "cell_type": "code",
   "execution_count": null,
   "id": "a6f26fd4",
   "metadata": {},
   "outputs": [],
   "source": [
    "item = {'id': 'product-201081426',\n",
    " 'url': 'https://www.asos.com/pullbear/pullbear-skinny-jeans-in-black/prd/201081426?colourwayid=201081427&cid=4208'}"
   ]
  },
  {
   "cell_type": "code",
   "execution_count": null,
   "id": "c064b20b",
   "metadata": {},
   "outputs": [],
   "source": [
    "item = asos.show(item[\"url\"])\n"
   ]
  },
  {
   "cell_type": "code",
   "execution_count": null,
   "id": "51b214e5",
   "metadata": {},
   "outputs": [],
   "source": [
    "item[\"images\"][0][\"url\"]"
   ]
  },
  {
   "cell_type": "code",
   "execution_count": null,
   "id": "f18c629b",
   "metadata": {},
   "outputs": [],
   "source": []
  },
  {
   "cell_type": "code",
   "execution_count": null,
   "id": "056af9b4",
   "metadata": {},
   "outputs": [],
   "source": []
  },
  {
   "cell_type": "code",
   "execution_count": null,
   "id": "93392dac",
   "metadata": {},
   "outputs": [],
   "source": [
    "driver.find_element_by_id(\"mightLike\").get_attribute(\"innerHTML\")"
   ]
  },
  {
   "cell_type": "code",
   "execution_count": null,
   "id": "d624dd89",
   "metadata": {},
   "outputs": [],
   "source": [
    "\n",
    "\n",
    "\n",
    "   "
   ]
  },
  {
   "cell_type": "code",
   "execution_count": null,
   "id": "d26bf698",
   "metadata": {},
   "outputs": [],
   "source": [
    "product_container = driver.find_element_by_id(\"core-product\")\n",
    "product_container_html = product_container.get_attribute(\"innerHTML\")\n",
    "product_doc = BeautifulSoup(product_container_html, 'html.parser')"
   ]
  },
  {
   "cell_type": "code",
   "execution_count": null,
   "id": "7c87bee7",
   "metadata": {},
   "outputs": [],
   "source": []
  },
  {
   "cell_type": "code",
   "execution_count": null,
   "id": "6cefa11b",
   "metadata": {},
   "outputs": [],
   "source": []
  },
  {
   "cell_type": "code",
   "execution_count": null,
   "id": "5b9843e9",
   "metadata": {},
   "outputs": [],
   "source": []
  }
 ],
 "metadata": {
  "kernelspec": {
   "display_name": "Python 3",
   "language": "python",
   "name": "python3"
  },
  "language_info": {
   "codemirror_mode": {
    "name": "ipython",
    "version": 3
   },
   "file_extension": ".py",
   "mimetype": "text/x-python",
   "name": "python",
   "nbconvert_exporter": "python",
   "pygments_lexer": "ipython3",
   "version": "3.8.5"
  }
 },
 "nbformat": 4,
 "nbformat_minor": 5
}
