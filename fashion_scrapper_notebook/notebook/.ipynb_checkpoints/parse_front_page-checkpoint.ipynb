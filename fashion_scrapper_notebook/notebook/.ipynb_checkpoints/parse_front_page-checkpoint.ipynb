{
 "cells": [
  {
   "cell_type": "code",
   "execution_count": 85,
   "id": "f842c5cc",
   "metadata": {},
   "outputs": [],
   "source": [
    "from time import sleep \n",
    "from selenium.webdriver import Chrome\n",
    "from bs4 import BeautifulSoup\n",
    "import re"
   ]
  },
  {
   "cell_type": "code",
   "execution_count": 86,
   "id": "66f4108d",
   "metadata": {},
   "outputs": [],
   "source": [
    "driver = Chrome(\"C:\\selenium\\chromedriver.exe\")\n",
    "driver.maximize_window()"
   ]
  },
  {
   "cell_type": "code",
   "execution_count": 87,
   "id": "7a9757e8",
   "metadata": {},
   "outputs": [],
   "source": [
    "url = \"https://shop.mango.com/de/herren\""
   ]
  },
  {
   "cell_type": "code",
   "execution_count": 88,
   "id": "211da25f",
   "metadata": {},
   "outputs": [],
   "source": [
    "def __get_header(driver):\n",
    "    header = driver.find_elements_by_css_selector(\"header\")\n",
    "    assert len(header) != 0\n",
    "    headerHTML = header[0].get_attribute(\"outerHTML\")\n",
    "    doc = BeautifulSoup(headerHTML, \"html.parser\")\n",
    "    \n",
    "    return doc\n",
    "\n",
    "def load_sub_categories(driver, url):\n",
    "    driver.get(url)\n",
    "    header = __get_header(driver)\n",
    "    hrefs = header.find_all(href=True)\n",
    "    hrefs = [{'href': href[\"href\"], \"text\" : href.text} for href in hrefs]\n",
    "    cat_top, cat_sub = [], []\n",
    "\n",
    "    for href in hrefs:\n",
    "        if (len(href[\"href\"].split(\"/\"))) == 5:\n",
    "            cat_top.append(href)\n",
    "        else:\n",
    "            cat_sub.append(href)    \n",
    "\n",
    "    assert len(hrefs) == len(cat_top) + len(cat_sub)\n",
    "\n",
    "    return cat_top, cat_sub \n",
    "\n",
    "def load_categories(driver, url):\n",
    "    visited_links = []\n",
    "    urls = [url]\n",
    "    categories = []\n",
    "    \n",
    "    while len(urls) > 0:\n",
    "        url = urls.pop()\n",
    "        cat_top, cat_sub = load_sub_categories(driver, url)\n",
    "        visited_links.append(url)\n",
    "\n",
    "        categories.extend(cat_top)\n",
    "        categories.extend(cat_sub)  \n",
    "\n",
    "        for x in cat_top:\n",
    "            if not x[\"href\"] in visited_links:\n",
    "                urls.append(x[\"href\"])\n",
    "                \n",
    "    return categories"
   ]
  },
  {
   "cell_type": "code",
   "execution_count": 89,
   "id": "4e0fb7a1",
   "metadata": {},
   "outputs": [],
   "source": [
    "categories = load_categories(driver, url)"
   ]
  }
 ],
 "metadata": {
  "kernelspec": {
   "display_name": "Python 3",
   "language": "python",
   "name": "python3"
  },
  "language_info": {
   "codemirror_mode": {
    "name": "ipython",
    "version": 3
   },
   "file_extension": ".py",
   "mimetype": "text/x-python",
   "name": "python",
   "nbconvert_exporter": "python",
   "pygments_lexer": "ipython3",
   "version": "3.8.5"
  }
 },
 "nbformat": 4,
 "nbformat_minor": 5
}
