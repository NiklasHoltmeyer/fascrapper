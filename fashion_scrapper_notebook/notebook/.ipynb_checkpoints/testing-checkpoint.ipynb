{
 "cells": [
  {
   "cell_type": "code",
   "execution_count": 1,
   "id": "b137e28e",
   "metadata": {},
   "outputs": [],
   "source": [
    "import os\n",
    "os.chdir(r'F:\\workspace\\fascrapper\\fashion_scrapper')"
   ]
  },
  {
   "cell_type": "code",
   "execution_count": 2,
   "id": "550f95a4",
   "metadata": {},
   "outputs": [
    {
     "name": "stderr",
     "output_type": "stream",
     "text": [
      "WARNING: Ignoring invalid distribution -dm (c:\\programdata\\miniconda3\\lib\\site-packages)\n",
      "WARNING: Ignoring invalid distribution -umpy (c:\\programdata\\miniconda3\\lib\\site-packages)\n",
      "WARNING: Ignoring invalid distribution -udioengine (c:\\programdata\\miniconda3\\lib\\site-packages)\n",
      "WARNING: Ignoring invalid distribution -qdm (c:\\programdata\\miniconda3\\lib\\site-packages)\n",
      "WARNING: Ignoring invalid distribution - (c:\\programdata\\miniconda3\\lib\\site-packages)\n",
      "WARNING: Ignoring invalid distribution -dm (c:\\programdata\\miniconda3\\lib\\site-packages)\n",
      "WARNING: Ignoring invalid distribution -umpy (c:\\programdata\\miniconda3\\lib\\site-packages)\n",
      "WARNING: Ignoring invalid distribution -udioengine (c:\\programdata\\miniconda3\\lib\\site-packages)\n",
      "WARNING: Ignoring invalid distribution -qdm (c:\\programdata\\miniconda3\\lib\\site-packages)\n",
      "WARNING: Ignoring invalid distribution - (c:\\programdata\\miniconda3\\lib\\site-packages)\n",
      "  WARNING: Ignoring invalid distribution -dm (c:\\programdata\\miniconda3\\lib\\site-packages)\n",
      "  WARNING: Ignoring invalid distribution -umpy (c:\\programdata\\miniconda3\\lib\\site-packages)\n",
      "  WARNING: Ignoring invalid distribution -udioengine (c:\\programdata\\miniconda3\\lib\\site-packages)\n",
      "  WARNING: Ignoring invalid distribution -qdm (c:\\programdata\\miniconda3\\lib\\site-packages)\n",
      "  WARNING: Ignoring invalid distribution - (c:\\programdata\\miniconda3\\lib\\site-packages)\n",
      "WARNING: Ignoring invalid distribution -dm (c:\\programdata\\miniconda3\\lib\\site-packages)\n",
      "WARNING: Ignoring invalid distribution -umpy (c:\\programdata\\miniconda3\\lib\\site-packages)\n",
      "WARNING: Ignoring invalid distribution -udioengine (c:\\programdata\\miniconda3\\lib\\site-packages)\n",
      "WARNING: Ignoring invalid distribution -qdm (c:\\programdata\\miniconda3\\lib\\site-packages)\n",
      "WARNING: Ignoring invalid distribution - (c:\\programdata\\miniconda3\\lib\\site-packages)\n",
      "    WARNING: Ignoring invalid distribution -dm (c:\\programdata\\miniconda3\\lib\\site-packages)\n",
      "    WARNING: Ignoring invalid distribution -umpy (c:\\programdata\\miniconda3\\lib\\site-packages)\n",
      "    WARNING: Ignoring invalid distribution -udioengine (c:\\programdata\\miniconda3\\lib\\site-packages)\n",
      "    WARNING: Ignoring invalid distribution -qdm (c:\\programdata\\miniconda3\\lib\\site-packages)\n",
      "    WARNING: Ignoring invalid distribution - (c:\\programdata\\miniconda3\\lib\\site-packages)\n",
      "WARNING: Ignoring invalid distribution -dm (c:\\programdata\\miniconda3\\lib\\site-packages)\n",
      "WARNING: Ignoring invalid distribution -umpy (c:\\programdata\\miniconda3\\lib\\site-packages)\n",
      "WARNING: Ignoring invalid distribution -udioengine (c:\\programdata\\miniconda3\\lib\\site-packages)\n",
      "WARNING: Ignoring invalid distribution -qdm (c:\\programdata\\miniconda3\\lib\\site-packages)\n",
      "WARNING: Ignoring invalid distribution - (c:\\programdata\\miniconda3\\lib\\site-packages)\n",
      "WARNING: Ignoring invalid distribution -dm (c:\\programdata\\miniconda3\\lib\\site-packages)\n",
      "WARNING: Ignoring invalid distribution -umpy (c:\\programdata\\miniconda3\\lib\\site-packages)\n",
      "WARNING: Ignoring invalid distribution -udioengine (c:\\programdata\\miniconda3\\lib\\site-packages)\n",
      "WARNING: Ignoring invalid distribution -qdm (c:\\programdata\\miniconda3\\lib\\site-packages)\n",
      "WARNING: Ignoring invalid distribution - (c:\\programdata\\miniconda3\\lib\\site-packages)\n",
      "WARNING: Ignoring invalid distribution -dm (c:\\programdata\\miniconda3\\lib\\site-packages)\n",
      "WARNING: Ignoring invalid distribution -umpy (c:\\programdata\\miniconda3\\lib\\site-packages)\n",
      "WARNING: Ignoring invalid distribution -udioengine (c:\\programdata\\miniconda3\\lib\\site-packages)\n",
      "WARNING: Ignoring invalid distribution -qdm (c:\\programdata\\miniconda3\\lib\\site-packages)\n",
      "WARNING: Ignoring invalid distribution - (c:\\programdata\\miniconda3\\lib\\site-packages)\n",
      "WARNING: Ignoring invalid distribution -dm (c:\\programdata\\miniconda3\\lib\\site-packages)\n",
      "WARNING: Ignoring invalid distribution -umpy (c:\\programdata\\miniconda3\\lib\\site-packages)\n",
      "WARNING: Ignoring invalid distribution -udioengine (c:\\programdata\\miniconda3\\lib\\site-packages)\n",
      "WARNING: Ignoring invalid distribution -qdm (c:\\programdata\\miniconda3\\lib\\site-packages)\n",
      "WARNING: Ignoring invalid distribution - (c:\\programdata\\miniconda3\\lib\\site-packages)\n",
      "WARNING: Ignoring invalid distribution -dm (c:\\programdata\\miniconda3\\lib\\site-packages)\n",
      "WARNING: Ignoring invalid distribution -umpy (c:\\programdata\\miniconda3\\lib\\site-packages)\n",
      "WARNING: Ignoring invalid distribution -udioengine (c:\\programdata\\miniconda3\\lib\\site-packages)\n",
      "WARNING: Ignoring invalid distribution -qdm (c:\\programdata\\miniconda3\\lib\\site-packages)\n",
      "WARNING: Ignoring invalid distribution - (c:\\programdata\\miniconda3\\lib\\site-packages)\n"
     ]
    }
   ],
   "source": [
    "!pip install -q -e ."
   ]
  },
  {
   "cell_type": "code",
   "execution_count": 10,
   "id": "9007e26b",
   "metadata": {},
   "outputs": [],
   "source": [
    "from scrapper.brand.mango.helper import *\n",
    "from scrapper.brand.mango.Mango import Mango\n",
    "from default_logger.defaultLogger import defaultLogger\n",
    "from scrapper.util.web.dynamic import driver as d_driver\n",
    "from scrapper.util.io import Json_DB\n",
    "from scrapper.brand.mango.helper.download.DownloadHelper import DownloadHelper\n",
    "from time import sleep"
   ]
  },
  {
   "cell_type": "code",
   "execution_count": 11,
   "id": "02f77651",
   "metadata": {},
   "outputs": [
    {
     "ename": "NameError",
     "evalue": "name 'DownloadHelper' is not defined",
     "output_type": "error",
     "traceback": [
      "\u001b[1;31m---------------------------------------------------------------------------\u001b[0m",
      "\u001b[1;31mNameError\u001b[0m                                 Traceback (most recent call last)",
      "\u001b[1;32m<ipython-input-11-e731c44b947a>\u001b[0m in \u001b[0;36m<module>\u001b[1;34m\u001b[0m\n\u001b[0;32m      7\u001b[0m     \u001b[1;34m\"BASE_PATH\"\u001b[0m\u001b[1;33m:\u001b[0m \u001b[0mBASE_PATH\u001b[0m\u001b[1;33m\u001b[0m\u001b[1;33m\u001b[0m\u001b[0m\n\u001b[0;32m      8\u001b[0m }\n\u001b[1;32m----> 9\u001b[1;33m \u001b[0mdl_helper\u001b[0m \u001b[1;33m=\u001b[0m \u001b[0mDownloadHelper\u001b[0m\u001b[1;33m(\u001b[0m\u001b[1;33m**\u001b[0m\u001b[0mdl_settings\u001b[0m\u001b[1;33m)\u001b[0m\u001b[1;33m\u001b[0m\u001b[1;33m\u001b[0m\u001b[0m\n\u001b[0m",
      "\u001b[1;31mNameError\u001b[0m: name 'DownloadHelper' is not defined"
     ]
    }
   ],
   "source": [
    "category_url = \"https://shop.mango.com/de/herren/polo-shirts_c20667557\"\n",
    "BASE_PATH = r\"F:\\workspace\\fascrapper\\scrap_results\\mango\"\n",
    "dl_settings = {\n",
    "    \"visited_db\": Json_DB(BASE_PATH, \"visited.json\"),\n",
    "    \"logger\": logger,\n",
    "    \"mango\": mango,\n",
    "    \"BASE_PATH\": BASE_PATH\n",
    "}\n",
    "dl_helper = DownloadHelper(**dl_settings)"
   ]
  },
  {
   "cell_type": "code",
   "execution_count": 8,
   "id": "bf7404ee",
   "metadata": {},
   "outputs": [],
   "source": [
    "logger = defaultLogger(\"Mango\")\n",
    "driver = d_driver()\n",
    "mango = Mango(driver=driver, logger=logger)"
   ]
  },
  {
   "cell_type": "code",
   "execution_count": null,
   "id": "6bdac0f1",
   "metadata": {},
   "outputs": [],
   "source": [
    "logger = defaultLogger(\"Mango\")\n",
    "driver = util.web.dynamic.driver()\n",
    "mango = Mango(driver=driver, logger=logger)\n",
    "\n",
    "\n",
    "\n",
    "#response = dl_helper.download_images(category_url,IGNORE_CATEGORY_EXISTING=True)\n",
    "categories = mango.list_categories(\"https://shop.mango.com/de/herren\")\n",
    "categories_filterd = [x for x in categories if \"shirt\" in x]\n",
    "\n",
    "responses = [dl_helper.download_images(x, IGNORE_CATEGORY_EXISTING=True) for x in tqdm(categories_filterd, desc=\"High Level\")]"
   ]
  },
  {
   "cell_type": "code",
   "execution_count": null,
   "id": "4d56a94b",
   "metadata": {},
   "outputs": [],
   "source": [
    "logger = defaultLogger(\"Mango\")\n",
    "driver = util.web.dynamic.driver()\n",
    "mango = Mango(driver=driver, logger=logger)\n",
    "\n",
    "category_url = \"https://shop.mango.com/de/herren/polo-shirts_c20667557\"\n",
    "BASE_PATH = r\"F:\\workspace\\fascrapper\\scrap_results\\mango\"\n",
    "dl_settings = {\n",
    "    \"visited_db\": Json_DB(BASE_PATH, \"visited.json\"),\n",
    "    \"logger\": logger,\n",
    "    \"mango\": mango,\n",
    "    \"BASE_PATH\": BASE_PATH\n",
    "}\n",
    "dl_helper = DownloadHelper(**dl_settings)\n",
    "\n",
    "#response = dl_helper.download_images(category_url,IGNORE_CATEGORY_EXISTING=True)\n",
    "for i in range(2):\n",
    "    categories = mango.list_categories(\"https://shop.mango.com/de/herren\")\n",
    "    categories_filterd = [x for x in categories if \"shirt\" in x]\n",
    "\n",
    "    responses = [dl_helper.download_images(x, IGNORE_CATEGORY_EXISTING=True) for x in tqdm(categories_filterd, desc=\"High Level\")]"
   ]
  },
  {
   "cell_type": "code",
   "execution_count": null,
   "id": "2967cd46",
   "metadata": {},
   "outputs": [],
   "source": [
    "responses"
   ]
  },
  {
   "cell_type": "code",
   "execution_count": null,
   "id": "df95c93d",
   "metadata": {},
   "outputs": [],
   "source": []
  },
  {
   "cell_type": "code",
   "execution_count": null,
   "id": "f7ab4d33",
   "metadata": {},
   "outputs": [],
   "source": []
  },
  {
   "cell_type": "code",
   "execution_count": null,
   "id": "2eeeb087",
   "metadata": {},
   "outputs": [],
   "source": []
  },
  {
   "cell_type": "code",
   "execution_count": null,
   "id": "cc23e1a3",
   "metadata": {},
   "outputs": [],
   "source": [
    "test_db = Json_DB(r\"F:\\workspace\\fascrapper\\scrap_results\\mango\\herren\\polo-shirts_c20667557\", \"data.json\")"
   ]
  },
  {
   "cell_type": "code",
   "execution_count": null,
   "id": "002ea4ab",
   "metadata": {},
   "outputs": [],
   "source": [
    "d = test_db.all()"
   ]
  },
  {
   "cell_type": "code",
   "execution_count": null,
   "id": "c1ec7529",
   "metadata": {},
   "outputs": [],
   "source": [
    "needle = d[0][\"url\"]\n",
    "len(test_db.search(where('url') == needle))\n"
   ]
  },
  {
   "cell_type": "code",
   "execution_count": null,
   "id": "d7bfc606",
   "metadata": {},
   "outputs": [],
   "source": []
  }
 ],
 "metadata": {
  "kernelspec": {
   "display_name": "Python 3",
   "language": "python",
   "name": "python3"
  },
  "language_info": {
   "codemirror_mode": {
    "name": "ipython",
    "version": 3
   },
   "file_extension": ".py",
   "mimetype": "text/x-python",
   "name": "python",
   "nbconvert_exporter": "python",
   "pygments_lexer": "ipython3",
   "version": "3.8.5"
  }
 },
 "nbformat": 4,
 "nbformat_minor": 5
}
