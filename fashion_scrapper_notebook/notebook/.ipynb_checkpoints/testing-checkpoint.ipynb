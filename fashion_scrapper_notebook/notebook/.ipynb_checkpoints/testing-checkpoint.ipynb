{
 "cells": [
  {
   "cell_type": "code",
   "execution_count": 5,
   "id": "befd6e5c",
   "metadata": {},
   "outputs": [],
   "source": [
    "import os\n",
    "os.chdir(r'F:\\workspace\\fascrapper\\fashion_scrapper')"
   ]
  },
  {
   "cell_type": "code",
   "execution_count": 6,
   "id": "342c40c8",
   "metadata": {},
   "outputs": [
    {
     "name": "stderr",
     "output_type": "stream",
     "text": [
      "WARNING: Ignoring invalid distribution -dm (c:\\programdata\\miniconda3\\lib\\site-packages)\n",
      "WARNING: Ignoring invalid distribution -umpy (c:\\programdata\\miniconda3\\lib\\site-packages)\n",
      "WARNING: Ignoring invalid distribution -udioengine (c:\\programdata\\miniconda3\\lib\\site-packages)\n",
      "WARNING: Ignoring invalid distribution -qdm (c:\\programdata\\miniconda3\\lib\\site-packages)\n",
      "WARNING: Ignoring invalid distribution - (c:\\programdata\\miniconda3\\lib\\site-packages)\n",
      "WARNING: Ignoring invalid distribution -dm (c:\\programdata\\miniconda3\\lib\\site-packages)\n",
      "WARNING: Ignoring invalid distribution -umpy (c:\\programdata\\miniconda3\\lib\\site-packages)\n",
      "WARNING: Ignoring invalid distribution -udioengine (c:\\programdata\\miniconda3\\lib\\site-packages)\n",
      "WARNING: Ignoring invalid distribution -qdm (c:\\programdata\\miniconda3\\lib\\site-packages)\n",
      "WARNING: Ignoring invalid distribution - (c:\\programdata\\miniconda3\\lib\\site-packages)\n",
      "  WARNING: Ignoring invalid distribution -dm (c:\\programdata\\miniconda3\\lib\\site-packages)\n",
      "  WARNING: Ignoring invalid distribution -umpy (c:\\programdata\\miniconda3\\lib\\site-packages)\n",
      "  WARNING: Ignoring invalid distribution -udioengine (c:\\programdata\\miniconda3\\lib\\site-packages)\n",
      "  WARNING: Ignoring invalid distribution -qdm (c:\\programdata\\miniconda3\\lib\\site-packages)\n",
      "  WARNING: Ignoring invalid distribution - (c:\\programdata\\miniconda3\\lib\\site-packages)\n",
      "WARNING: Ignoring invalid distribution -dm (c:\\programdata\\miniconda3\\lib\\site-packages)\n",
      "WARNING: Ignoring invalid distribution -umpy (c:\\programdata\\miniconda3\\lib\\site-packages)\n",
      "WARNING: Ignoring invalid distribution -udioengine (c:\\programdata\\miniconda3\\lib\\site-packages)\n",
      "WARNING: Ignoring invalid distribution -qdm (c:\\programdata\\miniconda3\\lib\\site-packages)\n",
      "WARNING: Ignoring invalid distribution - (c:\\programdata\\miniconda3\\lib\\site-packages)\n",
      "    WARNING: Ignoring invalid distribution -dm (c:\\programdata\\miniconda3\\lib\\site-packages)\n",
      "    WARNING: Ignoring invalid distribution -umpy (c:\\programdata\\miniconda3\\lib\\site-packages)\n",
      "    WARNING: Ignoring invalid distribution -udioengine (c:\\programdata\\miniconda3\\lib\\site-packages)\n",
      "    WARNING: Ignoring invalid distribution -qdm (c:\\programdata\\miniconda3\\lib\\site-packages)\n",
      "    WARNING: Ignoring invalid distribution - (c:\\programdata\\miniconda3\\lib\\site-packages)\n",
      "WARNING: Ignoring invalid distribution -dm (c:\\programdata\\miniconda3\\lib\\site-packages)\n",
      "WARNING: Ignoring invalid distribution -umpy (c:\\programdata\\miniconda3\\lib\\site-packages)\n",
      "WARNING: Ignoring invalid distribution -udioengine (c:\\programdata\\miniconda3\\lib\\site-packages)\n",
      "WARNING: Ignoring invalid distribution -qdm (c:\\programdata\\miniconda3\\lib\\site-packages)\n",
      "WARNING: Ignoring invalid distribution - (c:\\programdata\\miniconda3\\lib\\site-packages)\n",
      "WARNING: Ignoring invalid distribution -dm (c:\\programdata\\miniconda3\\lib\\site-packages)\n",
      "WARNING: Ignoring invalid distribution -umpy (c:\\programdata\\miniconda3\\lib\\site-packages)\n",
      "WARNING: Ignoring invalid distribution -udioengine (c:\\programdata\\miniconda3\\lib\\site-packages)\n",
      "WARNING: Ignoring invalid distribution -qdm (c:\\programdata\\miniconda3\\lib\\site-packages)\n",
      "WARNING: Ignoring invalid distribution - (c:\\programdata\\miniconda3\\lib\\site-packages)\n",
      "WARNING: Ignoring invalid distribution -dm (c:\\programdata\\miniconda3\\lib\\site-packages)\n",
      "WARNING: Ignoring invalid distribution -umpy (c:\\programdata\\miniconda3\\lib\\site-packages)\n",
      "WARNING: Ignoring invalid distribution -udioengine (c:\\programdata\\miniconda3\\lib\\site-packages)\n",
      "WARNING: Ignoring invalid distribution -qdm (c:\\programdata\\miniconda3\\lib\\site-packages)\n",
      "WARNING: Ignoring invalid distribution - (c:\\programdata\\miniconda3\\lib\\site-packages)\n",
      "WARNING: Ignoring invalid distribution -dm (c:\\programdata\\miniconda3\\lib\\site-packages)\n",
      "WARNING: Ignoring invalid distribution -umpy (c:\\programdata\\miniconda3\\lib\\site-packages)\n",
      "WARNING: Ignoring invalid distribution -udioengine (c:\\programdata\\miniconda3\\lib\\site-packages)\n",
      "WARNING: Ignoring invalid distribution -qdm (c:\\programdata\\miniconda3\\lib\\site-packages)\n",
      "WARNING: Ignoring invalid distribution - (c:\\programdata\\miniconda3\\lib\\site-packages)\n",
      "WARNING: Ignoring invalid distribution -dm (c:\\programdata\\miniconda3\\lib\\site-packages)\n",
      "WARNING: Ignoring invalid distribution -umpy (c:\\programdata\\miniconda3\\lib\\site-packages)\n",
      "WARNING: Ignoring invalid distribution -udioengine (c:\\programdata\\miniconda3\\lib\\site-packages)\n",
      "WARNING: Ignoring invalid distribution -qdm (c:\\programdata\\miniconda3\\lib\\site-packages)\n",
      "WARNING: Ignoring invalid distribution - (c:\\programdata\\miniconda3\\lib\\site-packages)\n"
     ]
    }
   ],
   "source": [
    "!pip install -q -e ."
   ]
  },
  {
   "cell_type": "code",
   "execution_count": 9,
   "id": "f683702f",
   "metadata": {},
   "outputs": [],
   "source": [
    "from default_logger.defaultLogger import defaultLogger\n",
    "from scrapper.brand.mango.Mango import Mango\n",
    "from util.web.dynamic import *"
   ]
  },
  {
   "cell_type": "code",
   "execution_count": 11,
   "id": "434d6888",
   "metadata": {},
   "outputs": [],
   "source": [
    "logger = defaultLogger(\"Mango\")\n",
    "driver = driver()\n",
    "mango = Mango(driver=driver, logger=logger)"
   ]
  },
  {
   "cell_type": "code",
   "execution_count": 13,
   "id": "97622ad2",
   "metadata": {},
   "outputs": [
    {
     "name": "stdout",
     "output_type": "stream",
     "text": [
      "[2021-09-13 13:20:36,539] {_WebElements.py:110} DEBUG - Loading Sub Category https://shop.mango.com/de/herren\n",
      "[2021-09-13 13:20:37,225] {_WebElements.py:110} DEBUG - Loading Sub Category https://shop.mango.com/de/home\n",
      "[2021-09-13 13:20:37,925] {_WebElements.py:110} DEBUG - Loading Sub Category https://shop.mango.com/de/kinder\n",
      "[2021-09-13 13:20:38,520] {_WebElements.py:110} DEBUG - Loading Sub Category https://shop.mango.com/de/teen\n",
      "[2021-09-13 13:20:39,280] {_WebElements.py:110} DEBUG - Loading Sub Category https://shop.mango.com/de/damen\n",
      "[2021-09-13 13:20:40,171] {_WebElements.py:110} DEBUG - Loading Sub Category https://shop.mango.com/de/damen\n",
      "[2021-09-13 13:20:40,681] {_WebElements.py:110} DEBUG - Loading Sub Category https://shop.mango.com/de/teen\n",
      "[2021-09-13 13:20:41,228] {_WebElements.py:110} DEBUG - Loading Sub Category https://shop.mango.com/de/damen\n"
     ]
    }
   ],
   "source": [
    "url = \"https://shop.mango.com/de/herren\"\n",
    "category_urls = mango.list_categories(url)"
   ]
  },
  {
   "cell_type": "code",
   "execution_count": 14,
   "id": "2db7adcc",
   "metadata": {},
   "outputs": [],
   "source": [
    "from pathlib import Path\n",
    "from tinydb import TinyDB, Query\n",
    "from datetime import datetime\n",
    "\n",
    "from tinydb.storages import JSONStorage\n",
    "from tinydb_serialization import SerializationMiddleware\n",
    "from tinydb_serialization.serializers import DateTimeSerializer\n",
    "from tinydb import where\n",
    "\n",
    "from datetime import datetime"
   ]
  },
  {
   "cell_type": "code",
   "execution_count": 15,
   "id": "eda5bdbf",
   "metadata": {},
   "outputs": [],
   "source": [
    "category_url = [x for x in category_urls if \"shirt\" in x][3]"
   ]
  },
  {
   "cell_type": "code",
   "execution_count": 18,
   "id": "f5308687",
   "metadata": {},
   "outputs": [
    {
     "data": {
      "text/plain": [
       "'scrapper.brand.mango.webelements._WebElements.py'"
      ]
     },
     "execution_count": 18,
     "metadata": {},
     "output_type": "execute_result"
    }
   ],
   "source": [
    "\"scrapper/brand/mango/webelements/_WebElements.py\".replace(\"/\", \".\")"
   ]
  },
  {
   "cell_type": "code",
   "execution_count": 23,
   "id": "51f412e6",
   "metadata": {},
   "outputs": [],
   "source": [
    "from scrapper.brand.mango.webelements._WebElements import _Mango_Selectors\n",
    "from scrapper.brand.mango.helper import (Paths as MPath)"
   ]
  },
  {
   "cell_type": "code",
   "execution_count": 21,
   "id": "e4f7d867",
   "metadata": {},
   "outputs": [],
   "source": []
  },
  {
   "cell_type": "code",
   "execution_count": 25,
   "id": "265456da",
   "metadata": {},
   "outputs": [],
   "source": [
    "SCRAP_PATH = r\"F:\\workspace\\fascrapper\\scrap_results\\mango\"\n",
    "Path(SCRAP_PATH).mkdir(parents=True, exist_ok=True)"
   ]
  },
  {
   "cell_type": "code",
   "execution_count": 26,
   "id": "a93c9805",
   "metadata": {},
   "outputs": [],
   "source": [
    "mango_path = MPath(SCRAP_PATH)"
   ]
  },
  {
   "cell_type": "code",
   "execution_count": null,
   "id": "4786d1f4",
   "metadata": {},
   "outputs": [],
   "source": []
  },
  {
   "cell_type": "code",
   "execution_count": null,
   "id": "32caf81c",
   "metadata": {},
   "outputs": [],
   "source": [
    "def get_path(url, create=False): #-> helper:Paths -> relative image path\n",
    "    category = url.replace(_Mango_Selectors.URLS.BASE_FULL, \"\")\n",
    "    p = Path(SCRAP_PATH, category)\n",
    "    logger.debug(\"Cat Path \" + str(p.resolve()))\n",
    "    if create:\n",
    "        p.mkdir(parents=True, exist_ok=True)\n",
    "    return p"
   ]
  },
  {
   "cell_type": "code",
   "execution_count": null,
   "id": "a77d41c4",
   "metadata": {},
   "outputs": [],
   "source": [
    "visited = Json_DB(SCRAP_PATH, \"visited.json\")"
   ]
  },
  {
   "cell_type": "code",
   "execution_count": null,
   "id": "faa1be73",
   "metadata": {},
   "outputs": [],
   "source": [
    "db = Json_DB(SCRAP_PATH, \"visited.json\")"
   ]
  },
  {
   "cell_type": "code",
   "execution_count": null,
   "id": "8a8a4003",
   "metadata": {},
   "outputs": [],
   "source": [
    "from tqdm.auto import tqdm"
   ]
  },
  {
   "cell_type": "code",
   "execution_count": null,
   "id": "f549d10d",
   "metadata": {},
   "outputs": [],
   "source": [
    "## inner loop #-> for each category drum\n",
    "def _scrap_category_db(category_url):\n",
    "    category_path = mango_path.relative_image_path(url)\n",
    "    return TinyDB(Path(category_path, \"data.json\"), storage=serialization)\n",
    "\n",
    "from urllib.parse import urlparse\n",
    "def _convert_link_to_path(category_path, image_url):\n",
    "    file_relative_path = urlparse(image_url).path.split(\"/fotos\")[-1]\n",
    "    return str(Path(category_path, file_relative_path).resolve())\n",
    "\n",
    "    \n",
    "def _scrap_category(category_url):\n",
    "    if len(visited.search(where('url') == category_url)) != 0:\n",
    "        logger.debug(f\"Category Vistied: {category_url}\")\n",
    "        return    \n",
    "    visited.insert({'url': category_url, 'last_visit': datetime.now()})\n",
    "\n",
    "    category_path = mango_path.relative_image_path(category_url)\n",
    "    category_database = _scrap_category_db(category_url)\n",
    "\n",
    "    category_items = mango.list_category(category_url)\n",
    "    _clean_info = lambda d: { \"url\": d[\"url\"], \"name\": d[\"alt\"]}\n",
    "    category_items = [_clean_info(x) for x in category_items]\n",
    "\n",
    "    category_failed = []\n",
    "    __exceptions = []\n",
    "    \n",
    "    _relative_path = lambda image_url: urlparse(image_url).path.split(\"/fotos\")[-1]\n",
    "\n",
    "    for item in tqdm(category_items, desc=f'Category {category_url}'):\n",
    "        try: \n",
    "            info = mango.show(item[\"url\"])\n",
    "            _clean_images = lambda x: {\"description\" : x[\"description\"], \"src\": x[\"src\"],\\\n",
    "                                       \"path\": _relative_path(x[\"src\"])}\n",
    "            info['images'] = [_clean_images(x) for x in info['images']]\n",
    "            info[\"url\"] = item[\"url\"]\n",
    "            category_database.insert(info)\n",
    "        except Exception as e:\n",
    "            category_failed.append(item)\n",
    "            __exceptions.append(e)\n",
    "            logger.error(e)\n",
    "\n",
    "    if len(category_failed) > 0:\n",
    "        failed_db = TinyDB(Path(category_path, \"failed.json\"), storage=serialization)\n",
    "        [failed_db.insert(x) for x in category_failed]\n",
    "        logger.debug(\"Error\")\n",
    "    return __exceptions"
   ]
  },
  {
   "cell_type": "code",
   "execution_count": null,
   "id": "6308d426",
   "metadata": {},
   "outputs": [],
   "source": [
    "exs = _scrap_category(category_url)"
   ]
  },
  {
   "cell_type": "code",
   "execution_count": null,
   "id": "bc6e63db",
   "metadata": {},
   "outputs": [],
   "source": [
    "db = _scrap_category_db(category_url)"
   ]
  },
  {
   "cell_type": "code",
   "execution_count": null,
   "id": "430e4502",
   "metadata": {},
   "outputs": [],
   "source": [
    "data = db.all()"
   ]
  },
  {
   "cell_type": "code",
   "execution_count": null,
   "id": "fa43f5f5",
   "metadata": {},
   "outputs": [],
   "source": [
    "def download_file(url, path): #-> util web static -> download_file || ZUM TEIL NUR\n",
    "    if Path(path).exists():\n",
    "        logger.debug(f\"File: {path} exists!\")\n",
    "        return 0\n",
    "\n",
    "    path.parent.mkdir(parents=True, exist_ok=True)\n",
    "\n",
    "    response = requests.get(url)\n",
    "\n",
    "    if not response.ok:\n",
    "        logger.error(f\"Bad Response! Code: {response.status_code} \\n {url}\")\n",
    "        return 1\n",
    "\n",
    "    with open(path, 'wb') as f:\n",
    "        f.write(response.content)\n",
    "\n",
    "    return 0\n",
    "\n",
    "import requests\n",
    "\n",
    "def download_entry(entry, base_path, supress):\n",
    "    num_entries_failed = 0\n",
    "    for image in entry[\"images\"]:\n",
    "        p = Path(base_path + image[\"path\"])\n",
    "        p.parent.mkdir(parents=True, exist_ok=True)\n",
    "        num_entries_failed = num_entries_failed + download_file(image[\"src\"], p)\n",
    "    return num_entries_failed\n",
    "            \n",
    "def download_entries(entries, base_path, supress=False):\n",
    "    return sum(download_entry(entry, base_path, supress) for entry in tqdm(entries, desc=\"Download Images\"))\n",
    "            \n",
    "download_entries(data, SCRAP_PATH, supress=True)\n"
   ]
  },
  {
   "cell_type": "code",
   "execution_count": null,
   "id": "06253dfc",
   "metadata": {},
   "outputs": [],
   "source": []
  },
  {
   "cell_type": "code",
   "execution_count": null,
   "id": "c6ab8e76",
   "metadata": {},
   "outputs": [],
   "source": []
  },
  {
   "cell_type": "code",
   "execution_count": null,
   "id": "91ddcbfb",
   "metadata": {},
   "outputs": [],
   "source": []
  }
 ],
 "metadata": {
  "kernelspec": {
   "display_name": "Python 3",
   "language": "python",
   "name": "python3"
  },
  "language_info": {
   "codemirror_mode": {
    "name": "ipython",
    "version": 3
   },
   "file_extension": ".py",
   "mimetype": "text/x-python",
   "name": "python",
   "nbconvert_exporter": "python",
   "pygments_lexer": "ipython3",
   "version": "3.8.5"
  }
 },
 "nbformat": 4,
 "nbformat_minor": 5
}
