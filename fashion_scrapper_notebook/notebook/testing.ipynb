{
 "cells": [
  {
   "cell_type": "code",
   "execution_count": null,
   "id": "cc23e1a3",
   "metadata": {},
   "outputs": [],
   "source": [
    "test_db = Json_DB(r\"F:\\workspace\\fascrapper\\scrap_results\\mango\\herren\\polo-shirts_c20667557\", \"data.json\")"
   ]
  },
  {
   "cell_type": "code",
   "execution_count": null,
   "id": "002ea4ab",
   "metadata": {},
   "outputs": [],
   "source": [
    "d = test_db.all()"
   ]
  },
  {
   "cell_type": "code",
   "execution_count": null,
   "id": "c1ec7529",
   "metadata": {},
   "outputs": [],
   "source": [
    "needle = d[0][\"url\"]\n",
    "len(test_db.search(where('url') == needle))\n"
   ]
  },
  {
   "cell_type": "code",
   "execution_count": null,
   "id": "d7bfc606",
   "metadata": {},
   "outputs": [],
   "source": [
    "import os"
   ]
  },
  {
   "cell_type": "code",
   "execution_count": null,
   "id": "a6631d98",
   "metadata": {},
   "outputs": [],
   "source": [
    "SCRAP_PATH = r\"F:\\workspace\\fascrapper\\scrap_results\\mango\"\n",
    "\n",
    "os.listdir(SCRAP_PATH)"
   ]
  }
 ],
 "metadata": {
  "kernelspec": {
   "display_name": "Python 3",
   "language": "python",
   "name": "python3"
  },
  "language_info": {
   "codemirror_mode": {
    "name": "ipython",
    "version": 3
   },
   "file_extension": ".py",
   "mimetype": "text/x-python",
   "name": "python",
   "nbconvert_exporter": "python",
   "pygments_lexer": "ipython3",
   "version": "3.8.5"
  }
 },
 "nbformat": 4,
 "nbformat_minor": 5
}
