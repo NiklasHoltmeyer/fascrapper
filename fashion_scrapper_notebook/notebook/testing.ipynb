{
 "cells": [
  {
   "cell_type": "code",
   "execution_count": 1,
   "id": "b137e28e",
   "metadata": {},
   "outputs": [],
   "source": [
    "import os\n",
    "os.chdir(r'F:\\workspace\\fascrapper\\fashion_scrapper')"
   ]
  },
  {
   "cell_type": "code",
   "execution_count": 2,
   "id": "550f95a4",
   "metadata": {},
   "outputs": [
    {
     "name": "stderr",
     "output_type": "stream",
     "text": [
      "WARNING: Ignoring invalid distribution -dm (c:\\programdata\\miniconda3\\lib\\site-packages)\n",
      "WARNING: Ignoring invalid distribution -umpy (c:\\programdata\\miniconda3\\lib\\site-packages)\n",
      "WARNING: Ignoring invalid distribution -udioengine (c:\\programdata\\miniconda3\\lib\\site-packages)\n",
      "WARNING: Ignoring invalid distribution -qdm (c:\\programdata\\miniconda3\\lib\\site-packages)\n",
      "WARNING: Ignoring invalid distribution - (c:\\programdata\\miniconda3\\lib\\site-packages)\n",
      "WARNING: Ignoring invalid distribution -dm (c:\\programdata\\miniconda3\\lib\\site-packages)\n",
      "WARNING: Ignoring invalid distribution -umpy (c:\\programdata\\miniconda3\\lib\\site-packages)\n",
      "WARNING: Ignoring invalid distribution -udioengine (c:\\programdata\\miniconda3\\lib\\site-packages)\n",
      "WARNING: Ignoring invalid distribution -qdm (c:\\programdata\\miniconda3\\lib\\site-packages)\n",
      "WARNING: Ignoring invalid distribution - (c:\\programdata\\miniconda3\\lib\\site-packages)\n",
      "  WARNING: Ignoring invalid distribution -dm (c:\\programdata\\miniconda3\\lib\\site-packages)\n",
      "  WARNING: Ignoring invalid distribution -umpy (c:\\programdata\\miniconda3\\lib\\site-packages)\n",
      "  WARNING: Ignoring invalid distribution -udioengine (c:\\programdata\\miniconda3\\lib\\site-packages)\n",
      "  WARNING: Ignoring invalid distribution -qdm (c:\\programdata\\miniconda3\\lib\\site-packages)\n",
      "  WARNING: Ignoring invalid distribution - (c:\\programdata\\miniconda3\\lib\\site-packages)\n",
      "WARNING: Ignoring invalid distribution -dm (c:\\programdata\\miniconda3\\lib\\site-packages)\n",
      "WARNING: Ignoring invalid distribution -umpy (c:\\programdata\\miniconda3\\lib\\site-packages)\n",
      "WARNING: Ignoring invalid distribution -udioengine (c:\\programdata\\miniconda3\\lib\\site-packages)\n",
      "WARNING: Ignoring invalid distribution -qdm (c:\\programdata\\miniconda3\\lib\\site-packages)\n",
      "WARNING: Ignoring invalid distribution - (c:\\programdata\\miniconda3\\lib\\site-packages)\n",
      "    WARNING: Ignoring invalid distribution -dm (c:\\programdata\\miniconda3\\lib\\site-packages)\n",
      "    WARNING: Ignoring invalid distribution -umpy (c:\\programdata\\miniconda3\\lib\\site-packages)\n",
      "    WARNING: Ignoring invalid distribution -udioengine (c:\\programdata\\miniconda3\\lib\\site-packages)\n",
      "    WARNING: Ignoring invalid distribution -qdm (c:\\programdata\\miniconda3\\lib\\site-packages)\n",
      "    WARNING: Ignoring invalid distribution - (c:\\programdata\\miniconda3\\lib\\site-packages)\n",
      "WARNING: Ignoring invalid distribution -dm (c:\\programdata\\miniconda3\\lib\\site-packages)\n",
      "WARNING: Ignoring invalid distribution -umpy (c:\\programdata\\miniconda3\\lib\\site-packages)\n",
      "WARNING: Ignoring invalid distribution -udioengine (c:\\programdata\\miniconda3\\lib\\site-packages)\n",
      "WARNING: Ignoring invalid distribution -qdm (c:\\programdata\\miniconda3\\lib\\site-packages)\n",
      "WARNING: Ignoring invalid distribution - (c:\\programdata\\miniconda3\\lib\\site-packages)\n",
      "WARNING: Ignoring invalid distribution -dm (c:\\programdata\\miniconda3\\lib\\site-packages)\n",
      "WARNING: Ignoring invalid distribution -umpy (c:\\programdata\\miniconda3\\lib\\site-packages)\n",
      "WARNING: Ignoring invalid distribution -udioengine (c:\\programdata\\miniconda3\\lib\\site-packages)\n",
      "WARNING: Ignoring invalid distribution -qdm (c:\\programdata\\miniconda3\\lib\\site-packages)\n",
      "WARNING: Ignoring invalid distribution - (c:\\programdata\\miniconda3\\lib\\site-packages)\n",
      "WARNING: Ignoring invalid distribution -dm (c:\\programdata\\miniconda3\\lib\\site-packages)\n",
      "WARNING: Ignoring invalid distribution -umpy (c:\\programdata\\miniconda3\\lib\\site-packages)\n",
      "WARNING: Ignoring invalid distribution -udioengine (c:\\programdata\\miniconda3\\lib\\site-packages)\n",
      "WARNING: Ignoring invalid distribution -qdm (c:\\programdata\\miniconda3\\lib\\site-packages)\n",
      "WARNING: Ignoring invalid distribution - (c:\\programdata\\miniconda3\\lib\\site-packages)\n",
      "WARNING: Ignoring invalid distribution -dm (c:\\programdata\\miniconda3\\lib\\site-packages)\n",
      "WARNING: Ignoring invalid distribution -umpy (c:\\programdata\\miniconda3\\lib\\site-packages)\n",
      "WARNING: Ignoring invalid distribution -udioengine (c:\\programdata\\miniconda3\\lib\\site-packages)\n",
      "WARNING: Ignoring invalid distribution -qdm (c:\\programdata\\miniconda3\\lib\\site-packages)\n",
      "WARNING: Ignoring invalid distribution - (c:\\programdata\\miniconda3\\lib\\site-packages)\n",
      "WARNING: Ignoring invalid distribution -dm (c:\\programdata\\miniconda3\\lib\\site-packages)\n",
      "WARNING: Ignoring invalid distribution -umpy (c:\\programdata\\miniconda3\\lib\\site-packages)\n",
      "WARNING: Ignoring invalid distribution -udioengine (c:\\programdata\\miniconda3\\lib\\site-packages)\n",
      "WARNING: Ignoring invalid distribution -qdm (c:\\programdata\\miniconda3\\lib\\site-packages)\n",
      "WARNING: Ignoring invalid distribution - (c:\\programdata\\miniconda3\\lib\\site-packages)\n"
     ]
    }
   ],
   "source": [
    "!pip install -q -e ."
   ]
  },
  {
   "cell_type": "code",
   "execution_count": 2,
   "id": "9007e26b",
   "metadata": {},
   "outputs": [],
   "source": [
    "from scrapper.brand.mango.helper import *\n",
    "from util.web.dynamic import driver\n",
    "from time import sleep"
   ]
  },
  {
   "cell_type": "code",
   "execution_count": 11,
   "id": "6bdac0f1",
   "metadata": {},
   "outputs": [
    {
     "name": "stdout",
     "output_type": "stream",
     "text": [
      "[2021-09-13 17:52:16,868] {_WebElements.py:110} DEBUG - Loading Sub Category https://shop.mango.com/de/herren\n",
      "[2021-09-13 17:52:19,133] {_WebElements.py:110} DEBUG - Loading Sub Category https://shop.mango.com/de/home\n",
      "[2021-09-13 17:52:22,087] {_WebElements.py:110} DEBUG - Loading Sub Category https://shop.mango.com/de/kinder\n",
      "[2021-09-13 17:52:22,653] {_WebElements.py:110} DEBUG - Loading Sub Category https://shop.mango.com/de/teen\n",
      "[2021-09-13 17:52:23,699] {_WebElements.py:110} DEBUG - Loading Sub Category https://shop.mango.com/de/damen\n",
      "[2021-09-13 17:52:25,392] {_WebElements.py:110} DEBUG - Loading Sub Category https://shop.mango.com/de/damen\n",
      "[2021-09-13 17:52:26,191] {_WebElements.py:110} DEBUG - Loading Sub Category https://shop.mango.com/de/kinder\n",
      "[2021-09-13 17:52:26,860] {_WebElements.py:110} DEBUG - Loading Sub Category https://shop.mango.com/de/teen\n",
      "[2021-09-13 17:52:28,006] {_WebElements.py:110} DEBUG - Loading Sub Category https://shop.mango.com/de/damen\n"
     ]
    },
    {
     "data": {
      "application/json": {
       "ascii": false,
       "bar_format": null,
       "colour": null,
       "elapsed": 0.014003992080688477,
       "initial": 0,
       "n": 0,
       "ncols": null,
       "nrows": 29,
       "postfix": null,
       "prefix": "High Level",
       "rate": null,
       "total": 7,
       "unit": "it",
       "unit_divisor": 1000,
       "unit_scale": false
      },
      "application/vnd.jupyter.widget-view+json": {
       "model_id": "518ca5407d744be78812eb1688837a83",
       "version_major": 2,
       "version_minor": 0
      },
      "text/plain": [
       "High Level:   0%|          | 0/7 [00:00<?, ?it/s]"
      ]
     },
     "metadata": {},
     "output_type": "display_data"
    },
    {
     "name": "stdout",
     "output_type": "stream",
     "text": [
      "[2021-09-13 17:52:28,780] {_WebElements.py:88} DEBUG - Loading: https://shop.mango.com/de/damen/shirts---tops_c66796663\n"
     ]
    },
    {
     "data": {
      "application/json": {
       "ascii": false,
       "bar_format": null,
       "colour": null,
       "elapsed": 0.013003349304199219,
       "initial": 0,
       "n": 0,
       "ncols": null,
       "nrows": 29,
       "postfix": null,
       "prefix": "Category https://shop.mango.com/de/damen/shirts---tops_c66796663",
       "rate": null,
       "total": 44,
       "unit": "it",
       "unit_divisor": 1000,
       "unit_scale": false
      },
      "application/vnd.jupyter.widget-view+json": {
       "model_id": "38cba369a20f405c8d6404652a47b62c",
       "version_major": 2,
       "version_minor": 0
      },
      "text/plain": [
       "Category https://shop.mango.com/de/damen/shirts---tops_c66796663:   0%|          | 0/44 [00:00<?, ?it/s]"
      ]
     },
     "metadata": {},
     "output_type": "display_data"
    },
    {
     "data": {
      "application/json": {
       "ascii": false,
       "bar_format": null,
       "colour": null,
       "elapsed": 0.013003110885620117,
       "initial": 0,
       "n": 0,
       "ncols": null,
       "nrows": 29,
       "postfix": null,
       "prefix": "Download Images",
       "rate": null,
       "total": 237,
       "unit": "it",
       "unit_divisor": 1000,
       "unit_scale": false
      },
      "application/vnd.jupyter.widget-view+json": {
       "model_id": "bd575cdfb0d34e98b3716c5e240bb2f2",
       "version_major": 2,
       "version_minor": 0
      },
      "text/plain": [
       "Download Images:   0%|          | 0/237 [00:00<?, ?it/s]"
      ]
     },
     "metadata": {},
     "output_type": "display_data"
    },
    {
     "name": "stdout",
     "output_type": "stream",
     "text": [
      "[2021-09-13 18:03:04,585] {_WebElements.py:88} DEBUG - Loading: https://shop.mango.com/de/damen/sweatshirts_c12454089\n",
      "[2021-09-13 18:03:10,148] {_WebElements.py:88} DEBUG - Loading: https://shop.mango.com/de/damen/sweatshirts_c12454089\n",
      "[2021-09-13 18:03:15,233] {_WebElements.py:88} DEBUG - Loading: https://shop.mango.com/de/damen/sweatshirts_c12454089\n"
     ]
    },
    {
     "data": {
      "application/json": {
       "ascii": false,
       "bar_format": null,
       "colour": null,
       "elapsed": 0.014003753662109375,
       "initial": 0,
       "n": 0,
       "ncols": null,
       "nrows": 29,
       "postfix": null,
       "prefix": "Category https://shop.mango.com/de/damen/sweatshirts_c12454089",
       "rate": null,
       "total": 0,
       "unit": "it",
       "unit_divisor": 1000,
       "unit_scale": false
      },
      "application/vnd.jupyter.widget-view+json": {
       "model_id": "cfb76cc223dc417e8a4c4b47a63d16a0",
       "version_major": 2,
       "version_minor": 0
      },
      "text/plain": [
       "Category https://shop.mango.com/de/damen/sweatshirts_c12454089: 0it [00:00, ?it/s]"
      ]
     },
     "metadata": {},
     "output_type": "display_data"
    },
    {
     "data": {
      "application/json": {
       "ascii": false,
       "bar_format": null,
       "colour": null,
       "elapsed": 0.013004064559936523,
       "initial": 0,
       "n": 0,
       "ncols": null,
       "nrows": 29,
       "postfix": null,
       "prefix": "Download Images",
       "rate": null,
       "total": 30,
       "unit": "it",
       "unit_divisor": 1000,
       "unit_scale": false
      },
      "application/vnd.jupyter.widget-view+json": {
       "model_id": "b20e1bf428084c159afca1be03eccaf3",
       "version_major": 2,
       "version_minor": 0
      },
      "text/plain": [
       "Download Images:   0%|          | 0/30 [00:00<?, ?it/s]"
      ]
     },
     "metadata": {},
     "output_type": "display_data"
    },
    {
     "name": "stdout",
     "output_type": "stream",
     "text": [
      "[2021-09-13 18:04:10,644] {_WebElements.py:88} DEBUG - Loading: https://shop.mango.com/de/herren/polo-shirts_c20667557\n",
      "[2021-09-13 18:04:15,919] {_WebElements.py:88} DEBUG - Loading: https://shop.mango.com/de/herren/polo-shirts_c20667557\n",
      "[2021-09-13 18:04:20,416] {_WebElements.py:88} DEBUG - Loading: https://shop.mango.com/de/herren/polo-shirts_c20667557\n"
     ]
    },
    {
     "data": {
      "application/json": {
       "ascii": false,
       "bar_format": null,
       "colour": null,
       "elapsed": 0.014003276824951172,
       "initial": 0,
       "n": 0,
       "ncols": null,
       "nrows": 29,
       "postfix": null,
       "prefix": "Category https://shop.mango.com/de/herren/polo-shirts_c20667557",
       "rate": null,
       "total": 0,
       "unit": "it",
       "unit_divisor": 1000,
       "unit_scale": false
      },
      "application/vnd.jupyter.widget-view+json": {
       "model_id": "6b65329a0c8746aba9bda5c8f7f92c38",
       "version_major": 2,
       "version_minor": 0
      },
      "text/plain": [
       "Category https://shop.mango.com/de/herren/polo-shirts_c20667557: 0it [00:00, ?it/s]"
      ]
     },
     "metadata": {},
     "output_type": "display_data"
    },
    {
     "data": {
      "application/json": {
       "ascii": false,
       "bar_format": null,
       "colour": null,
       "elapsed": 0.012001514434814453,
       "initial": 0,
       "n": 0,
       "ncols": null,
       "nrows": 29,
       "postfix": null,
       "prefix": "Download Images",
       "rate": null,
       "total": 42,
       "unit": "it",
       "unit_divisor": 1000,
       "unit_scale": false
      },
      "application/vnd.jupyter.widget-view+json": {
       "model_id": "b9c9c413942d4a8a99b804c7a7e65eaf",
       "version_major": 2,
       "version_minor": 0
      },
      "text/plain": [
       "Download Images:   0%|          | 0/42 [00:00<?, ?it/s]"
      ]
     },
     "metadata": {},
     "output_type": "display_data"
    },
    {
     "name": "stdout",
     "output_type": "stream",
     "text": [
      "[2021-09-13 18:05:45,321] {_WebElements.py:88} DEBUG - Loading: https://shop.mango.com/de/herren/sweatshirts_c71156082\n",
      "[2021-09-13 18:05:50,465] {_WebElements.py:88} DEBUG - Loading: https://shop.mango.com/de/herren/sweatshirts_c71156082\n",
      "[2021-09-13 18:05:55,361] {_WebElements.py:88} DEBUG - Loading: https://shop.mango.com/de/herren/sweatshirts_c71156082\n"
     ]
    },
    {
     "data": {
      "application/json": {
       "ascii": false,
       "bar_format": null,
       "colour": null,
       "elapsed": 0.01400446891784668,
       "initial": 0,
       "n": 0,
       "ncols": null,
       "nrows": 29,
       "postfix": null,
       "prefix": "Category https://shop.mango.com/de/herren/sweatshirts_c71156082",
       "rate": null,
       "total": 0,
       "unit": "it",
       "unit_divisor": 1000,
       "unit_scale": false
      },
      "application/vnd.jupyter.widget-view+json": {
       "model_id": "737ec1accb86405a94832cb285ad3ae2",
       "version_major": 2,
       "version_minor": 0
      },
      "text/plain": [
       "Category https://shop.mango.com/de/herren/sweatshirts_c71156082: 0it [00:00, ?it/s]"
      ]
     },
     "metadata": {},
     "output_type": "display_data"
    },
    {
     "data": {
      "application/json": {
       "ascii": false,
       "bar_format": null,
       "colour": null,
       "elapsed": 0.013002395629882812,
       "initial": 0,
       "n": 0,
       "ncols": null,
       "nrows": 29,
       "postfix": null,
       "prefix": "Download Images",
       "rate": null,
       "total": 50,
       "unit": "it",
       "unit_divisor": 1000,
       "unit_scale": false
      },
      "application/vnd.jupyter.widget-view+json": {
       "model_id": "628077ddfa86493385755ecb0fe99d2f",
       "version_major": 2,
       "version_minor": 0
      },
      "text/plain": [
       "Download Images:   0%|          | 0/50 [00:00<?, ?it/s]"
      ]
     },
     "metadata": {},
     "output_type": "display_data"
    },
    {
     "name": "stdout",
     "output_type": "stream",
     "text": [
      "[2021-09-13 18:07:13,643] {_WebElements.py:88} DEBUG - Loading: https://shop.mango.com/de/herren/t-shirts_c12018147\n",
      "[2021-09-13 18:07:20,414] {_WebElements.py:88} DEBUG - Loading: https://shop.mango.com/de/herren/t-shirts_c12018147\n",
      "[2021-09-13 18:07:25,083] {_WebElements.py:88} DEBUG - Loading: https://shop.mango.com/de/herren/t-shirts_c12018147\n"
     ]
    },
    {
     "data": {
      "application/json": {
       "ascii": false,
       "bar_format": null,
       "colour": null,
       "elapsed": 0.016004562377929688,
       "initial": 0,
       "n": 0,
       "ncols": null,
       "nrows": 29,
       "postfix": null,
       "prefix": "Category https://shop.mango.com/de/herren/t-shirts_c12018147",
       "rate": null,
       "total": 0,
       "unit": "it",
       "unit_divisor": 1000,
       "unit_scale": false
      },
      "application/vnd.jupyter.widget-view+json": {
       "model_id": "23fc8f75956442eab53fd95f7b864f64",
       "version_major": 2,
       "version_minor": 0
      },
      "text/plain": [
       "Category https://shop.mango.com/de/herren/t-shirts_c12018147: 0it [00:00, ?it/s]"
      ]
     },
     "metadata": {},
     "output_type": "display_data"
    },
    {
     "data": {
      "application/json": {
       "ascii": false,
       "bar_format": null,
       "colour": null,
       "elapsed": 0.013007879257202148,
       "initial": 0,
       "n": 0,
       "ncols": null,
       "nrows": 29,
       "postfix": null,
       "prefix": "Download Images",
       "rate": null,
       "total": 80,
       "unit": "it",
       "unit_divisor": 1000,
       "unit_scale": false
      },
      "application/vnd.jupyter.widget-view+json": {
       "model_id": "ea7d9434184041b2b59c90222d40b665",
       "version_major": 2,
       "version_minor": 0
      },
      "text/plain": [
       "Download Images:   0%|          | 0/80 [00:00<?, ?it/s]"
      ]
     },
     "metadata": {},
     "output_type": "display_data"
    },
    {
     "name": "stdout",
     "output_type": "stream",
     "text": [
      "[2021-09-13 18:09:27,512] {_WebElements.py:88} DEBUG - Loading: https://shop.mango.com/de/teena/sweatshirts_c17476471\n",
      "[2021-09-13 18:09:32,250] {_WebElements.py:88} DEBUG - Loading: https://shop.mango.com/de/teena/sweatshirts_c17476471\n",
      "[2021-09-13 18:09:36,689] {_WebElements.py:88} DEBUG - Loading: https://shop.mango.com/de/teena/sweatshirts_c17476471\n"
     ]
    },
    {
     "data": {
      "application/json": {
       "ascii": false,
       "bar_format": null,
       "colour": null,
       "elapsed": 0.01400303840637207,
       "initial": 0,
       "n": 0,
       "ncols": null,
       "nrows": 29,
       "postfix": null,
       "prefix": "Category https://shop.mango.com/de/teena/sweatshirts_c17476471",
       "rate": null,
       "total": 0,
       "unit": "it",
       "unit_divisor": 1000,
       "unit_scale": false
      },
      "application/vnd.jupyter.widget-view+json": {
       "model_id": "1247830361514c20ab433d0842466a39",
       "version_major": 2,
       "version_minor": 0
      },
      "text/plain": [
       "Category https://shop.mango.com/de/teena/sweatshirts_c17476471: 0it [00:00, ?it/s]"
      ]
     },
     "metadata": {},
     "output_type": "display_data"
    },
    {
     "data": {
      "application/json": {
       "ascii": false,
       "bar_format": null,
       "colour": null,
       "elapsed": 0.013002157211303711,
       "initial": 0,
       "n": 0,
       "ncols": null,
       "nrows": 29,
       "postfix": null,
       "prefix": "Download Images",
       "rate": null,
       "total": 13,
       "unit": "it",
       "unit_divisor": 1000,
       "unit_scale": false
      },
      "application/vnd.jupyter.widget-view+json": {
       "model_id": "5d4d96066da1441faffc217e6acc5580",
       "version_major": 2,
       "version_minor": 0
      },
      "text/plain": [
       "Download Images:   0%|          | 0/13 [00:00<?, ?it/s]"
      ]
     },
     "metadata": {},
     "output_type": "display_data"
    },
    {
     "name": "stdout",
     "output_type": "stream",
     "text": [
      "[2021-09-13 18:10:01,514] {_WebElements.py:88} DEBUG - Loading: https://shop.mango.com/de/teena/t-shirts_c63394451\n",
      "[2021-09-13 18:10:08,137] {_WebElements.py:88} DEBUG - Loading: https://shop.mango.com/de/teena/t-shirts_c63394451\n",
      "[2021-09-13 18:10:12,759] {_WebElements.py:88} DEBUG - Loading: https://shop.mango.com/de/teena/t-shirts_c63394451\n"
     ]
    },
    {
     "data": {
      "application/json": {
       "ascii": false,
       "bar_format": null,
       "colour": null,
       "elapsed": 0.014003753662109375,
       "initial": 0,
       "n": 0,
       "ncols": null,
       "nrows": 29,
       "postfix": null,
       "prefix": "Category https://shop.mango.com/de/teena/t-shirts_c63394451",
       "rate": null,
       "total": 0,
       "unit": "it",
       "unit_divisor": 1000,
       "unit_scale": false
      },
      "application/vnd.jupyter.widget-view+json": {
       "model_id": "91e5b98b5b484d99a9c7fb2d639e8aca",
       "version_major": 2,
       "version_minor": 0
      },
      "text/plain": [
       "Category https://shop.mango.com/de/teena/t-shirts_c63394451: 0it [00:00, ?it/s]"
      ]
     },
     "metadata": {},
     "output_type": "display_data"
    },
    {
     "data": {
      "application/json": {
       "ascii": false,
       "bar_format": null,
       "colour": null,
       "elapsed": 0.013001441955566406,
       "initial": 0,
       "n": 0,
       "ncols": null,
       "nrows": 29,
       "postfix": null,
       "prefix": "Download Images",
       "rate": null,
       "total": 54,
       "unit": "it",
       "unit_divisor": 1000,
       "unit_scale": false
      },
      "application/vnd.jupyter.widget-view+json": {
       "model_id": "c14101adeb154819bada525086676aad",
       "version_major": 2,
       "version_minor": 0
      },
      "text/plain": [
       "Download Images:   0%|          | 0/54 [00:00<?, ?it/s]"
      ]
     },
     "metadata": {},
     "output_type": "display_data"
    }
   ],
   "source": [
    "logger = defaultLogger(\"Mango\")\n",
    "driver = util.web.dynamic.driver()\n",
    "mango = Mango(driver=driver, logger=logger)\n",
    "\n",
    "category_url = \"https://shop.mango.com/de/herren/polo-shirts_c20667557\"\n",
    "BASE_PATH = r\"F:\\workspace\\fascrapper\\scrap_results\\mango\"\n",
    "dl_settings = {\n",
    "    \"visited_db\": Json_DB(BASE_PATH, \"visited.json\"),\n",
    "    \"logger\": logger,\n",
    "    \"mango\": mango,\n",
    "    \"BASE_PATH\": BASE_PATH\n",
    "}\n",
    "dl_helper = DownloadHelper(**dl_settings)\n",
    "\n",
    "#response = dl_helper.download_images(category_url,IGNORE_CATEGORY_EXISTING=True)\n",
    "categories = mango.list_categories(\"https://shop.mango.com/de/herren\")\n",
    "categories_filterd = [x for x in categories if \"shirt\" in x]\n",
    "\n",
    "responses = [dl_helper.download_images(x, IGNORE_CATEGORY_EXISTING=True) for x in tqdm(categories_filterd, desc=\"High Level\")]"
   ]
  },
  {
   "cell_type": "code",
   "execution_count": 3,
   "id": "4d56a94b",
   "metadata": {},
   "outputs": [
    {
     "name": "stdout",
     "output_type": "stream",
     "text": [
      "[2021-09-13 19:29:13,508] {_WebElements.py:110} DEBUG - Loading Sub Category https://shop.mango.com/de/herren\n",
      "[2021-09-13 19:29:14,933] {_WebElements.py:110} DEBUG - Loading Sub Category https://shop.mango.com/de/home\n",
      "[2021-09-13 19:29:15,709] {_WebElements.py:110} DEBUG - Loading Sub Category https://shop.mango.com/de/kinder\n",
      "[2021-09-13 19:29:16,316] {_WebElements.py:110} DEBUG - Loading Sub Category https://shop.mango.com/de/teen\n",
      "[2021-09-13 19:29:16,836] {_WebElements.py:110} DEBUG - Loading Sub Category https://shop.mango.com/de/damen\n",
      "[2021-09-13 19:29:17,610] {_WebElements.py:110} DEBUG - Loading Sub Category https://shop.mango.com/de/teen\n",
      "[2021-09-13 19:29:18,174] {_WebElements.py:110} DEBUG - Loading Sub Category https://shop.mango.com/de/damen\n",
      "[2021-09-13 19:29:18,683] {_WebElements.py:110} DEBUG - Loading Sub Category https://shop.mango.com/de/kinder\n",
      "[2021-09-13 19:29:19,220] {_WebElements.py:110} DEBUG - Loading Sub Category https://shop.mango.com/de/teen\n",
      "[2021-09-13 19:29:19,778] {_WebElements.py:110} DEBUG - Loading Sub Category https://shop.mango.com/de/damen\n"
     ]
    },
    {
     "data": {
      "application/json": {
       "ascii": false,
       "bar_format": null,
       "colour": null,
       "elapsed": 0.017003774642944336,
       "initial": 0,
       "n": 0,
       "ncols": null,
       "nrows": 29,
       "postfix": null,
       "prefix": "High Level",
       "rate": null,
       "total": 9,
       "unit": "it",
       "unit_divisor": 1000,
       "unit_scale": false
      },
      "application/vnd.jupyter.widget-view+json": {
       "model_id": "0e80110cbce44aeab5a0806bc0322654",
       "version_major": 2,
       "version_minor": 0
      },
      "text/plain": [
       "High Level:   0%|          | 0/9 [00:00<?, ?it/s]"
      ]
     },
     "metadata": {},
     "output_type": "display_data"
    },
    {
     "name": "stdout",
     "output_type": "stream",
     "text": [
      "[2021-09-13 19:29:20,368] {_WebElements.py:88} DEBUG - Loading: https://shop.mango.com/de/damen/shirts---tops_c66796663\n"
     ]
    },
    {
     "data": {
      "application/json": {
       "ascii": false,
       "bar_format": null,
       "colour": null,
       "elapsed": 0.015002965927124023,
       "initial": 0,
       "n": 0,
       "ncols": null,
       "nrows": 29,
       "postfix": null,
       "prefix": "Category https://shop.mango.com/de/damen/shirts---tops_c66796663",
       "rate": null,
       "total": 204,
       "unit": "it",
       "unit_divisor": 1000,
       "unit_scale": false
      },
      "application/vnd.jupyter.widget-view+json": {
       "model_id": "3b3b672864cf48efad99d9a018cca0e5",
       "version_major": 2,
       "version_minor": 0
      },
      "text/plain": [
       "Category https://shop.mango.com/de/damen/shirts---tops_c66796663:   0%|          | 0/204 [00:00<?, ?it/s]"
      ]
     },
     "metadata": {},
     "output_type": "display_data"
    },
    {
     "data": {
      "application/json": {
       "ascii": false,
       "bar_format": null,
       "colour": null,
       "elapsed": 0.014002799987792969,
       "initial": 0,
       "n": 0,
       "ncols": null,
       "nrows": 29,
       "postfix": null,
       "prefix": "Download Images",
       "rate": null,
       "total": 237,
       "unit": "it",
       "unit_divisor": 1000,
       "unit_scale": false
      },
      "application/vnd.jupyter.widget-view+json": {
       "model_id": "1991e8caacb44f66aa290b7daabc3090",
       "version_major": 2,
       "version_minor": 0
      },
      "text/plain": [
       "Download Images:   0%|          | 0/237 [00:00<?, ?it/s]"
      ]
     },
     "metadata": {},
     "output_type": "display_data"
    },
    {
     "name": "stdout",
     "output_type": "stream",
     "text": [
      "[2021-09-13 19:36:01,299] {_WebElements.py:88} DEBUG - Loading: https://shop.mango.com/de/damen/sweatshirts_c12454089\n"
     ]
    },
    {
     "data": {
      "application/json": {
       "ascii": false,
       "bar_format": null,
       "colour": null,
       "elapsed": 0.015002965927124023,
       "initial": 0,
       "n": 0,
       "ncols": null,
       "nrows": 29,
       "postfix": null,
       "prefix": "Category https://shop.mango.com/de/damen/sweatshirts_c12454089",
       "rate": null,
       "total": 30,
       "unit": "it",
       "unit_divisor": 1000,
       "unit_scale": false
      },
      "application/vnd.jupyter.widget-view+json": {
       "model_id": "a818d19f07154defaf2e82f0016faab5",
       "version_major": 2,
       "version_minor": 0
      },
      "text/plain": [
       "Category https://shop.mango.com/de/damen/sweatshirts_c12454089:   0%|          | 0/30 [00:00<?, ?it/s]"
      ]
     },
     "metadata": {},
     "output_type": "display_data"
    },
    {
     "data": {
      "application/json": {
       "ascii": false,
       "bar_format": null,
       "colour": null,
       "elapsed": 0.014003753662109375,
       "initial": 0,
       "n": 0,
       "ncols": null,
       "nrows": 29,
       "postfix": null,
       "prefix": "Download Images",
       "rate": null,
       "total": 30,
       "unit": "it",
       "unit_divisor": 1000,
       "unit_scale": false
      },
      "application/vnd.jupyter.widget-view+json": {
       "model_id": "e3685eb9ca5d4302a33bfb3030e399b8",
       "version_major": 2,
       "version_minor": 0
      },
      "text/plain": [
       "Download Images:   0%|          | 0/30 [00:00<?, ?it/s]"
      ]
     },
     "metadata": {},
     "output_type": "display_data"
    },
    {
     "name": "stdout",
     "output_type": "stream",
     "text": [
      "[2021-09-13 19:36:57,001] {_WebElements.py:88} DEBUG - Loading: https://shop.mango.com/de/herren/polo-shirts_c20667557\n"
     ]
    },
    {
     "data": {
      "application/json": {
       "ascii": false,
       "bar_format": null,
       "colour": null,
       "elapsed": 0.014003276824951172,
       "initial": 0,
       "n": 0,
       "ncols": null,
       "nrows": 29,
       "postfix": null,
       "prefix": "Category https://shop.mango.com/de/herren/polo-shirts_c20667557",
       "rate": null,
       "total": 42,
       "unit": "it",
       "unit_divisor": 1000,
       "unit_scale": false
      },
      "application/vnd.jupyter.widget-view+json": {
       "model_id": "1751a97769b04875b9c7759d2dd6e616",
       "version_major": 2,
       "version_minor": 0
      },
      "text/plain": [
       "Category https://shop.mango.com/de/herren/polo-shirts_c20667557:   0%|          | 0/42 [00:00<?, ?it/s]"
      ]
     },
     "metadata": {},
     "output_type": "display_data"
    },
    {
     "data": {
      "application/json": {
       "ascii": false,
       "bar_format": null,
       "colour": null,
       "elapsed": 0.01300358772277832,
       "initial": 0,
       "n": 0,
       "ncols": null,
       "nrows": 29,
       "postfix": null,
       "prefix": "Download Images",
       "rate": null,
       "total": 42,
       "unit": "it",
       "unit_divisor": 1000,
       "unit_scale": false
      },
      "application/vnd.jupyter.widget-view+json": {
       "model_id": "c8d880438ecc4f5486d9b6163faf32ed",
       "version_major": 2,
       "version_minor": 0
      },
      "text/plain": [
       "Download Images:   0%|          | 0/42 [00:00<?, ?it/s]"
      ]
     },
     "metadata": {},
     "output_type": "display_data"
    },
    {
     "name": "stdout",
     "output_type": "stream",
     "text": [
      "[2021-09-13 19:38:31,814] {_WebElements.py:88} DEBUG - Loading: https://shop.mango.com/de/herren/sweatshirts_c71156082\n"
     ]
    },
    {
     "data": {
      "application/json": {
       "ascii": false,
       "bar_format": null,
       "colour": null,
       "elapsed": 0.014001607894897461,
       "initial": 0,
       "n": 0,
       "ncols": null,
       "nrows": 29,
       "postfix": null,
       "prefix": "Category https://shop.mango.com/de/herren/sweatshirts_c71156082",
       "rate": null,
       "total": 50,
       "unit": "it",
       "unit_divisor": 1000,
       "unit_scale": false
      },
      "application/vnd.jupyter.widget-view+json": {
       "model_id": "e933c918ff9541e6869d9b405196b350",
       "version_major": 2,
       "version_minor": 0
      },
      "text/plain": [
       "Category https://shop.mango.com/de/herren/sweatshirts_c71156082:   0%|          | 0/50 [00:00<?, ?it/s]"
      ]
     },
     "metadata": {},
     "output_type": "display_data"
    },
    {
     "data": {
      "application/json": {
       "ascii": false,
       "bar_format": null,
       "colour": null,
       "elapsed": 0.014002799987792969,
       "initial": 0,
       "n": 0,
       "ncols": null,
       "nrows": 29,
       "postfix": null,
       "prefix": "Download Images",
       "rate": null,
       "total": 50,
       "unit": "it",
       "unit_divisor": 1000,
       "unit_scale": false
      },
      "application/vnd.jupyter.widget-view+json": {
       "model_id": "38a6c80a6ee74010b69199b15bd1effd",
       "version_major": 2,
       "version_minor": 0
      },
      "text/plain": [
       "Download Images:   0%|          | 0/50 [00:00<?, ?it/s]"
      ]
     },
     "metadata": {},
     "output_type": "display_data"
    },
    {
     "name": "stdout",
     "output_type": "stream",
     "text": [
      "[2021-09-13 19:39:52,369] {_WebElements.py:88} DEBUG - Loading: https://shop.mango.com/de/herren/t-shirts_c12018147\n"
     ]
    },
    {
     "data": {
      "application/json": {
       "ascii": false,
       "bar_format": null,
       "colour": null,
       "elapsed": 0.012993812561035156,
       "initial": 0,
       "n": 0,
       "ncols": null,
       "nrows": 29,
       "postfix": null,
       "prefix": "Category https://shop.mango.com/de/herren/t-shirts_c12018147",
       "rate": null,
       "total": 79,
       "unit": "it",
       "unit_divisor": 1000,
       "unit_scale": false
      },
      "application/vnd.jupyter.widget-view+json": {
       "model_id": "c9156c48a29f4b15a5c53350defb9f2a",
       "version_major": 2,
       "version_minor": 0
      },
      "text/plain": [
       "Category https://shop.mango.com/de/herren/t-shirts_c12018147:   0%|          | 0/79 [00:00<?, ?it/s]"
      ]
     },
     "metadata": {},
     "output_type": "display_data"
    },
    {
     "data": {
      "application/json": {
       "ascii": false,
       "bar_format": null,
       "colour": null,
       "elapsed": 0.013002395629882812,
       "initial": 0,
       "n": 0,
       "ncols": null,
       "nrows": 29,
       "postfix": null,
       "prefix": "Download Images",
       "rate": null,
       "total": 80,
       "unit": "it",
       "unit_divisor": 1000,
       "unit_scale": false
      },
      "application/vnd.jupyter.widget-view+json": {
       "model_id": "19b1d672c34d42fb93f7c21ea5654138",
       "version_major": 2,
       "version_minor": 0
      },
      "text/plain": [
       "Download Images:   0%|          | 0/80 [00:00<?, ?it/s]"
      ]
     },
     "metadata": {},
     "output_type": "display_data"
    },
    {
     "name": "stdout",
     "output_type": "stream",
     "text": [
      "[2021-09-13 19:42:00,030] {_WebElements.py:88} DEBUG - Loading: https://shop.mango.com/de/madchen/sweatshirts_c47703127\n"
     ]
    },
    {
     "data": {
      "application/json": {
       "ascii": false,
       "bar_format": null,
       "colour": null,
       "elapsed": 0.015006065368652344,
       "initial": 0,
       "n": 0,
       "ncols": null,
       "nrows": 29,
       "postfix": null,
       "prefix": "Category https://shop.mango.com/de/madchen/sweatshirts_c47703127",
       "rate": null,
       "total": 39,
       "unit": "it",
       "unit_divisor": 1000,
       "unit_scale": false
      },
      "application/vnd.jupyter.widget-view+json": {
       "model_id": "ba63f17f53bf4aa5855608714361c1d6",
       "version_major": 2,
       "version_minor": 0
      },
      "text/plain": [
       "Category https://shop.mango.com/de/madchen/sweatshirts_c47703127:   0%|          | 0/39 [00:00<?, ?it/s]"
      ]
     },
     "metadata": {},
     "output_type": "display_data"
    },
    {
     "data": {
      "application/json": {
       "ascii": false,
       "bar_format": null,
       "colour": null,
       "elapsed": 0.014003276824951172,
       "initial": 0,
       "n": 0,
       "ncols": null,
       "nrows": 29,
       "postfix": null,
       "prefix": "Download Images",
       "rate": null,
       "total": 40,
       "unit": "it",
       "unit_divisor": 1000,
       "unit_scale": false
      },
      "application/vnd.jupyter.widget-view+json": {
       "model_id": "794a23b155df4d4b93d4ffe239895176",
       "version_major": 2,
       "version_minor": 0
      },
      "text/plain": [
       "Download Images:   0%|          | 0/40 [00:00<?, ?it/s]"
      ]
     },
     "metadata": {},
     "output_type": "display_data"
    },
    {
     "name": "stdout",
     "output_type": "stream",
     "text": [
      "[2021-09-13 19:42:57,460] {_WebElements.py:88} DEBUG - Loading: https://shop.mango.com/de/madchen/t-shirts_c19045604\n"
     ]
    },
    {
     "data": {
      "application/json": {
       "ascii": false,
       "bar_format": null,
       "colour": null,
       "elapsed": 0.01500391960144043,
       "initial": 0,
       "n": 0,
       "ncols": null,
       "nrows": 29,
       "postfix": null,
       "prefix": "Category https://shop.mango.com/de/madchen/t-shirts_c19045604",
       "rate": null,
       "total": 120,
       "unit": "it",
       "unit_divisor": 1000,
       "unit_scale": false
      },
      "application/vnd.jupyter.widget-view+json": {
       "model_id": "7e9aae244bf44a74919438e5271078ab",
       "version_major": 2,
       "version_minor": 0
      },
      "text/plain": [
       "Category https://shop.mango.com/de/madchen/t-shirts_c19045604:   0%|          | 0/120 [00:00<?, ?it/s]"
      ]
     },
     "metadata": {},
     "output_type": "display_data"
    },
    {
     "data": {
      "application/json": {
       "ascii": false,
       "bar_format": null,
       "colour": null,
       "elapsed": 0.013004779815673828,
       "initial": 0,
       "n": 0,
       "ncols": null,
       "nrows": 29,
       "postfix": null,
       "prefix": "Download Images",
       "rate": null,
       "total": 155,
       "unit": "it",
       "unit_divisor": 1000,
       "unit_scale": false
      },
      "application/vnd.jupyter.widget-view+json": {
       "model_id": "b93c3121c6604c8d837fe4e455250e76",
       "version_major": 2,
       "version_minor": 0
      },
      "text/plain": [
       "Download Images:   0%|          | 0/155 [00:00<?, ?it/s]"
      ]
     },
     "metadata": {},
     "output_type": "display_data"
    },
    {
     "name": "stdout",
     "output_type": "stream",
     "text": [
      "[2021-09-13 19:46:33,330] {_WebElements.py:88} DEBUG - Loading: https://shop.mango.com/de/teena/sweatshirts_c17476471\n"
     ]
    },
    {
     "data": {
      "application/json": {
       "ascii": false,
       "bar_format": null,
       "colour": null,
       "elapsed": 0.014002799987792969,
       "initial": 0,
       "n": 0,
       "ncols": null,
       "nrows": 29,
       "postfix": null,
       "prefix": "Category https://shop.mango.com/de/teena/sweatshirts_c17476471",
       "rate": null,
       "total": 13,
       "unit": "it",
       "unit_divisor": 1000,
       "unit_scale": false
      },
      "application/vnd.jupyter.widget-view+json": {
       "model_id": "79f2591b76834c3daefcdfae6583b38b",
       "version_major": 2,
       "version_minor": 0
      },
      "text/plain": [
       "Category https://shop.mango.com/de/teena/sweatshirts_c17476471:   0%|          | 0/13 [00:00<?, ?it/s]"
      ]
     },
     "metadata": {},
     "output_type": "display_data"
    },
    {
     "data": {
      "application/json": {
       "ascii": false,
       "bar_format": null,
       "colour": null,
       "elapsed": 0.013002395629882812,
       "initial": 0,
       "n": 0,
       "ncols": null,
       "nrows": 29,
       "postfix": null,
       "prefix": "Download Images",
       "rate": null,
       "total": 13,
       "unit": "it",
       "unit_divisor": 1000,
       "unit_scale": false
      },
      "application/vnd.jupyter.widget-view+json": {
       "model_id": "b85d5ce527404cdbb3cf370d77080105",
       "version_major": 2,
       "version_minor": 0
      },
      "text/plain": [
       "Download Images:   0%|          | 0/13 [00:00<?, ?it/s]"
      ]
     },
     "metadata": {},
     "output_type": "display_data"
    },
    {
     "name": "stdout",
     "output_type": "stream",
     "text": [
      "[2021-09-13 19:47:01,240] {_WebElements.py:88} DEBUG - Loading: https://shop.mango.com/de/teena/t-shirts_c63394451\n"
     ]
    },
    {
     "data": {
      "application/json": {
       "ascii": false,
       "bar_format": null,
       "colour": null,
       "elapsed": 0.014002084732055664,
       "initial": 0,
       "n": 0,
       "ncols": null,
       "nrows": 29,
       "postfix": null,
       "prefix": "Category https://shop.mango.com/de/teena/t-shirts_c63394451",
       "rate": null,
       "total": 53,
       "unit": "it",
       "unit_divisor": 1000,
       "unit_scale": false
      },
      "application/vnd.jupyter.widget-view+json": {
       "model_id": "c4774a63452642c28bb0fff8e15f6a5e",
       "version_major": 2,
       "version_minor": 0
      },
      "text/plain": [
       "Category https://shop.mango.com/de/teena/t-shirts_c63394451:   0%|          | 0/53 [00:00<?, ?it/s]"
      ]
     },
     "metadata": {},
     "output_type": "display_data"
    },
    {
     "data": {
      "application/json": {
       "ascii": false,
       "bar_format": null,
       "colour": null,
       "elapsed": 0.013003349304199219,
       "initial": 0,
       "n": 0,
       "ncols": null,
       "nrows": 29,
       "postfix": null,
       "prefix": "Download Images",
       "rate": null,
       "total": 54,
       "unit": "it",
       "unit_divisor": 1000,
       "unit_scale": false
      },
      "application/vnd.jupyter.widget-view+json": {
       "model_id": "3d74156dd56b424b864b4334958510df",
       "version_major": 2,
       "version_minor": 0
      },
      "text/plain": [
       "Download Images:   0%|          | 0/54 [00:00<?, ?it/s]"
      ]
     },
     "metadata": {},
     "output_type": "display_data"
    },
    {
     "name": "stdout",
     "output_type": "stream",
     "text": [
      "[2021-09-13 19:48:24,064] {_WebElements.py:110} DEBUG - Loading Sub Category https://shop.mango.com/de/herren\n"
     ]
    },
    {
     "data": {
      "application/json": {
       "ascii": false,
       "bar_format": null,
       "colour": null,
       "elapsed": 0.014002084732055664,
       "initial": 0,
       "n": 0,
       "ncols": null,
       "nrows": 29,
       "postfix": null,
       "prefix": "High Level",
       "rate": null,
       "total": 0,
       "unit": "it",
       "unit_divisor": 1000,
       "unit_scale": false
      },
      "application/vnd.jupyter.widget-view+json": {
       "model_id": "28b1577cbeae4be28ccb99c26ffd6723",
       "version_major": 2,
       "version_minor": 0
      },
      "text/plain": [
       "High Level: 0it [00:00, ?it/s]"
      ]
     },
     "metadata": {},
     "output_type": "display_data"
    }
   ],
   "source": [
    "logger = defaultLogger(\"Mango\")\n",
    "driver = util.web.dynamic.driver()\n",
    "mango = Mango(driver=driver, logger=logger)\n",
    "\n",
    "category_url = \"https://shop.mango.com/de/herren/polo-shirts_c20667557\"\n",
    "BASE_PATH = r\"F:\\workspace\\fascrapper\\scrap_results\\mango\"\n",
    "dl_settings = {\n",
    "    \"visited_db\": Json_DB(BASE_PATH, \"visited.json\"),\n",
    "    \"logger\": logger,\n",
    "    \"mango\": mango,\n",
    "    \"BASE_PATH\": BASE_PATH\n",
    "}\n",
    "dl_helper = DownloadHelper(**dl_settings)\n",
    "\n",
    "#response = dl_helper.download_images(category_url,IGNORE_CATEGORY_EXISTING=True)\n",
    "for i in range(2):\n",
    "    categories = mango.list_categories(\"https://shop.mango.com/de/herren\")\n",
    "    categories_filterd = [x for x in categories if \"shirt\" in x]\n",
    "\n",
    "    responses = [dl_helper.download_images(x, IGNORE_CATEGORY_EXISTING=True) for x in tqdm(categories_filterd, desc=\"High Level\")]"
   ]
  },
  {
   "cell_type": "code",
   "execution_count": 12,
   "id": "2967cd46",
   "metadata": {},
   "outputs": [
    {
     "data": {
      "text/plain": [
       "[{'exceptions': [],\n",
       "  'db_path': 'F:\\\\workspace\\\\fascrapper\\\\scrap_results\\\\mango\\\\damen\\\\shirts---tops_c66796663/data.json',\n",
       "  'num_exceptions': 0},\n",
       " {'exceptions': [],\n",
       "  'db_path': 'F:\\\\workspace\\\\fascrapper\\\\scrap_results\\\\mango\\\\damen\\\\sweatshirts_c12454089/data.json',\n",
       "  'num_exceptions': 0},\n",
       " {'exceptions': [],\n",
       "  'db_path': 'F:\\\\workspace\\\\fascrapper\\\\scrap_results\\\\mango\\\\herren\\\\polo-shirts_c20667557/data.json',\n",
       "  'num_exceptions': 0},\n",
       " {'exceptions': [],\n",
       "  'db_path': 'F:\\\\workspace\\\\fascrapper\\\\scrap_results\\\\mango\\\\herren\\\\sweatshirts_c71156082/data.json',\n",
       "  'num_exceptions': 0},\n",
       " {'exceptions': [],\n",
       "  'db_path': 'F:\\\\workspace\\\\fascrapper\\\\scrap_results\\\\mango\\\\herren\\\\t-shirts_c12018147/data.json',\n",
       "  'num_exceptions': 0},\n",
       " {'exceptions': [],\n",
       "  'db_path': 'F:\\\\workspace\\\\fascrapper\\\\scrap_results\\\\mango\\\\teena\\\\sweatshirts_c17476471/data.json',\n",
       "  'num_exceptions': 0},\n",
       " {'exceptions': [],\n",
       "  'db_path': 'F:\\\\workspace\\\\fascrapper\\\\scrap_results\\\\mango\\\\teena\\\\t-shirts_c63394451/data.json',\n",
       "  'num_exceptions': 0}]"
      ]
     },
     "execution_count": 12,
     "metadata": {},
     "output_type": "execute_result"
    }
   ],
   "source": [
    "responses"
   ]
  },
  {
   "cell_type": "code",
   "execution_count": null,
   "id": "df95c93d",
   "metadata": {},
   "outputs": [],
   "source": []
  },
  {
   "cell_type": "code",
   "execution_count": null,
   "id": "f7ab4d33",
   "metadata": {},
   "outputs": [],
   "source": []
  },
  {
   "cell_type": "code",
   "execution_count": null,
   "id": "2eeeb087",
   "metadata": {},
   "outputs": [],
   "source": []
  },
  {
   "cell_type": "code",
   "execution_count": null,
   "id": "cc23e1a3",
   "metadata": {},
   "outputs": [],
   "source": [
    "test_db = Json_DB(r\"F:\\workspace\\fascrapper\\scrap_results\\mango\\herren\\polo-shirts_c20667557\", \"data.json\")"
   ]
  },
  {
   "cell_type": "code",
   "execution_count": null,
   "id": "002ea4ab",
   "metadata": {},
   "outputs": [],
   "source": [
    "d = test_db.all()"
   ]
  },
  {
   "cell_type": "code",
   "execution_count": null,
   "id": "c1ec7529",
   "metadata": {},
   "outputs": [],
   "source": [
    "needle = d[0][\"url\"]\n",
    "len(test_db.search(where('url') == needle))\n"
   ]
  },
  {
   "cell_type": "code",
   "execution_count": null,
   "id": "d7bfc606",
   "metadata": {},
   "outputs": [],
   "source": []
  }
 ],
 "metadata": {
  "kernelspec": {
   "display_name": "Python 3",
   "language": "python",
   "name": "python3"
  },
  "language_info": {
   "codemirror_mode": {
    "name": "ipython",
    "version": 3
   },
   "file_extension": ".py",
   "mimetype": "text/x-python",
   "name": "python",
   "nbconvert_exporter": "python",
   "pygments_lexer": "ipython3",
   "version": "3.8.5"
  }
 },
 "nbformat": 4,
 "nbformat_minor": 5
}
