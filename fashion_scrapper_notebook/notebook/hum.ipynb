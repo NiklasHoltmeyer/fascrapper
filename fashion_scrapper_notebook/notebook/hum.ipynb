{
 "cells": [
  {
   "cell_type": "code",
   "execution_count": null,
   "id": "1517bdc3",
   "metadata": {},
   "outputs": [],
   "source": [
    "#https://www2.hm.com/"
   ]
  },
  {
   "cell_type": "code",
   "execution_count": null,
   "id": "951b7dee",
   "metadata": {},
   "outputs": [],
   "source": [
    "from scrapper.util.web.dynamic import driver as d_driver\n",
    "from default_logger.defaultLogger import defaultLogger\n",
    "from scrapper.util.list import flatten, distinct, includes_excludes_filter\n",
    "from scrapper.util.io import Json_DB\n",
    "from selenium.webdriver.common.by import By\n",
    "from selenium.webdriver.support import expected_conditions as EC\n",
    "\n",
    "from scrapper.brand.hm.webelements.consts.HM_Selectors import HM_Selectors\n",
    "from scrapper.util.list import flatten, distinct\n",
    "from scrapper.util.web.dynamic import wait\n",
    "from selenium.webdriver.common.by import By\n",
    "from selenium.webdriver.support import expected_conditions as EC\n",
    "from scrapper.util.web.dynamic import scroll_end_of_page\n",
    "from bs4 import BeautifulSoup\n",
    "from time import sleep"
   ]
  },
  {
   "cell_type": "code",
   "execution_count": null,
   "id": "51d5ada4",
   "metadata": {},
   "outputs": [],
   "source": [
    "BASE_URL = \"https://www2.hm.com/de_de/\"\n",
    "\n",
    "logger = defaultLogger(\"h&m\")\n"
   ]
  },
  {
   "cell_type": "code",
   "execution_count": null,
   "id": "f74b47d3",
   "metadata": {},
   "outputs": [],
   "source": [
    "driver = d_driver(headless=False)"
   ]
  },
  {
   "cell_type": "code",
   "execution_count": null,
   "id": "0342ec92",
   "metadata": {},
   "outputs": [],
   "source": [
    "from scrapper.brand.hm.HM import HM\n",
    "from scrapper.brand.hm.webelements.WebElements import WebElements\n",
    "from scrapper.brand.hm.webelements.views.HM_Article_Elements import HM_Article_Elements\n",
    "from scrapper.util.web.dynamic import driver as d_driver\n",
    "\n",
    "from scrapper.brand.hm.webelements.views.HM_Category_Elements import HM_Category_Elements"
   ]
  },
  {
   "cell_type": "code",
   "execution_count": null,
   "id": "2229ed88",
   "metadata": {},
   "outputs": [],
   "source": [
    "BASE = \"https://www2.hm.com/de_de/\""
   ]
  },
  {
   "cell_type": "code",
   "execution_count": null,
   "id": "5428b8b2",
   "metadata": {},
   "outputs": [],
   "source": [
    "url = \"https://www2.hm.com/de_de/damen/produkte/schuhe.html\""
   ]
  },
  {
   "cell_type": "code",
   "execution_count": null,
   "id": "1b75c77f",
   "metadata": {},
   "outputs": [],
   "source": [
    "class Demo:\n",
    "    def __init__(self, driver, logger):\n",
    "        self.driver = driver\n",
    "        self.logger = logger"
   ]
  },
  {
   "cell_type": "code",
   "execution_count": null,
   "id": "6fb7c34a",
   "metadata": {},
   "outputs": [],
   "source": [
    "driver.get(url)"
   ]
  },
  {
   "cell_type": "code",
   "execution_count": null,
   "id": "18c96b97",
   "metadata": {},
   "outputs": [],
   "source": [
    "\n",
    "demo = Demo(driver, logger)\n",
    "btn = HM_Category_Elements(demo)._load_more_button()"
   ]
  },
  {
   "cell_type": "code",
   "execution_count": null,
   "id": "3d614f42",
   "metadata": {},
   "outputs": [],
   "source": [
    "driver.get(url)\n",
    "HM_Category_Elements(demo).paginate_all_products()"
   ]
  },
  {
   "cell_type": "code",
   "execution_count": null,
   "id": "cc7c26f9",
   "metadata": {},
   "outputs": [],
   "source": [
    "def paginate_all_products(self):\n",
    "    while load_more_btn := self._load_more_button():        \n",
    "        scroll_end_of_page(self.driver)\n",
    "        load_more_btn.click()\n",
    "        sleep(0.2)\n",
    "    scroll_end_of_page(driver, SCROLL_TOP=True)\n",
    "    scroll_end_of_page(driver)"
   ]
  }
 ],
 "metadata": {
  "kernelspec": {
   "display_name": "Python 3",
   "language": "python",
   "name": "python3"
  },
  "language_info": {
   "codemirror_mode": {
    "name": "ipython",
    "version": 3
   },
   "file_extension": ".py",
   "mimetype": "text/x-python",
   "name": "python",
   "nbconvert_exporter": "python",
   "pygments_lexer": "ipython3",
   "version": "3.8.5"
  }
 },
 "nbformat": 4,
 "nbformat_minor": 5
}
