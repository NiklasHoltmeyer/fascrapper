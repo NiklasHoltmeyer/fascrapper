{
 "cells": [
  {
   "cell_type": "code",
   "execution_count": 2,
   "id": "c1016399",
   "metadata": {},
   "outputs": [],
   "source": [
    "%matplotlib inline\n",
    "import random\n",
    "\n",
    "import cv2\n",
    "from matplotlib import pyplot as plt"
   ]
  },
  {
   "cell_type": "code",
   "execution_count": 3,
   "id": "07548ae5",
   "metadata": {},
   "outputs": [],
   "source": [
    "import json as json_reader"
   ]
  },
  {
   "cell_type": "code",
   "execution_count": 4,
   "id": "644ec4d4",
   "metadata": {},
   "outputs": [],
   "source": [
    "f = open(r\"F:\\workspace\\datasets\\DeepFashion2 Dataset\\train\\train_coco.json\")\n",
    "train_coco = json_reader.load(f)"
   ]
  },
  {
   "cell_type": "code",
   "execution_count": 8,
   "id": "92e4cf6b",
   "metadata": {},
   "outputs": [
    {
     "data": {
      "text/plain": [
       "dict_keys(['info', 'licenses', 'images', 'annotations', 'categories'])"
      ]
     },
     "execution_count": 8,
     "metadata": {},
     "output_type": "execute_result"
    }
   ],
   "source": [
    "train_coco.keys()"
   ]
  },
  {
   "cell_type": "code",
   "execution_count": null,
   "id": "a5f66ada",
   "metadata": {},
   "outputs": [],
   "source": [
    "train_coco[\"categories\"][0]"
   ]
  },
  {
   "cell_type": "code",
   "execution_count": null,
   "id": "936d4d58",
   "metadata": {},
   "outputs": [],
   "source": []
  },
  {
   "cell_type": "code",
   "execution_count": 258,
   "id": "1ad24c6f",
   "metadata": {},
   "outputs": [],
   "source": [
    "category_id_to_name = [{'id': 1, 'name': 'short_sleeved_shirt', 'supercategory': 'clothes'},\n",
    " {'id': 2, 'name': 'long_sleeved_shirt', 'supercategory': 'clothes'},\n",
    " {'id': 3, 'name': 'short_sleeved_outwear', 'supercategory': 'clothes'},\n",
    " {'id': 4, 'name': 'long_sleeved_outwear', 'supercategory': 'clothes'},\n",
    " {'id': 5, 'name': 'vest', 'supercategory': 'clothes'},\n",
    " {'id': 6, 'name': 'sling', 'supercategory': 'clothes'},\n",
    " {'id': 7, 'name': 'shorts', 'supercategory': 'clothes'},\n",
    " {'id': 8, 'name': 'trousers', 'supercategory': 'clothes'},\n",
    " {'id': 9, 'name': 'skirt', 'supercategory': 'clothes'},\n",
    " {'id': 10, 'name': 'short_sleeved_dress', 'supercategory': 'clothes'},\n",
    " {'id': 11, 'name': 'long_sleeved_dress', 'supercategory': 'clothes'},\n",
    " {'id': 12, 'name': 'vest_dress', 'supercategory': 'clothes'},\n",
    " {'id': 13, 'name': 'sling_dress', 'supercategory': 'clothes'}]\n",
    "\n",
    "category_id_to_name_clean = {x[\"id\"]: {\"name\":x[\"name\"],\"supercategory\":x[\"supercategory\"]} for x in category_id_to_name}\n",
    "\n",
    "id_to_name = {d[\"id\"]:d[\"name\"] for d in category_id_to_name}"
   ]
  },
  {
   "cell_type": "code",
   "execution_count": null,
   "id": "376f7026",
   "metadata": {},
   "outputs": [],
   "source": [
    "BOX_COLOR = (255, 0, 0) # Red\n",
    "TEXT_COLOR = (255, 255, 255) # White\n",
    "\n",
    "\n",
    "def visualize_bbox(img, bbox, class_name, color=BOX_COLOR, thickness=2):\n",
    "    \"\"\"Visualizes a single bounding box on the image\"\"\"\n",
    "    x_min, y_min, w, h = bbox\n",
    "    x_min, x_max, y_min, y_max = int(x_min), int(x_min + w), int(y_min), int(y_min + h)\n",
    "   \n",
    "    cv2.rectangle(img, (x_min, y_min), (x_max, y_max), color=color, thickness=thickness)\n",
    "    \n",
    "    #((text_width, text_height), _) = cv2.getTextSize(class_name, cv2.FONT_HERSHEY_SIMPLEX, 0.35, 1)    \n",
    "    ((text_width, text_height), _) = cv2.getTextSize(class_name, cv2.FONT_HERSHEY_SIMPLEX, 0.35, 1)    \n",
    "    cv2.rectangle(img, (x_min, y_min - int(1.3 * text_height)), (x_min + text_width, y_min), BOX_COLOR, -1)\n",
    "    cv2.putText(\n",
    "        img,\n",
    "        text=class_name,\n",
    "        org=(x_min, y_min - int(0.3 * text_height)),\n",
    "        fontFace=cv2.FONT_HERSHEY_SIMPLEX,\n",
    "        fontScale=0.35, \n",
    "        color=TEXT_COLOR, \n",
    "        lineType=cv2.LINE_AA,\n",
    "    )\n",
    "    return img\n",
    "\n",
    "\n",
    "def visualize(image, bboxes, category_ids, category_id_to_name):\n",
    "    img = image.copy()\n",
    "    for bbox, category_id in zip(bboxes, category_ids):\n",
    "        class_name = category_id_to_name[category_id]\n",
    "        img = visualize_bbox(img, bbox, class_name)\n",
    "    plt.figure(figsize=(12, 12))\n",
    "    plt.axis('off')\n",
    "    plt.imshow(img)"
   ]
  },
  {
   "cell_type": "code",
   "execution_count": 264,
   "id": "a5c15b55",
   "metadata": {
    "scrolled": true
   },
   "outputs": [
    {
     "data": {
      "text/plain": [
       "{1: 'short_sleeved_shirt',\n",
       " 2: 'long_sleeved_shirt',\n",
       " 3: 'short_sleeved_outwear',\n",
       " 4: 'long_sleeved_outwear',\n",
       " 5: 'vest',\n",
       " 6: 'sling',\n",
       " 7: 'shorts',\n",
       " 8: 'trousers',\n",
       " 9: 'skirt',\n",
       " 10: 'short_sleeved_dress',\n",
       " 11: 'long_sleeved_dress',\n",
       " 12: 'vest_dress',\n",
       " 13: 'sling_dress'}"
      ]
     },
     "execution_count": 264,
     "metadata": {},
     "output_type": "execute_result"
    }
   ],
   "source": [
    "id_to_name"
   ]
  },
  {
   "cell_type": "code",
   "execution_count": null,
   "id": "535f2ade",
   "metadata": {},
   "outputs": [],
   "source": []
  },
  {
   "cell_type": "code",
   "execution_count": null,
   "id": "52e268d4",
   "metadata": {},
   "outputs": [],
   "source": []
  },
  {
   "cell_type": "code",
   "execution_count": 257,
   "id": "32bc843a",
   "metadata": {},
   "outputs": [
    {
     "data": {
      "text/plain": [
       "{1: 'short_sleeved_shirt',\n",
       " 2: 'long_sleeved_shirt',\n",
       " 3: 'short_sleeved_outwear',\n",
       " 4: 'long_sleeved_outwear',\n",
       " 5: 'vest',\n",
       " 6: 'sling',\n",
       " 7: 'shorts',\n",
       " 8: 'trousers',\n",
       " 9: 'skirt',\n",
       " 10: 'short_sleeved_dress',\n",
       " 11: 'long_sleeved_dress',\n",
       " 12: 'vest_dress',\n",
       " 13: 'sling_dress'}"
      ]
     },
     "execution_count": 257,
     "metadata": {},
     "output_type": "execute_result"
    }
   ],
   "source": [
    "#category_id_to_name[category_id]\n"
   ]
  },
  {
   "cell_type": "code",
   "execution_count": null,
   "id": "be0e8774",
   "metadata": {},
   "outputs": [],
   "source": []
  },
  {
   "cell_type": "code",
   "execution_count": 229,
   "id": "0600afad",
   "metadata": {},
   "outputs": [],
   "source": [
    "#bboxes = [[249, 423, 466-249, 623-423], [0, 29, 466-0, 622-29]]\n"
   ]
  },
  {
   "cell_type": "code",
   "execution_count": 251,
   "id": "0541e47b",
   "metadata": {},
   "outputs": [
    {
     "data": {
      "text/plain": [
       "[(249, 423, 217, 200), (0, 29, 466, 593)]"
      ]
     },
     "execution_count": 251,
     "metadata": {},
     "output_type": "execute_result"
    }
   ],
   "source": [
    "bboxes # x_min, y_min, x_max, y_max\n"
   ]
  },
  {
   "cell_type": "code",
   "execution_count": null,
   "id": "6f6e8912",
   "metadata": {},
   "outputs": [],
   "source": []
  },
  {
   "cell_type": "code",
   "execution_count": 245,
   "id": "7d6bf6cb",
   "metadata": {},
   "outputs": [
    {
     "data": {
      "text/plain": [
       "[(249, 423, 217, 200), (0, 29, 466, 593)]"
      ]
     },
     "execution_count": 245,
     "metadata": {},
     "output_type": "execute_result"
    }
   ],
   "source": [
    "clean_bboxes(bboxes)"
   ]
  },
  {
   "cell_type": "code",
   "execution_count": 241,
   "id": "fe4af42d",
   "metadata": {},
   "outputs": [
    {
     "data": {
      "text/plain": [
       "249"
      ]
     },
     "execution_count": 241,
     "metadata": {},
     "output_type": "execute_result"
    }
   ],
   "source": [
    "a"
   ]
  },
  {
   "cell_type": "code",
   "execution_count": 202,
   "id": "8c02c284",
   "metadata": {},
   "outputs": [
    {
     "data": {
      "text/plain": [
       "Resize(always_apply=False, p=1, height=256, width=256, interpolation=1)"
      ]
     },
     "execution_count": 202,
     "metadata": {},
     "output_type": "execute_result"
    }
   ],
   "source": []
  }
 ],
 "metadata": {
  "kernelspec": {
   "display_name": "Python 3",
   "language": "python",
   "name": "python3"
  },
  "language_info": {
   "codemirror_mode": {
    "name": "ipython",
    "version": 3
   },
   "file_extension": ".py",
   "mimetype": "text/x-python",
   "name": "python",
   "nbconvert_exporter": "python",
   "pygments_lexer": "ipython3",
   "version": "3.8.5"
  }
 },
 "nbformat": 4,
 "nbformat_minor": 5
}
